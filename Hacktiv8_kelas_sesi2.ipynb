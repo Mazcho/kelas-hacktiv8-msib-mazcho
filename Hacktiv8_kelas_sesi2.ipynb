{
 "cells": [
  {
   "cell_type": "code",
   "execution_count": 17,
   "id": "6aefc6cf",
   "metadata": {},
   "outputs": [
    {
     "name": "stdout",
     "output_type": "stream",
     "text": [
      "masukan jumlah pisang dibeli : 30\n",
      "Total Belanja Anda Adalah IDR 85500(90000 di diskon 5 %)\n"
     ]
    }
   ],
   "source": [
    "## Quiz 1\n",
    "jumlahPisang = input(\"masukan jumlah pisang dibeli : \")\n",
    "jumlahPisangint = int(jumlahPisang)\n",
    "hargaPisang = 3000\n",
    "totalHarga = jumlahPisangint*hargaPisang\n",
    "if  totalHarga > 100000:\n",
    "    diskon = 10\n",
    "    hargaPotongan=totalHarga*diskon//100\n",
    "    totalHargaBaru = totalHarga-hargaPotongan\n",
    "elif totalHarga>50000 and totalHarga<100000:\n",
    "    diskon = 5\n",
    "    hargaPotongan=totalHarga*diskon//100\n",
    "    totalHargaBaru = totalHarga-hargaPotongan\n",
    "else:\n",
    "    print(\"total harga :\",totalHarga)\n",
    "    \n",
    "print('Total Belanja Anda Adalah IDR {}({} di diskon {} %)'.format(totalHargaBaru,totalHarga,diskon))"
   ]
  },
  {
   "cell_type": "code",
   "execution_count": 19,
   "id": "378562ec",
   "metadata": {},
   "outputs": [
    {
     "name": "stdout",
     "output_type": "stream",
     "text": [
      "tua\n"
     ]
    }
   ],
   "source": [
    "umur  = 37\n",
    "s = \"tua\" if umur >=  35 else \"muda\"\n",
    "print(s)"
   ]
  },
  {
   "cell_type": "code",
   "execution_count": 20,
   "id": "0a993007",
   "metadata": {},
   "outputs": [
    {
     "name": "stdout",
     "output_type": "stream",
     "text": [
      "nama tidak ditemukan\n"
     ]
    }
   ],
   "source": [
    "nama = \"fahri\"\n",
    "n = 'in class' if nama in ['nicho','danang'] else 'nama tidak ditemukan'\n",
    "print(n)"
   ]
  },
  {
   "cell_type": "code",
   "execution_count": 24,
   "id": "323974a0",
   "metadata": {},
   "outputs": [
    {
     "name": "stdout",
     "output_type": "stream",
     "text": [
      "Kamu kaya banget \n"
     ]
    }
   ],
   "source": [
    "uang = 100000\n",
    "output ='Kamu kaya banget 'if uang >4000 else'Miskin banget lu'\n",
    "print(output)"
   ]
  },
  {
   "cell_type": "code",
   "execution_count": 34,
   "id": "1c1f0bbf",
   "metadata": {},
   "outputs": [
    {
     "name": "stdout",
     "output_type": "stream",
     "text": [
      "Berapa gaji anda  : 10000000\n",
      "Year of service  : 10\n",
      "Maaf! Anda tidak mednapatkan Bonus. Gaji anda IDR  10000000\n"
     ]
    }
   ],
   "source": [
    "#Quiz2\n",
    "inputGaji = input(\"Berapa gaji anda  : \")\n",
    "inputGaji = int(inputGaji)\n",
    "\n",
    "inputTahun = input(\"Year of service  : \")\n",
    "inputTahun = int(inputTahun)\n",
    "\n",
    "if inputTahun>10:\n",
    "    bonus = inputGaji*10//100\n",
    "    gaji = inputGaji + bonus\n",
    "    print(\"Selamat! Anda mendapatkan Bonus! Total Gaji anda IDR \",gaji)\n",
    "else:\n",
    "    print(\"Maaf! Anda tidak mednapatkan Bonus. Gaji anda IDR \",inputGaji)"
   ]
  },
  {
   "cell_type": "markdown",
   "id": "977f3f23",
   "metadata": {},
   "source": [
    "## loop"
   ]
  },
  {
   "cell_type": "code",
   "execution_count": 38,
   "id": "f67617ce",
   "metadata": {},
   "outputs": [
    {
     "name": "stdout",
     "output_type": "stream",
     "text": [
      "fooayam\n",
      "barayam\n",
      "bazayam\n",
      "quxayam\n",
      "quuxayam\n",
      "corgeayam\n"
     ]
    }
   ],
   "source": [
    "for i in ['foo','bar','baz','qux','quux','corge']:\n",
    "    print(i + 'ayam')"
   ]
  },
  {
   "cell_type": "code",
   "execution_count": 42,
   "id": "3909fd4d",
   "metadata": {},
   "outputs": [
    {
     "name": "stdout",
     "output_type": "stream",
     "text": [
      "1 Objek yang bisa dilakukan looping  = iterable\n",
      "2 Objek yang bisa dilakukan looping  = iterable\n",
      "3 Objek yang bisa dilakukan looping  = iterable\n",
      "4 Objek yang bisa dilakukan looping  = iterable\n"
     ]
    }
   ],
   "source": [
    "for i in[1,2,3,4]:\n",
    "    print(f'{i} Objek yang bisa dilakukan looping  = iterable')"
   ]
  },
  {
   "cell_type": "code",
   "execution_count": 43,
   "id": "3aaa2dab",
   "metadata": {},
   "outputs": [
    {
     "name": "stdout",
     "output_type": "stream",
     "text": [
      "s\n",
      "t\n",
      "r\n",
      "i\n",
      "n\n",
      "g\n"
     ]
    }
   ],
   "source": [
    "for i in \"string\":\n",
    "    print(i)"
   ]
  },
  {
   "cell_type": "markdown",
   "id": "e28b15c6",
   "metadata": {},
   "source": [
    "# WHILE"
   ]
  },
  {
   "cell_type": "code",
   "execution_count": 10,
   "id": "e293d8bd",
   "metadata": {},
   "outputs": [
    {
     "name": "stdout",
     "output_type": "stream",
     "text": [
      "4 di dalam keranjang\n",
      "Terlalu penuh\n",
      "3 di dalam keranjang\n",
      "Terlalu penuh\n",
      "2 di dalam keranjang\n",
      "Terlalu penuh\n",
      "1 di dalam keranjang\n",
      "Mantap\n",
      "0 di dalam keranjang\n",
      "Terlalu penuh\n"
     ]
    }
   ],
   "source": [
    "apel = 5\n",
    "while apel>0:\n",
    "    apel-=1\n",
    "    print(f'{apel} di dalam keranjang')\n",
    "    if apel==1:\n",
    "        print(\"Mantap\")\n",
    "    else:\n",
    "        print(\"Terlalu penuh\")"
   ]
  },
  {
   "cell_type": "code",
   "execution_count": null,
   "id": "48fce6cc",
   "metadata": {},
   "outputs": [],
   "source": [
    "apel = 5\n",
    "apel -=1\n",
    "print(apel)"
   ]
  },
  {
   "cell_type": "markdown",
   "id": "4d2f98ff",
   "metadata": {},
   "source": [
    "# BREAK"
   ]
  },
  {
   "cell_type": "code",
   "execution_count": 20,
   "id": "26e7ff3f",
   "metadata": {},
   "outputs": [
    {
     "name": "stdout",
     "output_type": "stream",
     "text": [
      "4\n",
      "3\n",
      "Looped ended\n"
     ]
    }
   ],
   "source": [
    "#Memberhentikan loop atau perulangan\n",
    "apel = 5\n",
    "while apel>0:\n",
    "    apel -= 1\n",
    "    if apel ==2:\n",
    "        break\n",
    "    print(apel)\n",
    "print(\"Looped ended\")"
   ]
  },
  {
   "cell_type": "code",
   "execution_count": 22,
   "id": "a0e393b4",
   "metadata": {},
   "outputs": [
    {
     "name": "stdout",
     "output_type": "stream",
     "text": [
      "4\n",
      "3\n",
      "2\n"
     ]
    }
   ],
   "source": [
    "#Memberhentikan loop atau perulangan\n",
    "apel = 5\n",
    "while apel>0:\n",
    "    apel -= 1\n",
    "    print(apel)\n",
    "    if apel ==2:\n",
    "        break\n",
    "else:\n",
    "    print(\"Looped ended\")"
   ]
  },
  {
   "cell_type": "markdown",
   "id": "51f22e80",
   "metadata": {},
   "source": [
    "## CONTINUE "
   ]
  },
  {
   "cell_type": "code",
   "execution_count": 17,
   "id": "06c91ed4",
   "metadata": {},
   "outputs": [
    {
     "name": "stdout",
     "output_type": "stream",
     "text": [
      "4\n",
      "3\n",
      "1\n",
      "0\n",
      "Looped ended\n"
     ]
    }
   ],
   "source": [
    "#melanjutkan loop atau perulangan berdasarkan kondisi\n",
    "apel = 5\n",
    "while apel>0:\n",
    "    apel -= 1\n",
    "    if apel ==2:\n",
    "        continue\n",
    "    print(apel)\n",
    "print(\"Looped ended\")"
   ]
  },
  {
   "cell_type": "code",
   "execution_count": 19,
   "id": "8d07456c",
   "metadata": {},
   "outputs": [
    {
     "name": "stdout",
     "output_type": "stream",
     "text": [
      "8\n",
      "6\n",
      "4\n",
      "2\n",
      "0\n",
      "Loop ended\n"
     ]
    }
   ],
   "source": [
    "#while else\n",
    "apel = 10\n",
    "while apel > 0:\n",
    "    apel -=2\n",
    "    print(apel)\n",
    "else:\n",
    "    print(\"Loop ended\")"
   ]
  },
  {
   "cell_type": "markdown",
   "id": "ef02a358",
   "metadata": {},
   "source": [
    "## Nested IF = Else & Loops "
   ]
  },
  {
   "cell_type": "code",
   "execution_count": 25,
   "id": "c531768f",
   "metadata": {},
   "outputs": [
    {
     "name": "stdout",
     "output_type": "stream",
     "text": [
      "Daugther\n"
     ]
    }
   ],
   "source": [
    "#nested if \n",
    "umur = 23\n",
    "gender = 'S'\n",
    "if umur  >18:\n",
    "    if gender =='M':\n",
    "        print('son')\n",
    "    else:\n",
    "        print('Daugther')\n"
   ]
  },
  {
   "cell_type": "markdown",
   "id": "a3830996",
   "metadata": {},
   "source": [
    "## For Loop "
   ]
  },
  {
   "cell_type": "code",
   "execution_count": 32,
   "id": "e3878331",
   "metadata": {},
   "outputs": [
    {
     "name": "stdout",
     "output_type": "stream",
     "text": [
      "Nicho\n",
      "2\n",
      "3\n",
      "4\n",
      "5\n",
      "6\n"
     ]
    }
   ],
   "source": [
    "a = ['Nicho',2,3,4,5,6]\n",
    "for i in a:\n",
    "    print(i)"
   ]
  },
  {
   "cell_type": "code",
   "execution_count": 35,
   "id": "fd9a128f",
   "metadata": {},
   "outputs": [
    {
     "name": "stdout",
     "output_type": "stream",
     "text": [
      "Budi\n",
      "Joko\n",
      "Anwar\n"
     ]
    }
   ],
   "source": [
    "b = ['Budi','Joko','Anwar']\n",
    "for i in b:\n",
    "    print(i)"
   ]
  },
  {
   "cell_type": "code",
   "execution_count": 2,
   "id": "9f94a82e",
   "metadata": {},
   "outputs": [
    {
     "name": "stdout",
     "output_type": "stream",
     "text": [
      "Budi\n",
      "B\n",
      "u\n",
      "d\n",
      "i\n",
      "Joko\n",
      "J\n",
      "o\n",
      "k\n",
      "o\n",
      "Anwar\n",
      "A\n",
      "n\n",
      "w\n",
      "a\n",
      "r\n"
     ]
    }
   ],
   "source": [
    "b = ['Budi','Joko','Anwar']\n",
    "for i in b: #isi dari i adalah list dari b\n",
    "    print(i)\n",
    "    for j in i: #isi dari j adalah i. Jika isinya 'budi' brati anggota j = b,u,d,i\n",
    "        print(j)"
   ]
  },
  {
   "cell_type": "code",
   "execution_count": 5,
   "id": "fc13ff86",
   "metadata": {},
   "outputs": [
    {
     "name": "stdout",
     "output_type": "stream",
     "text": [
      "B\n",
      "u\n",
      "d\n",
      "i\n",
      "J\n",
      "o\n",
      "k\n",
      "o\n"
     ]
    }
   ],
   "source": [
    "b = ['Budi','Joko','Anwar']\n",
    "for i in b:\n",
    "    if i == \"Anwar\":\n",
    "        continue\n",
    "    for j in i:\n",
    "        print(j)"
   ]
  },
  {
   "cell_type": "code",
   "execution_count": 61,
   "id": "da3fff84",
   "metadata": {},
   "outputs": [
    {
     "name": "stdout",
     "output_type": "stream",
     "text": [
      "A\n",
      "B\n",
      "C\n",
      "Bekasi\n",
      "Jakarta\n",
      "Medan\n"
     ]
    }
   ],
   "source": [
    "dictionary_a = {'A':'Bekasi',\n",
    "               'B':'Jakarta',\n",
    "               'C':'Medan'}\n",
    "for i in dictionary_a: # ngeprint keys\n",
    "    print(i)\n",
    "    \n",
    "for i in dictionary_a: # ngeprint  values\n",
    "    print(dictionary_a[i])"
   ]
  },
  {
   "cell_type": "code",
   "execution_count": 67,
   "id": "60760bcc",
   "metadata": {},
   "outputs": [
    {
     "name": "stdout",
     "output_type": "stream",
     "text": [
      "A\n"
     ]
    }
   ],
   "source": [
    "dictionary_a = {'A':'Bekasi',\n",
    "               'B':'Jakarta',\n",
    "               'C':'Medan'}\n",
    "for i in dictionary_a: # ngeprint keys\n",
    "    if i =='A':\n",
    "        print(i)"
   ]
  },
  {
   "cell_type": "code",
   "execution_count": 70,
   "id": "f218dd37",
   "metadata": {},
   "outputs": [
    {
     "name": "stdout",
     "output_type": "stream",
     "text": [
      "aster\n",
      "hachi\n"
     ]
    }
   ],
   "source": [
    "for i in ['aster','jubah','Nambo','hachi']:\n",
    "    if 'b' in i:\n",
    "        continue #melanjutkan\n",
    "    print(i)"
   ]
  },
  {
   "cell_type": "code",
   "execution_count": 72,
   "id": "85a3d42c",
   "metadata": {},
   "outputs": [
    {
     "name": "stdout",
     "output_type": "stream",
     "text": [
      "aster\n",
      "jubah\n",
      "Nambo\n",
      "hachi\n"
     ]
    }
   ],
   "source": [
    "for i in ['aster','jubah','Nambo','hachi']:\n",
    "    if 'b' in i:\n",
    "        pass #mengabaikan if, jadi pass itu tidak mempedulikankondisi (operasi kosong)\n",
    "    print(i)"
   ]
  },
  {
   "cell_type": "code",
   "execution_count": 71,
   "id": "a704011e",
   "metadata": {},
   "outputs": [
    {
     "name": "stdout",
     "output_type": "stream",
     "text": [
      "aster\n"
     ]
    }
   ],
   "source": [
    "for i in ['aster','jubah','Nambo','hachi']:\n",
    "    if 'b' in i:\n",
    "        break #break memotogng \n",
    "    print(i)"
   ]
  },
  {
   "cell_type": "markdown",
   "id": "02f9f449",
   "metadata": {},
   "source": [
    "1.  loop itu keseluruhan iterasi objek 1 loop\n",
    "2.  iterasi adalah istilah 1 putaran loop\n",
    "3.  continue memberhentikan iterasi dan lanjut ke iterasi berikutnya\n",
    "4.  break akan memberhentikan looping keseluruhan"
   ]
  },
  {
   "cell_type": "code",
   "execution_count": 75,
   "id": "e5ae2ed2",
   "metadata": {},
   "outputs": [
    {
     "name": "stdout",
     "output_type": "stream",
     "text": [
      "aster\n",
      "jubah\n",
      "Nambo\n",
      "hachi\n",
      "loop Done\n"
     ]
    }
   ],
   "source": [
    "for i in ['aster','jubah','Nambo','hachi']:\n",
    "    print(i)\n",
    "else:\n",
    "    print('loop Done')"
   ]
  },
  {
   "cell_type": "code",
   "execution_count": 82,
   "id": "22d5351f",
   "metadata": {},
   "outputs": [
    {
     "name": "stdout",
     "output_type": "stream",
     "text": [
      "1\n",
      "2\n",
      "3\n",
      "4\n",
      "5\n",
      "6\n",
      "7\n",
      "8\n",
      "9\n",
      "10\n",
      "11\n",
      "12\n",
      "13\n",
      "14\n",
      "15\n",
      "16\n",
      "17\n",
      "18\n",
      "19\n",
      "20\n",
      "21\n",
      "22\n",
      "23\n",
      "24\n",
      "25\n",
      "26\n",
      "27\n",
      "28\n",
      "29\n",
      "30\n",
      "31\n",
      "32\n",
      "33\n",
      "34\n",
      "35\n",
      "36\n",
      "37\n",
      "38\n",
      "39\n",
      "40\n",
      "41\n",
      "42\n",
      "43\n",
      "44\n",
      "45\n",
      "46\n",
      "47\n",
      "48\n",
      "49\n",
      "50\n"
     ]
    }
   ],
   "source": [
    "for i in range(1,50+1):\n",
    "    print(i)"
   ]
  },
  {
   "cell_type": "code",
   "execution_count": 78,
   "id": "1d2244b6",
   "metadata": {},
   "outputs": [
    {
     "name": "stdout",
     "output_type": "stream",
     "text": [
      "range(2, 4)\n"
     ]
    }
   ],
   "source": [
    "print(range(2,4))"
   ]
  },
  {
   "cell_type": "markdown",
   "id": "5f26e05a",
   "metadata": {},
   "source": [
    "## ITEMS"
   ]
  },
  {
   "cell_type": "code",
   "execution_count": 95,
   "id": "7b4db48e",
   "metadata": {},
   "outputs": [
    {
     "name": "stdout",
     "output_type": "stream",
     "text": [
      "1 4 7\n",
      "2 5 8\n",
      "3 6 9\n"
     ]
    }
   ],
   "source": [
    "a= [1,2,3]\n",
    "b= [4,5,6]\n",
    "c= [7,8,9]\n",
    "for i,j,k in zip(a,b,c):\n",
    "    print(i,j,k)\n",
    "    \n",
    "    ## zip menyatukan 2 list "
   ]
  },
  {
   "cell_type": "code",
   "execution_count": 106,
   "id": "cbe1d818",
   "metadata": {},
   "outputs": [
    {
     "name": "stdout",
     "output_type": "stream",
     "text": [
      "1\n",
      "GENAP\n",
      "3\n",
      "GENAP\n",
      "5\n",
      "GENAP\n",
      "7\n",
      "GENAP\n",
      "9\n",
      "GENAP\n",
      "11\n",
      "GENAP\n",
      "13\n",
      "GENAP\n",
      "15\n",
      "GENAP\n",
      "17\n",
      "GENAP\n",
      "19\n",
      "GENAP\n"
     ]
    }
   ],
   "source": [
    "a = range(1,20+1)\n",
    "\n",
    "for i in a:\n",
    "    if i%2==1:\n",
    "        print(i)\n",
    "    else:\n",
    "        print('GENAP')"
   ]
  },
  {
   "cell_type": "code",
   "execution_count": 107,
   "id": "c18b1b74",
   "metadata": {},
   "outputs": [
    {
     "name": "stdout",
     "output_type": "stream",
     "text": [
      "1\n",
      "GENAP\n",
      "3\n",
      "GENAP\n",
      "5\n",
      "GENAP\n",
      "7\n",
      "GENAP\n",
      "9\n",
      "GENAP\n",
      "11\n",
      "GENAP\n",
      "13\n",
      "GENAP\n",
      "15\n",
      "GENAP\n",
      "17\n",
      "GENAP\n",
      "19\n",
      "GENAP\n"
     ]
    }
   ],
   "source": [
    "i = 1\n",
    "while i<21 :\n",
    "    if i%2 == 1:\n",
    "        print(i)\n",
    "    else:\n",
    "        print(\"GENAP\")\n",
    "    i +=1"
   ]
  },
  {
   "cell_type": "code",
   "execution_count": 4,
   "id": "1995c000",
   "metadata": {},
   "outputs": [
    {
     "name": "stdout",
     "output_type": "stream",
     "text": [
      "False\n",
      "True\n"
     ]
    }
   ],
   "source": [
    "b = ['Budi','Joko','Anwar']\n",
    "\n",
    "print('dzaki' in b)\n",
    "print('Joko' in b)"
   ]
  },
  {
   "cell_type": "code",
   "execution_count": null,
   "id": "1e203aa1",
   "metadata": {},
   "outputs": [],
   "source": []
  }
 ],
 "metadata": {
  "kernelspec": {
   "display_name": "Python 3 (ipykernel)",
   "language": "python",
   "name": "python3"
  },
  "language_info": {
   "codemirror_mode": {
    "name": "ipython",
    "version": 3
   },
   "file_extension": ".py",
   "mimetype": "text/x-python",
   "name": "python",
   "nbconvert_exporter": "python",
   "pygments_lexer": "ipython3",
   "version": "3.9.12"
  }
 },
 "nbformat": 4,
 "nbformat_minor": 5
}
