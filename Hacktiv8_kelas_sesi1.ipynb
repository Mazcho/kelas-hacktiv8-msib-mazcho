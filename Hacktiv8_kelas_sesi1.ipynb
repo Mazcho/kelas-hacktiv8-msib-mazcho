{
 "cells": [
  {
   "cell_type": "code",
   "execution_count": 1,
   "id": "c816d55b-e7cb-4ffe-abe8-9cb5a716fe6f",
   "metadata": {},
   "outputs": [
    {
     "name": "stdout",
     "output_type": "stream",
     "text": [
      "saya\n"
     ]
    }
   ],
   "source": [
    "print(\"saya\")"
   ]
  },
  {
   "cell_type": "code",
   "execution_count": 6,
   "id": "bc3f8a77-0f39-4990-b1e4-28aeec072501",
   "metadata": {},
   "outputs": [
    {
     "name": "stdout",
     "output_type": "stream",
     "text": [
      "Halo\n"
     ]
    }
   ],
   "source": [
    "print(\"Halo\")"
   ]
  },
  {
   "cell_type": "code",
   "execution_count": 7,
   "id": "eea8e744-8d60-49cd-80c7-0b880766fc05",
   "metadata": {},
   "outputs": [
    {
     "name": "stdout",
     "output_type": "stream",
     "text": [
      "<class 'str'>\n"
     ]
    }
   ],
   "source": [
    "print(type(\"Halo\"))"
   ]
  },
  {
   "cell_type": "markdown",
   "id": "e146a209-98d3-48d6-9fd3-6260219acfa2",
   "metadata": {},
   "source": [
    "## Integer = Bilangan Bulat"
   ]
  },
  {
   "cell_type": "markdown",
   "id": "fc3242e8-bf55-4220-a298-66c61753ce9b",
   "metadata": {},
   "source": [
    "Integer adalah angka yang terdiri dari bnilangan bulat"
   ]
  },
  {
   "cell_type": "code",
   "execution_count": 5,
   "id": "91517f28-b8e1-4b8a-ac05-d5c57e7ff345",
   "metadata": {},
   "outputs": [
    {
     "data": {
      "text/plain": [
       "6"
      ]
     },
     "execution_count": 5,
     "metadata": {},
     "output_type": "execute_result"
    }
   ],
   "source": [
    "1\n",
    "2\n",
    "3\n",
    "4\n",
    "5\n",
    "6"
   ]
  },
  {
   "cell_type": "code",
   "execution_count": 10,
   "id": "b92675ac-66a2-4d82-950f-d2ab4911f96b",
   "metadata": {},
   "outputs": [
    {
     "name": "stdout",
     "output_type": "stream",
     "text": [
      "<class 'int'>\n"
     ]
    }
   ],
   "source": [
    "print(type(1))"
   ]
  },
  {
   "cell_type": "markdown",
   "id": "046e7102-65d5-45a6-896e-223589280cee",
   "metadata": {},
   "source": [
    "### FLOAT"
   ]
  },
  {
   "cell_type": "markdown",
   "id": "187265ee-50f3-4b91-9016-928f0ba615c4",
   "metadata": {},
   "source": [
    "float adalha bilangan pecahan"
   ]
  },
  {
   "cell_type": "code",
   "execution_count": 11,
   "id": "75c75948-9a22-4266-8c78-37ffcaa28633",
   "metadata": {},
   "outputs": [
    {
     "name": "stdout",
     "output_type": "stream",
     "text": [
      "3.5\n"
     ]
    }
   ],
   "source": [
    "print(3.5)"
   ]
  },
  {
   "cell_type": "code",
   "execution_count": 12,
   "id": "7a83016e-9de8-44df-bacc-d9e056084bc0",
   "metadata": {},
   "outputs": [
    {
     "name": "stdout",
     "output_type": "stream",
     "text": [
      "2.3\n"
     ]
    }
   ],
   "source": [
    "print(2.3)"
   ]
  },
  {
   "cell_type": "code",
   "execution_count": 13,
   "id": "5442f639-76bc-413c-aff6-e08a1dbd4ec4",
   "metadata": {},
   "outputs": [
    {
     "name": "stdout",
     "output_type": "stream",
     "text": [
      "<class 'float'>\n"
     ]
    }
   ],
   "source": [
    "print(type(2.3))"
   ]
  },
  {
   "cell_type": "markdown",
   "id": "57003614-c07d-4e16-a9d5-ba270c7afbef",
   "metadata": {},
   "source": [
    "## ini adlah bilangan eksponen"
   ]
  },
  {
   "cell_type": "code",
   "execution_count": 14,
   "id": "04a89f98-53dc-4759-9d6d-15f5c1a7b6bc",
   "metadata": {},
   "outputs": [
    {
     "name": "stdout",
     "output_type": "stream",
     "text": [
      "0.00042\n"
     ]
    }
   ],
   "source": [
    "print(4.2e-4)"
   ]
  },
  {
   "cell_type": "code",
   "execution_count": 15,
   "id": "1f1b1d87-0647-467a-a9a8-4e5e5cfd06c0",
   "metadata": {},
   "outputs": [
    {
     "name": "stdout",
     "output_type": "stream",
     "text": [
      "42000000.0\n"
     ]
    }
   ],
   "source": [
    "print(4.2e7)"
   ]
  },
  {
   "cell_type": "code",
   "execution_count": 16,
   "id": "93094208-6e62-40a8-acc7-ab02b14149ef",
   "metadata": {},
   "outputs": [
    {
     "name": "stdout",
     "output_type": "stream",
     "text": [
      "<class 'float'>\n"
     ]
    }
   ],
   "source": [
    "print(type(4.2e7))"
   ]
  },
  {
   "cell_type": "markdown",
   "id": "e87834db-4976-46f9-8074-89a81db92f08",
   "metadata": {},
   "source": [
    "## STRING"
   ]
  },
  {
   "cell_type": "markdown",
   "id": "1bc0a218-925d-4d07-b995-e8583fd07094",
   "metadata": {},
   "source": [
    "## data yang sifatnya karakter bukan numerik"
   ]
  },
  {
   "cell_type": "code",
   "execution_count": 17,
   "id": "85010c10-022a-4025-8e4b-2c0985f804ba",
   "metadata": {},
   "outputs": [
    {
     "name": "stdout",
     "output_type": "stream",
     "text": [
      "Nama Saya nicholaus verdhy\n"
     ]
    }
   ],
   "source": [
    "print(\"Nama Saya nicholaus verdhy\")"
   ]
  },
  {
   "cell_type": "code",
   "execution_count": 18,
   "id": "b4fdb094-95bf-41fa-9838-b582ba881104",
   "metadata": {},
   "outputs": [
    {
     "name": "stdout",
     "output_type": "stream",
     "text": [
      "SAya suka bermain Sepak Bola\n"
     ]
    }
   ],
   "source": [
    "print(\"SAya suka bermain Sepak Bola\")"
   ]
  },
  {
   "cell_type": "markdown",
   "id": "efd18aa5-06a8-44be-b3b1-3aaf6e0aa5b9",
   "metadata": {},
   "source": [
    "## BOOLEAN"
   ]
  },
  {
   "cell_type": "code",
   "execution_count": 20,
   "id": "85928796-d916-4d3f-becb-5e4dc22fd1f7",
   "metadata": {},
   "outputs": [
    {
     "data": {
      "text/plain": [
       "False"
      ]
     },
     "execution_count": 20,
     "metadata": {},
     "output_type": "execute_result"
    }
   ],
   "source": [
    "True\n",
    "False"
   ]
  },
  {
   "cell_type": "code",
   "execution_count": 21,
   "id": "23f94df5-43fe-4fc0-adca-b1c2a1df2c4c",
   "metadata": {},
   "outputs": [
    {
     "name": "stdout",
     "output_type": "stream",
     "text": [
      "<class 'bool'>\n"
     ]
    }
   ],
   "source": [
    "print(type(True))"
   ]
  },
  {
   "cell_type": "code",
   "execution_count": 22,
   "id": "4331987a-4fd5-4368-90e2-85a091cd80d7",
   "metadata": {},
   "outputs": [
    {
     "name": "stdout",
     "output_type": "stream",
     "text": [
      "<class 'bool'>\n"
     ]
    }
   ],
   "source": [
    "print(type(False))"
   ]
  },
  {
   "cell_type": "markdown",
   "id": "abfdbff5-6204-46b7-9ab1-18c20430d33a",
   "metadata": {},
   "source": [
    "Tipe data yg sering diapkai\n",
    " > integer\n",
    "> float\n",
    "> string\n",
    "> boolean"
   ]
  },
  {
   "cell_type": "markdown",
   "id": "6a9cf27d-1990-4acb-b9b7-e5678892bd10",
   "metadata": {},
   "source": [
    "## Variabel"
   ]
  },
  {
   "cell_type": "code",
   "execution_count": 23,
   "id": "660b541f-6ecb-48ce-a808-c07f3ff6fa0d",
   "metadata": {},
   "outputs": [
    {
     "name": "stdout",
     "output_type": "stream",
     "text": [
      "300\n",
      "<class 'int'>\n",
      "<class 'int'>\n"
     ]
    }
   ],
   "source": [
    "angka = 300\n",
    "print(angka)\n",
    "print(type(angka))\n",
    "print(type(300))"
   ]
  },
  {
   "cell_type": "code",
   "execution_count": 25,
   "id": "0c3b46d0-800a-470c-b941-97828fc3a4ae",
   "metadata": {},
   "outputs": [
    {
     "name": "stdout",
     "output_type": "stream",
     "text": [
      "haha\n",
      "<class 'str'>\n"
     ]
    }
   ],
   "source": [
    "teks = \"haha\"\n",
    "print(teks)\n",
    "print(type(teks))"
   ]
  },
  {
   "cell_type": "code",
   "execution_count": 26,
   "id": "1755d414-8375-4045-991f-1c696ef36fa4",
   "metadata": {},
   "outputs": [],
   "source": [
    "a = b = c  =300"
   ]
  },
  {
   "cell_type": "code",
   "execution_count": 27,
   "id": "158f558e-81ff-43b7-bcbc-567b4215d39a",
   "metadata": {},
   "outputs": [
    {
     "name": "stdout",
     "output_type": "stream",
     "text": [
      "300 300 300\n"
     ]
    }
   ],
   "source": [
    "print(a,b,c)"
   ]
  },
  {
   "cell_type": "code",
   "execution_count": 28,
   "id": "1428eca8-5f8f-4e20-8786-b64f11583609",
   "metadata": {},
   "outputs": [
    {
     "name": "stdout",
     "output_type": "stream",
     "text": [
      "<class 'int'>\n"
     ]
    }
   ],
   "source": [
    "print(type(b))"
   ]
  },
  {
   "cell_type": "code",
   "execution_count": 31,
   "id": "b289846a-8444-4a93-8eae-3180e3439e66",
   "metadata": {},
   "outputs": [
    {
     "name": "stdout",
     "output_type": "stream",
     "text": [
      "Bekasi\n"
     ]
    }
   ],
   "source": [
    "rumah_saya = \"Bekasi\"\n",
    "print(rumah_saya)"
   ]
  },
  {
   "cell_type": "code",
   "execution_count": 33,
   "id": "f17fc40e-ef4f-4a0c-93d7-717a589500e0",
   "metadata": {},
   "outputs": [
    {
     "name": "stdout",
     "output_type": "stream",
     "text": [
      "Bekasi\n",
      "Jakarta\n"
     ]
    }
   ],
   "source": [
    "rumah = \"Bekasi\"\n",
    "Rumah = \"Jakarta\"\n",
    "print(rumah)\n",
    "print(Rumah)"
   ]
  },
  {
   "cell_type": "markdown",
   "id": "f416181a-64a7-41de-abe8-55f4e667b69b",
   "metadata": {
    "jp-MarkdownHeadingCollapsed": true,
    "tags": []
   },
   "source": [
    "Grup variable tidak boleh dimulai dengan angka"
   ]
  },
  {
   "cell_type": "markdown",
   "id": "a7fd311e-2c4f-4156-b0dc-37043dcfa376",
   "metadata": {},
   "source": [
    "## operators"
   ]
  },
  {
   "cell_type": "code",
   "execution_count": 36,
   "id": "5d82d167-c587-4621-a883-1fd14f3bd834",
   "metadata": {},
   "outputs": [
    {
     "name": "stdout",
     "output_type": "stream",
     "text": [
      "30\n"
     ]
    }
   ],
   "source": [
    "a = 10\n",
    "b = 20\n",
    "print(a+b)"
   ]
  },
  {
   "cell_type": "code",
   "execution_count": 38,
   "id": "e86cfc35-1bb6-40d9-98fb-5ab1a4898bc4",
   "metadata": {},
   "outputs": [
    {
     "name": "stdout",
     "output_type": "stream",
     "text": [
      "-10\n"
     ]
    }
   ],
   "source": [
    "#pengurangan\n",
    "print(a-b)"
   ]
  },
  {
   "cell_type": "code",
   "execution_count": 39,
   "id": "86eed9c6-b0c7-40d1-bc1a-44ed890fb17b",
   "metadata": {},
   "outputs": [
    {
     "name": "stdout",
     "output_type": "stream",
     "text": [
      "200\n"
     ]
    }
   ],
   "source": [
    "#perkalian\n",
    "print(a*b)"
   ]
  },
  {
   "cell_type": "code",
   "execution_count": 40,
   "id": "ca9aa4fb-3651-47d1-b346-d159fd9b79ee",
   "metadata": {},
   "outputs": [
    {
     "name": "stdout",
     "output_type": "stream",
     "text": [
      "0.5\n"
     ]
    }
   ],
   "source": [
    "#pembagian\n",
    "print(a/b)"
   ]
  },
  {
   "cell_type": "code",
   "execution_count": 44,
   "id": "6629c0bc-4e2b-419c-ac36-f60fad163548",
   "metadata": {},
   "outputs": [
    {
     "name": "stdout",
     "output_type": "stream",
     "text": [
      "1\n",
      "1.5\n",
      "<class 'int'>\n",
      "<class 'float'>\n"
     ]
    }
   ],
   "source": [
    "#dobel slash, pembulatan kebawah\n",
    "print(3//2)\n",
    "print(3/2)\n",
    "print(type(3//2))\n",
    "print(type(3/2))"
   ]
  },
  {
   "cell_type": "code",
   "execution_count": 47,
   "id": "bd4d557d-61dd-49be-8f1f-a0663c38763a",
   "metadata": {},
   "outputs": [
    {
     "name": "stdout",
     "output_type": "stream",
     "text": [
      "1\n",
      "1.5\n"
     ]
    }
   ],
   "source": [
    "#modulo\n",
    "print(3%2) #sisa dari hasil bagi\n",
    "print(3/2)"
   ]
  },
  {
   "cell_type": "code",
   "execution_count": 48,
   "id": "7ff4b4b3-0075-48f1-bcd0-1452b985253e",
   "metadata": {},
   "outputs": [
    {
     "name": "stdout",
     "output_type": "stream",
     "text": [
      "49\n",
      "25\n"
     ]
    }
   ],
   "source": [
    "# pangkat\n",
    "print(7**2)\n",
    "print(5**2)"
   ]
  },
  {
   "cell_type": "code",
   "execution_count": 52,
   "id": "4dc410a0-5404-4c52-8573-cc369999a597",
   "metadata": {},
   "outputs": [
    {
     "name": "stdout",
     "output_type": "stream",
     "text": [
      " Konversi suhu celcius ke farenheit\n",
      "86.0\n"
     ]
    }
   ],
   "source": [
    "c = 30\n",
    "print(\" Konversi suhu celcius ke farenheit\")\n",
    "konversi  = (9/5*c) +32\n",
    "print(konversi)\n",
    "      "
   ]
  },
  {
   "cell_type": "markdown",
   "id": "38d5aadc-df4d-46e1-9714-fb144410495e",
   "metadata": {},
   "source": [
    "## comparison operators"
   ]
  },
  {
   "cell_type": "code",
   "execution_count": 53,
   "id": "dda808eb-0f4d-4b2c-a105-d70574a13358",
   "metadata": {},
   "outputs": [],
   "source": [
    "c= 10\n",
    "b = 30"
   ]
  },
  {
   "cell_type": "code",
   "execution_count": 59,
   "id": "ec60a163-779b-40a5-b1fb-4e1208be50f7",
   "metadata": {},
   "outputs": [],
   "source": [
    "rumah1 = \"bekasi\"\n",
    "rumah2 = \"jakarta\""
   ]
  },
  {
   "cell_type": "code",
   "execution_count": 60,
   "id": "d2f72893-e171-486e-8110-4c4c1707832f",
   "metadata": {},
   "outputs": [
    {
     "name": "stdout",
     "output_type": "stream",
     "text": [
      "False\n"
     ]
    }
   ],
   "source": [
    "# persamaan\n",
    "print(c==b)"
   ]
  },
  {
   "cell_type": "code",
   "execution_count": 61,
   "id": "fcb9444b-c17d-4d73-a4aa-5e0e0ac4aa72",
   "metadata": {},
   "outputs": [
    {
     "name": "stdout",
     "output_type": "stream",
     "text": [
      "False\n",
      "True\n",
      "True\n",
      "False\n"
     ]
    }
   ],
   "source": [
    "print(c>b)\n",
    "print(b>c)\n",
    "print(c<b)\n",
    "print(b<c)"
   ]
  },
  {
   "cell_type": "code",
   "execution_count": 62,
   "id": "743dbf53-addf-4e39-ac7c-6cf93ef44d85",
   "metadata": {},
   "outputs": [
    {
     "name": "stdout",
     "output_type": "stream",
     "text": [
      "True\n",
      "False\n"
     ]
    }
   ],
   "source": [
    "print(c!=b)\n",
    "print(c!=c)"
   ]
  },
  {
   "cell_type": "code",
   "execution_count": 63,
   "id": "c8e7b5c1-5807-4227-9553-c49e33bf38f4",
   "metadata": {},
   "outputs": [
    {
     "name": "stdout",
     "output_type": "stream",
     "text": [
      "True\n"
     ]
    }
   ],
   "source": [
    "print(rumah1!=rumah2)"
   ]
  },
  {
   "cell_type": "markdown",
   "id": "cb5b0985-68fe-4cbc-8e61-ac841873e33b",
   "metadata": {},
   "source": [
    "## string manipulasi"
   ]
  },
  {
   "cell_type": "code",
   "execution_count": 67,
   "id": "0e2bf261-d7d0-47b1-ac68-8758852aeb77",
   "metadata": {},
   "outputs": [
    {
     "name": "stdout",
     "output_type": "stream",
     "text": [
      "foobaz\n"
     ]
    }
   ],
   "source": [
    "# + guna untuk menambahkan str\n",
    "s = 'foo'\n",
    "t = 'bar'\n",
    "u = 'baz'\n",
    "print(s+u)"
   ]
  },
  {
   "cell_type": "code",
   "execution_count": 68,
   "id": "7533f9a3-841f-4637-b72b-a83c20742150",
   "metadata": {},
   "outputs": [
    {
     "name": "stdout",
     "output_type": "stream",
     "text": [
      "foofoofoofoofoofoofoofoofoofoo\n"
     ]
    }
   ],
   "source": [
    "# operator *\n",
    "print(s*10)"
   ]
  },
  {
   "cell_type": "code",
   "execution_count": 70,
   "id": "584da3da-51d0-4481-92de-f9cc93dfa2e2",
   "metadata": {},
   "outputs": [
    {
     "name": "stdout",
     "output_type": "stream",
     "text": [
      "True\n",
      "False\n"
     ]
    }
   ],
   "source": [
    "#operator in guna untuk ngecek apakahakah kata buah ada di string tsb\n",
    "a='buah'\n",
    "print(a in \"saya mau beli buah\")\n",
    "print(a in \"saya mau beli singkong\")"
   ]
  },
  {
   "cell_type": "code",
   "execution_count": 72,
   "id": "1965c387-e8d6-4359-b30d-e0d1ca9ba4b4",
   "metadata": {},
   "outputs": [
    {
     "name": "stdout",
     "output_type": "stream",
     "text": [
      "True\n"
     ]
    }
   ],
   "source": [
    "print(a in [\"buah\",\"ayam\"])"
   ]
  },
  {
   "cell_type": "code",
   "execution_count": 77,
   "id": "785dfa10-b25b-40f8-bbf7-121af70bf1cf",
   "metadata": {},
   "outputs": [
    {
     "name": "stdout",
     "output_type": "stream",
     "text": [
      "BUAH\n"
     ]
    }
   ],
   "source": [
    "#case comparison\n",
    "a = \"BuaH\"\n",
    "print(a.upper())"
   ]
  },
  {
   "cell_type": "code",
   "execution_count": 78,
   "id": "581126d1-1761-4881-885a-7d26b40ff6e5",
   "metadata": {},
   "outputs": [
    {
     "name": "stdout",
     "output_type": "stream",
     "text": [
      "Buah\n"
     ]
    }
   ],
   "source": [
    "print(a.capitalize())"
   ]
  },
  {
   "cell_type": "code",
   "execution_count": 79,
   "id": "62ac3b19-c0cf-4342-b9b1-72cc87171611",
   "metadata": {},
   "outputs": [
    {
     "name": "stdout",
     "output_type": "stream",
     "text": [
      "buah\n"
     ]
    }
   ],
   "source": [
    "print(a.lower())"
   ]
  },
  {
   "cell_type": "code",
   "execution_count": 84,
   "id": "56e642c0-867a-4bb0-bae3-f8be7ef79909",
   "metadata": {},
   "outputs": [
    {
     "name": "stdout",
     "output_type": "stream",
     "text": [
      "Saya lagi makan syur\n"
     ]
    }
   ],
   "source": [
    "c = \"sAyA LAGI MAKan SyUR\"\n",
    "print(c.capitalize())"
   ]
  },
  {
   "cell_type": "code",
   "execution_count": 85,
   "id": "aa1b3375-2cc6-4d75-9332-edce3096330a",
   "metadata": {},
   "outputs": [
    {
     "name": "stdout",
     "output_type": "stream",
     "text": [
      "SaYa lagi makAN sYur\n"
     ]
    }
   ],
   "source": [
    "print(c.swapcase())"
   ]
  },
  {
   "cell_type": "markdown",
   "id": "685305d9-1605-4acc-9a9e-4e2441f2ff78",
   "metadata": {},
   "source": [
    "## PYTHON LIST"
   ]
  },
  {
   "cell_type": "code",
   "execution_count": 88,
   "id": "e73ea216-7a98-4798-abe9-6f76b2f44654",
   "metadata": {},
   "outputs": [
    {
     "data": {
      "text/plain": [
       "['saya', 'mau', 'makan']"
      ]
     },
     "execution_count": 88,
     "metadata": {},
     "output_type": "execute_result"
    }
   ],
   "source": [
    "a = ['saya','mau','makan']\n",
    "a"
   ]
  },
  {
   "cell_type": "code",
   "execution_count": 89,
   "id": "37aca6fc-76e6-47de-a849-8d1a2cf4b2b4",
   "metadata": {},
   "outputs": [
    {
     "name": "stdout",
     "output_type": "stream",
     "text": [
      "<class 'list'>\n"
     ]
    }
   ],
   "source": [
    "print(type(a))"
   ]
  },
  {
   "cell_type": "code",
   "execution_count": 90,
   "id": "f99b8eea-ed1a-402d-980b-1087ca900814",
   "metadata": {},
   "outputs": [
    {
     "data": {
      "text/plain": [
       "['saya', 1, True]"
      ]
     },
     "execution_count": 90,
     "metadata": {},
     "output_type": "execute_result"
    }
   ],
   "source": [
    "b = ['saya',1,True]\n",
    "b"
   ]
  },
  {
   "cell_type": "markdown",
   "id": "704a7edc-4116-4fae-aae5-be4086fdf86e",
   "metadata": {},
   "source": [
    "List lebih mementingkan urutan pada list yang sduah ada"
   ]
  },
  {
   "cell_type": "markdown",
   "id": "e0e4d26d-d425-4350-91da-e931596febbf",
   "metadata": {},
   "source": [
    "## INDEXING DAN SLICING"
   ]
  },
  {
   "cell_type": "code",
   "execution_count": 91,
   "id": "9bcdb304-ef3b-4569-b490-accde85ac10f",
   "metadata": {},
   "outputs": [
    {
     "data": {
      "text/plain": [
       "['foo', 'bar', 'baz', 'uqx', 'quux', 'corge']"
      ]
     },
     "execution_count": 91,
     "metadata": {},
     "output_type": "execute_result"
    }
   ],
   "source": [
    "a = ['foo','bar','baz','uqx','quux','corge']\n",
    "a"
   ]
  },
  {
   "cell_type": "code",
   "execution_count": 95,
   "id": "5fcf733a-bbda-4f2b-a2ae-8b62164a3068",
   "metadata": {},
   "outputs": [
    {
     "name": "stdout",
     "output_type": "stream",
     "text": [
      "foo\n",
      "uqx\n"
     ]
    }
   ],
   "source": [
    "print(a[0])\n",
    "print(a[3])"
   ]
  },
  {
   "attachments": {
    "3ed493ba-dda7-496e-9493-ad4f2918ebb7.png": {
     "image/png": "[encoded data removed]"
    }
   },
   "cell_type": "markdown",
   "id": "05ca2996-8c55-421d-a446-b9a849f6d6e2",
   "metadata": {},
   "source": [
    "![image.png](attachment:3ed493ba-dda7-496e-9493-ad4f2918ebb7.png)"
   ]
  },
  {
   "cell_type": "code",
   "execution_count": 96,
   "id": "004da741-9b71-4bec-b7d5-5331cd1a5c73",
   "metadata": {},
   "outputs": [
    {
     "name": "stdout",
     "output_type": "stream",
     "text": [
      "True\n"
     ]
    }
   ],
   "source": [
    "print(a[-6] == a[0])"
   ]
  },
  {
   "cell_type": "code",
   "execution_count": 97,
   "id": "056ae3bb-4bc0-4592-98a2-a12d1148ee1c",
   "metadata": {},
   "outputs": [
    {
     "name": "stdout",
     "output_type": "stream",
     "text": [
      "b\n",
      "u\n"
     ]
    }
   ],
   "source": [
    "x = \"budi\"\n",
    "print(x[0])\n",
    "print(x[1])"
   ]
  },
  {
   "cell_type": "code",
   "execution_count": 115,
   "id": "e84473e1-31fb-4b20-b5d3-5f369f564cb5",
   "metadata": {},
   "outputs": [
    {
     "name": "stdout",
     "output_type": "stream",
     "text": [
      "['foo', 'bar', 'baz', 'uqx', 'quux']\n"
     ]
    }
   ],
   "source": [
    "#slicing\n",
    "a = ['foo','bar','baz','uqx','quux','corge']\n",
    "print(a[0:5])\n",
    "# [ start (indeks dari 0) : stop (indeks dari 1)]"
   ]
  },
  {
   "cell_type": "code",
   "execution_count": 116,
   "id": "daed5f96-064e-4fe1-83d3-1fc56b901f77",
   "metadata": {},
   "outputs": [
    {
     "name": "stdout",
     "output_type": "stream",
     "text": [
      "ud\n",
      "udi\n"
     ]
    }
   ],
   "source": [
    "x = \"budi\"\n",
    "print(x[1:3])\n",
    "print(x[1:])"
   ]
  },
  {
   "cell_type": "code",
   "execution_count": 117,
   "id": "d3525258-ac4c-40d5-8ad1-4978db20ce3e",
   "metadata": {},
   "outputs": [
    {
     "name": "stdout",
     "output_type": "stream",
     "text": [
      "Tingkir Suryanegara\n"
     ]
    }
   ],
   "source": [
    "y = \"jaka Tingkir Suryanegara\"\n",
    "print(y[5:])"
   ]
  },
  {
   "cell_type": "markdown",
   "id": "3aa52a33-0038-4959-acfa-9d3c0a1c27d3",
   "metadata": {},
   "source": [
    "## Prinsip Slicing\n",
    "[START:STEP:STOP]\n",
    "indeks selalu dari 0 start maupun stop\n"
   ]
  },
  {
   "cell_type": "code",
   "execution_count": 118,
   "id": "dd4ebfa0-589d-477b-b573-7d845889a1f2",
   "metadata": {},
   "outputs": [
    {
     "name": "stdout",
     "output_type": "stream",
     "text": [
      "jaka Tingkir Suryanegara\n"
     ]
    }
   ],
   "source": [
    "print(y[0:])\n"
   ]
  },
  {
   "cell_type": "code",
   "execution_count": 139,
   "id": "44e1188b-e8f5-4b9d-8d63-1a79db97a85e",
   "metadata": {},
   "outputs": [
    {
     "name": "stdout",
     "output_type": "stream",
     "text": [
      "aragenayruS rikgniT akaj\n"
     ]
    }
   ],
   "source": [
    "#kebalik\n",
    "print(y[-1::-1])\n"
   ]
  },
  {
   "cell_type": "code",
   "execution_count": 1,
   "id": "f9f3bcca-9053-46e3-bdb1-afd034ba96d8",
   "metadata": {},
   "outputs": [
    {
     "name": "stdout",
     "output_type": "stream",
     "text": [
      "komitmen\n",
      "i\n",
      "omi\n",
      "tmen\n",
      "kmte\n",
      "kmtn\n"
     ]
    }
   ],
   "source": [
    "a = \"komitmen\"\n",
    "print(a)\n",
    "print(a[3:4])\n",
    "print(a[1:4])\n",
    "print(a[4:])\n",
    "print(a[::2])\n",
    "print(a[0]+a[2]+a[4]+a[-1])"
   ]
  },
  {
   "cell_type": "code",
   "execution_count": 144,
   "id": "ffd165d6-b552-4376-bf3c-4aad26150057",
   "metadata": {},
   "outputs": [
    {
     "name": "stdout",
     "output_type": "stream",
     "text": [
      "kmtn\n"
     ]
    }
   ],
   "source": [
    "print(a[:5:2]+a[a.index('n')])"
   ]
  },
  {
   "cell_type": "code",
   "execution_count": null,
   "id": "d8f64152",
   "metadata": {},
   "outputs": [],
   "source": []
  },
  {
   "cell_type": "code",
   "execution_count": 2,
   "id": "27cf1eee-1b57-4351-abe0-178305f5cd7e",
   "metadata": {},
   "outputs": [
    {
     "name": "stdout",
     "output_type": "stream",
     "text": [
      "['faa', 'bar', 'baz', 'uqx', 'quux', 'corge']\n",
      "['faa', 'bar', 'baz', 'Rozak', 'quux', 'corge']\n"
     ]
    }
   ],
   "source": [
    "a = ['foo','bar','baz','uqx','quux','corge']\n",
    "a[0] = 'faa'\n",
    "print(a)\n",
    "a[3]=\"Rozak\"\n",
    "print(a)"
   ]
  },
  {
   "cell_type": "code",
   "execution_count": null,
   "id": "c7b9f059",
   "metadata": {},
   "outputs": [],
   "source": []
  },
  {
   "cell_type": "code",
   "execution_count": 147,
   "id": "eaeaf0b3-9da8-4c3e-9c15-a0ee434ff60a",
   "metadata": {
    "collapsed": true
   },
   "outputs": [
    {
     "name": "stdout",
     "output_type": "stream",
     "text": [
      "['faa', 'Nicho', 'baz', 'uqx', 'quux', 'corge']\n"
     ]
    }
   ],
   "source": [
    "#update\n",
    "a[a.index('bar')] = \"Nicho\"\n",
    "print(a)"
   ]
  },
  {
   "cell_type": "code",
   "execution_count": 148,
   "id": "5b6b064c-583c-438f-bbc2-cb9bff92e73f",
   "metadata": {},
   "outputs": [
    {
     "name": "stdout",
     "output_type": "stream",
     "text": [
      "['Nicho', 'baz', 'uqx', 'quux', 'corge']\n"
     ]
    }
   ],
   "source": [
    "#delete command in list\n",
    "del a[0]\n",
    "print(a)"
   ]
  },
  {
   "cell_type": "code",
   "execution_count": 151,
   "id": "52059682-9907-4390-a511-1a35c6570670",
   "metadata": {},
   "outputs": [
    {
     "name": "stdout",
     "output_type": "stream",
     "text": [
      "['baz', 'uqx', 'quux', 'corge']\n"
     ]
    }
   ],
   "source": [
    "del a[a.index(\"Nicho\")]\n",
    "print(a)"
   ]
  },
  {
   "cell_type": "code",
   "execution_count": 153,
   "id": "afcc71fa-4743-45b3-8504-04db1dde4375",
   "metadata": {},
   "outputs": [
    {
     "name": "stdout",
     "output_type": "stream",
     "text": [
      "[1, 2, 3, 'uqx', 'quux', 'corge']\n"
     ]
    }
   ],
   "source": [
    "b = ['foo','bar','baz','uqx','quux','corge']\n",
    "b[0:3] = [1,2,3]\n",
    "print(b)"
   ]
  },
  {
   "cell_type": "markdown",
   "id": "eeed59e2-75cb-4ca5-93f0-23deb157bb12",
   "metadata": {},
   "source": [
    "## TUPLE"
   ]
  },
  {
   "cell_type": "code",
   "execution_count": 156,
   "id": "1d8ef399-86d8-4668-b6ad-0b578771cc07",
   "metadata": {},
   "outputs": [
    {
     "name": "stdout",
     "output_type": "stream",
     "text": [
      "<class 'tuple'>\n"
     ]
    }
   ],
   "source": [
    "t = ('foo','bar','baz','uqx','quux','corge')\n",
    "print(type(t))"
   ]
  },
  {
   "cell_type": "code",
   "execution_count": 157,
   "id": "b9866cde-db77-4b08-81af-b6cf8942b464",
   "metadata": {},
   "outputs": [
    {
     "name": "stdout",
     "output_type": "stream",
     "text": [
      "('foo', 'bar', 'baz')\n"
     ]
    }
   ],
   "source": [
    "print(t[0:3])"
   ]
  },
  {
   "cell_type": "markdown",
   "id": "47f4415c-c416-497c-a4a6-7c7ad418a436",
   "metadata": {},
   "source": [
    "## DICTIONARY"
   ]
  },
  {
   "cell_type": "code",
   "execution_count": 159,
   "id": "68d375ca-0d76-4f87-a6b1-ee9a3e8e3198",
   "metadata": {},
   "outputs": [
    {
     "name": "stdout",
     "output_type": "stream",
     "text": [
      "Vandal\n"
     ]
    }
   ],
   "source": [
    "senjataku = {\n",
    "    \"rifle\":\"Vandal\",\n",
    "    \"sniper\":\"Operator\",\n",
    "    \"pistol\":\"Ghost\"\n",
    "}\n",
    "print(senjataku[\"rifle\"])"
   ]
  },
  {
   "cell_type": "code",
   "execution_count": 164,
   "id": "13b8e04a-58e6-447f-9450-02bcc2f26b6f",
   "metadata": {},
   "outputs": [
    {
     "name": "stdout",
     "output_type": "stream",
     "text": [
      "{'rifle': 'Vandal', 'sniper': 'Operator', 'pistol': 'Ghost', 'shotgun': 'Bucky'}\n"
     ]
    }
   ],
   "source": [
    "#insert\n",
    "senjataku[\"shotgun\"]=\"Bucky\"\n",
    "print(senjataku)"
   ]
  },
  {
   "cell_type": "code",
   "execution_count": 165,
   "id": "91f0290d-9dff-48f3-b6c0-aaccd455c0db",
   "metadata": {},
   "outputs": [
    {
     "name": "stdout",
     "output_type": "stream",
     "text": [
      "{'rifle': 'Vandal', 'sniper': 'Operator', 'pistol': 'Ghost', 'shotgun': 'Judge'}\n"
     ]
    }
   ],
   "source": [
    "#update\n",
    "senjataku[\"shotgun\"]=\"Judge\"\n",
    "print(senjataku)"
   ]
  },
  {
   "cell_type": "code",
   "execution_count": 166,
   "id": "8f256a04-800c-475c-be09-5630235d5495",
   "metadata": {},
   "outputs": [],
   "source": [
    "mahasiswa ={}\n",
    "type(mahasiswa)\n",
    "\n",
    "mahasiswa['fname'] = \"Nicholaus\"\n",
    "mahasiswa['lname'] = \"Putranto\"\n",
    "mahasiswa['nim']=\"A11.2020.12447\"\n",
    "mahasiswa['jurusan']='Teknik Informatika'\n",
    "mahasiswa['hobi']=['maingame','koding','tidur'] #list\n",
    "mahasiswa['hewan']={\"anjing\":\"Tongki\",\"Anjing\":\"Moly\"}"
   ]
  },
  {
   "cell_type": "code",
   "execution_count": 167,
   "id": "7ac66a7f-a4f2-4bca-9326-1e705c5b7ecc",
   "metadata": {},
   "outputs": [
    {
     "name": "stdout",
     "output_type": "stream",
     "text": [
      "Nicholaus\n"
     ]
    }
   ],
   "source": [
    "print(mahasiswa['fname'])"
   ]
  },
  {
   "cell_type": "code",
   "execution_count": 168,
   "id": "a0bcf03d-e2dd-4b6a-9a24-6937f17f4fa6",
   "metadata": {},
   "outputs": [
    {
     "name": "stdout",
     "output_type": "stream",
     "text": [
      "True\n"
     ]
    }
   ],
   "source": [
    "print(True and True) #22 nya bener atau memenuhi syarat"
   ]
  },
  {
   "cell_type": "code",
   "execution_count": 169,
   "id": "c877561a-2187-4ad0-9717-0d314e15386c",
   "metadata": {},
   "outputs": [
    {
     "name": "stdout",
     "output_type": "stream",
     "text": [
      "False\n"
     ]
    }
   ],
   "source": [
    "print(True and False) "
   ]
  },
  {
   "cell_type": "code",
   "execution_count": 170,
   "id": "c6c0ceea-93eb-4843-a7f8-3b960fd55e83",
   "metadata": {},
   "outputs": [
    {
     "name": "stdout",
     "output_type": "stream",
     "text": [
      "True\n"
     ]
    }
   ],
   "source": [
    "print(True or False)"
   ]
  },
  {
   "cell_type": "markdown",
   "id": "86212d2a-f043-404e-87da-c6d36d8fd12c",
   "metadata": {},
   "source": [
    "## MATERI TAMBAHAN\n",
    "    "
   ]
  },
  {
   "cell_type": "code",
   "execution_count": 181,
   "id": "ba53d49f-e938-4013-81cd-592dd4e754e7",
   "metadata": {},
   "outputs": [
    {
     "name": "stdout",
     "output_type": "stream",
     "text": [
      "['toyota', 'Xenia', 'Pajero']\n"
     ]
    }
   ],
   "source": [
    "mobil = [\"toyota\",\"Xenia\"]\n",
    "mobil.append(\"Pajero\")\n",
    "print(mobil)"
   ]
  },
  {
   "cell_type": "code",
   "execution_count": 183,
   "id": "b643f889-c0ac-4a55-8088-881e4c394fdc",
   "metadata": {},
   "outputs": [
    {
     "name": "stdout",
     "output_type": "stream",
     "text": [
      "['toyota', 'Xenia', 'Pajero']\n"
     ]
    }
   ],
   "source": [
    "kendaraan = mobil.copy()\n",
    "print(kendaraan)"
   ]
  },
  {
   "cell_type": "code",
   "execution_count": null,
   "id": "cabe60af-9271-4a1d-bf6f-3a80c98d19d1",
   "metadata": {},
   "outputs": [],
   "source": []
  }
 ],
 "metadata": {
  "kernelspec": {
   "display_name": "Python 3 (ipykernel)",
   "language": "python",
   "name": "python3"
  },
  "language_info": {
   "codemirror_mode": {
    "name": "ipython",
    "version": 3
   },
   "file_extension": ".py",
   "mimetype": "text/x-python",
   "name": "python",
   "nbconvert_exporter": "python",
   "pygments_lexer": "ipython3",
   "version": "3.9.12"
  }
 },
 "nbformat": 4,
 "nbformat_minor": 5
}
