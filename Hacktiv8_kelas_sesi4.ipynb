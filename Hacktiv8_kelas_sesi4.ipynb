{
 "cells": [
  {
   "cell_type": "code",
   "execution_count": 26,
   "id": "eecefcfd",
   "metadata": {},
   "outputs": [
    {
     "name": "stdout",
     "output_type": "stream",
     "text": [
      " Masukan Angka 1 = 21\n",
      "Masukan Operator angkanya :\n",
      "Masukan  Angka 2 = 1\n",
      "21\n",
      "None\n"
     ]
    }
   ],
   "source": [
    "#quiz\n",
    "def tambah (a,b):\n",
    "    print(a+b) \n",
    "\n",
    "def kurang(a,b):\n",
    "    print(a-b)\n",
    "\n",
    "def kali (a,b):\n",
    "    print(a*b)\n",
    "\n",
    "def bagi (a,b):\n",
    "    print(a//b)\n",
    "\n",
    "def pangkat (a,b):\n",
    "    print(a**b)\n",
    "    \n",
    "try:\n",
    "    a = int(input(\" Masukan Angka 1 = \"))\n",
    "    c = input(\"Masukan Operator angkanya \")\n",
    "    b = int(input(\"Masukan  Angka 2 = \"))\n",
    "\n",
    "    if c == \"+\":\n",
    "        print(tambah(a,b))\n",
    "    elif c ==\"-\":\n",
    "        kurang(a,b)\n",
    "        print(kurang(a,b))\n",
    "    elif c ==\"x\":\n",
    "        print(kali(a,b))\n",
    "    elif c ==\":\":\n",
    "        print(bagi(a,b))\n",
    "    else:\n",
    "        print(\"Operator tidak ditemukan\")\n",
    "\n",
    "except ValueError:\n",
    "    print(\"Tipe data salah\")"
   ]
  },
  {
   "cell_type": "markdown",
   "id": "25e262aa",
   "metadata": {},
   "source": [
    "# Array"
   ]
  },
  {
   "cell_type": "code",
   "execution_count": 24,
   "id": "ccc0afc1",
   "metadata": {},
   "outputs": [],
   "source": [
    "import numpy as np"
   ]
  },
  {
   "cell_type": "code",
   "execution_count": 37,
   "id": "0535e3dd",
   "metadata": {},
   "outputs": [
    {
     "name": "stdout",
     "output_type": "stream",
     "text": [
      "[3 4 5 6 7 8]\n",
      "[1 2 3]\n"
     ]
    }
   ],
   "source": [
    "# one dimensional array\n",
    "c = np.array([1,2,3]) \n",
    "d = np.array([1,2,3,4,5,6,7,8])\n",
    "print(d[2:9])\n",
    "print(c)"
   ]
  },
  {
   "cell_type": "markdown",
   "id": "bc0c5ed2",
   "metadata": {},
   "source": [
    "## Indexing dan slicing pada Array "
   ]
  },
  {
   "cell_type": "code",
   "execution_count": null,
   "id": "6ca67367",
   "metadata": {},
   "outputs": [],
   "source": []
  },
  {
   "cell_type": "code",
   "execution_count": 38,
   "id": "c3eae050",
   "metadata": {},
   "outputs": [
    {
     "data": {
      "text/plain": [
       "1"
      ]
     },
     "execution_count": 38,
     "metadata": {},
     "output_type": "execute_result"
    }
   ],
   "source": [
    "c[0]"
   ]
  },
  {
   "cell_type": "code",
   "execution_count": 39,
   "id": "3380f1c9",
   "metadata": {},
   "outputs": [
    {
     "data": {
      "text/plain": [
       "2"
      ]
     },
     "execution_count": 39,
     "metadata": {},
     "output_type": "execute_result"
    }
   ],
   "source": [
    "c[1]"
   ]
  },
  {
   "cell_type": "code",
   "execution_count": 40,
   "id": "e04567ae",
   "metadata": {},
   "outputs": [
    {
     "data": {
      "text/plain": [
       "3"
      ]
     },
     "execution_count": 40,
     "metadata": {},
     "output_type": "execute_result"
    }
   ],
   "source": [
    "c[2]"
   ]
  },
  {
   "cell_type": "code",
   "execution_count": 41,
   "id": "9ffcea31",
   "metadata": {},
   "outputs": [
    {
     "name": "stdout",
     "output_type": "stream",
     "text": [
      "[3, 4, 5, 6, 7, 8]\n"
     ]
    }
   ],
   "source": [
    "array_1 = [1,2,3,4,5,6,7,8]\n",
    "print(array_1[2:9])"
   ]
  },
  {
   "cell_type": "code",
   "execution_count": 45,
   "id": "7f6c1b39",
   "metadata": {},
   "outputs": [
    {
     "name": "stdout",
     "output_type": "stream",
     "text": [
      "[[1 2 3]\n",
      " [4 5 6]\n",
      " [7 8 9]]\n",
      "(3, 3)\n"
     ]
    }
   ],
   "source": [
    "list_of_list = ([1,2,3],[4,5,6],[7,8,9])\n",
    "\n",
    "array2=np.array(list_of_list)\n",
    "print(array2) # array 2d axis = 0 row, axis 1 = colom\n",
    "print(array2.shape)"
   ]
  },
  {
   "cell_type": "code",
   "execution_count": 47,
   "id": "a930c165",
   "metadata": {},
   "outputs": [
    {
     "name": "stdout",
     "output_type": "stream",
     "text": [
      "[[1 2]\n",
      " [4 5]\n",
      " [7 8]]\n",
      "(3, 2)\n"
     ]
    }
   ],
   "source": [
    "list_of_list2 = ([1,2],[4,5],[7,8])\n",
    "array3 = np.array(list_of_list2)\n",
    "print(array3)\n",
    "print(array3.shape)"
   ]
  },
  {
   "cell_type": "markdown",
   "id": "2dc40487",
   "metadata": {},
   "source": [
    "## Creating Array"
   ]
  },
  {
   "cell_type": "code",
   "execution_count": 52,
   "id": "b88c5caf",
   "metadata": {},
   "outputs": [
    {
     "name": "stdout",
     "output_type": "stream",
     "text": [
      "[0. 0. 0. 0. 0. 0. 0. 0.]\n",
      "[[0. 0.]\n",
      " [0. 0.]\n",
      " [0. 0.]]\n"
     ]
    }
   ],
   "source": [
    "#zeros, mengisi array  dengan nilai 0\n",
    "\n",
    "print(np.zeros(8)) #1d\n",
    "print(np.zeros([3,2])) # 3 baris, 2 kolom, 2D"
   ]
  },
  {
   "cell_type": "code",
   "execution_count": 54,
   "id": "029ac421",
   "metadata": {},
   "outputs": [
    {
     "name": "stdout",
     "output_type": "stream",
     "text": [
      "[1. 1. 1. 1.]\n",
      "[[1. 1.]\n",
      " [1. 1.]\n",
      " [1. 1.]\n",
      " [1. 1.]]\n"
     ]
    }
   ],
   "source": [
    "#np ones\n",
    "print(np.ones(4))\n",
    "print(np.ones((4,2))) # 4 baris, 2 kolom"
   ]
  },
  {
   "cell_type": "code",
   "execution_count": 55,
   "id": "4a3f014c",
   "metadata": {},
   "outputs": [
    {
     "data": {
      "text/plain": [
       "array([[0., 0.],\n",
       "       [0., 0.],\n",
       "       [0., 0.]])"
      ]
     },
     "execution_count": 55,
     "metadata": {},
     "output_type": "execute_result"
    }
   ],
   "source": [
    "#np empty\n",
    "\n",
    "np.empty(5)\n",
    "np.empty((3,2))"
   ]
  },
  {
   "cell_type": "code",
   "execution_count": 59,
   "id": "4dffba9e",
   "metadata": {},
   "outputs": [
    {
     "name": "stdout",
     "output_type": "stream",
     "text": [
      "[0 1 2 3 4 5 6 7 8 9]\n",
      "[0 2 4 6 8]\n"
     ]
    }
   ],
   "source": [
    "#np arange seperti range pada python\n",
    "print(np.arange(10))\n",
    "print(np.arange(0,10,2)) #strat, stop, step"
   ]
  },
  {
   "cell_type": "code",
   "execution_count": 61,
   "id": "3c49fe07",
   "metadata": {},
   "outputs": [
    {
     "name": "stdout",
     "output_type": "stream",
     "text": [
      "[ 0  1  2  3  4  5  6  7  8  9 10 11 12 13 14 15 16 17 18 19 20 21 22 23\n",
      " 24 25 26 27 28 29]\n",
      " \n",
      "[ 0  4  8 12 16 20 24 28]\n"
     ]
    }
   ],
   "source": [
    "print(np.arange(30))\n",
    "print(\" \")\n",
    "print(np.arange(0,30,4)) #strat, stop, step"
   ]
  },
  {
   "cell_type": "code",
   "execution_count": 62,
   "id": "90cfe41c",
   "metadata": {},
   "outputs": [
    {
     "data": {
      "text/plain": [
       "array([ 1,  2,  3,  4,  5,  6,  7,  8,  9, 10, 11])"
      ]
     },
     "execution_count": 62,
     "metadata": {},
     "output_type": "execute_result"
    }
   ],
   "source": [
    "c = np.array([1,2,3,4,5,6,7,8,9])\n",
    "\n",
    "#append\n",
    "np.append(c,[10,11])"
   ]
  },
  {
   "cell_type": "code",
   "execution_count": 66,
   "id": "4915b4a3",
   "metadata": {},
   "outputs": [
    {
     "data": {
      "text/plain": [
       "array([1, 2, 4, 5, 6, 7, 8, 9])"
      ]
     },
     "execution_count": 66,
     "metadata": {},
     "output_type": "execute_result"
    }
   ],
   "source": [
    "#delet\n",
    "c = np.array([1,2,3,4,5,6,7,8,9])\n",
    "np.delete(c,2)"
   ]
  },
  {
   "cell_type": "code",
   "execution_count": 67,
   "id": "245690ae",
   "metadata": {},
   "outputs": [
    {
     "data": {
      "text/plain": [
       "array([1, 2, 3, 4, 5, 6, 7, 8, 9])"
      ]
     },
     "execution_count": 67,
     "metadata": {},
     "output_type": "execute_result"
    }
   ],
   "source": [
    "#sort\n",
    "np.sort(c)"
   ]
  },
  {
   "cell_type": "code",
   "execution_count": 68,
   "id": "2e31e34a",
   "metadata": {},
   "outputs": [
    {
     "name": "stdout",
     "output_type": "stream",
     "text": [
      "1\n"
     ]
    }
   ],
   "source": [
    "print(c.ndim)"
   ]
  },
  {
   "cell_type": "code",
   "execution_count": 70,
   "id": "584bcff1",
   "metadata": {},
   "outputs": [
    {
     "name": "stdout",
     "output_type": "stream",
     "text": [
      "2\n"
     ]
    }
   ],
   "source": [
    "d = np.zeros((2,2))\n",
    "print(d.ndim) #2dimensi"
   ]
  },
  {
   "cell_type": "code",
   "execution_count": 71,
   "id": "94496cc9",
   "metadata": {},
   "outputs": [
    {
     "name": "stdout",
     "output_type": "stream",
     "text": [
      "9\n",
      "4\n"
     ]
    }
   ],
   "source": [
    "#size; melihat izi dari datanya\n",
    "print(c.size)\n",
    "print(d.size)"
   ]
  },
  {
   "cell_type": "code",
   "execution_count": 74,
   "id": "5ed5f389",
   "metadata": {},
   "outputs": [
    {
     "name": "stdout",
     "output_type": "stream",
     "text": [
      "[[1 2 3]\n",
      " [4 5 6]\n",
      " [7 8 9]]\n"
     ]
    }
   ],
   "source": [
    "# reshape : harus bisa dibagi datanya, kalau tidak bisa akan eror\n",
    "print(c.reshape(3,3))"
   ]
  },
  {
   "cell_type": "code",
   "execution_count": 79,
   "id": "e6ae7bc2",
   "metadata": {},
   "outputs": [
    {
     "data": {
      "text/plain": [
       "(1, 4)"
      ]
     },
     "execution_count": 79,
     "metadata": {},
     "output_type": "execute_result"
    }
   ],
   "source": [
    "array3 = np.array([[1,2,3,4]]) # kalau sudah ada [[ sudah jadi 2d array\n",
    "array3.shape"
   ]
  },
  {
   "cell_type": "code",
   "execution_count": 84,
   "id": "e3879d8b",
   "metadata": {},
   "outputs": [
    {
     "name": "stdout",
     "output_type": "stream",
     "text": [
      "[[4 5 6]]\n",
      "[[4]\n",
      " [5]\n",
      " [6]]\n"
     ]
    }
   ],
   "source": [
    "#np.axis\n",
    "array4 = np.array([4,5,6])\n",
    "array4\n",
    "\n",
    "print(array4[np.newaxis,:])\n",
    "print(array4[:,np.newaxis])"
   ]
  },
  {
   "cell_type": "code",
   "execution_count": 88,
   "id": "1aea83c5",
   "metadata": {},
   "outputs": [
    {
     "name": "stdout",
     "output_type": "stream",
     "text": [
      "[[3]\n",
      " [4]\n",
      " [5]\n",
      " [6]\n",
      " [7]\n",
      " [8]\n",
      " [9]]\n",
      "(7, 1)\n",
      " \n",
      "[[3 4 5 6 7 8 9]]\n",
      "(1, 7)\n"
     ]
    }
   ],
   "source": [
    "#np.expand_dims\n",
    "array7 = np.array([3,4,5,6,7,8,9])\n",
    "array8 = np.expand_dims(array7,axis=1) #membuat 1d jadi 2d dengan menambahkan baris\n",
    "print(array8)\n",
    "print(array8.shape)\n",
    "print(\" \")\n",
    "array8 = np.expand_dims(array7,axis=0) #membuat 1d jadi 2d dengan menambahkan kolom\n",
    "print(array8)\n",
    "print(array8.shape)"
   ]
  },
  {
   "cell_type": "code",
   "execution_count": 89,
   "id": "a5538ea6",
   "metadata": {},
   "outputs": [
    {
     "data": {
      "text/plain": [
       "array([ 5,  6,  7,  8,  9, 10, 11])"
      ]
     },
     "execution_count": 89,
     "metadata": {},
     "output_type": "execute_result"
    }
   ],
   "source": [
    "#operasi matematika array broadcasting\n",
    "array7+2"
   ]
  },
  {
   "cell_type": "code",
   "execution_count": 90,
   "id": "9efc8a83",
   "metadata": {},
   "outputs": [
    {
     "data": {
      "text/plain": [
       "array([ 6,  8, 10, 12, 14, 16, 18])"
      ]
     },
     "execution_count": 90,
     "metadata": {},
     "output_type": "execute_result"
    }
   ],
   "source": [
    "array7*2"
   ]
  },
  {
   "cell_type": "code",
   "execution_count": 91,
   "id": "cff3e0bc",
   "metadata": {},
   "outputs": [
    {
     "data": {
      "text/plain": [
       "array([[ 5,  6,  7,  8],\n",
       "       [ 9, 10, 11, 12]])"
      ]
     },
     "execution_count": 91,
     "metadata": {},
     "output_type": "execute_result"
    }
   ],
   "source": [
    "array_10 = np.array([[1,2,3,4],[5,6,7,8]])\n",
    "\n",
    "array_10+4"
   ]
  },
  {
   "cell_type": "code",
   "execution_count": 95,
   "id": "9eaa26fd",
   "metadata": {},
   "outputs": [
    {
     "name": "stdout",
     "output_type": "stream",
     "text": [
      "[5 6 7 8 9]\n"
     ]
    }
   ],
   "source": [
    "#filteringarray lebih baik untuk 1d\n",
    "array_l1 = np.array([[1,2,3],[4,5,6],[7,8,9]])\n",
    "print(array_l1[array_l1>4])"
   ]
  },
  {
   "cell_type": "code",
   "execution_count": 94,
   "id": "8db4ab2e",
   "metadata": {},
   "outputs": [
    {
     "data": {
      "text/plain": [
       "array([8])"
      ]
     },
     "execution_count": 94,
     "metadata": {},
     "output_type": "execute_result"
    }
   ],
   "source": [
    "\n",
    "array7[array7>5]\n",
    "array7[array7==8]"
   ]
  },
  {
   "cell_type": "markdown",
   "id": "ece4666a",
   "metadata": {},
   "source": [
    "## Quiz 2"
   ]
  },
  {
   "cell_type": "code",
   "execution_count": 132,
   "id": "3c9f7c56",
   "metadata": {},
   "outputs": [
    {
     "name": "stdout",
     "output_type": "stream",
     "text": [
      "10\n",
      "*******************\n",
      " *****************\n",
      "  ***************\n",
      "   *************\n",
      "    ***********\n",
      "     *********\n",
      "      *******\n",
      "       *****\n",
      "        ***\n",
      "         *\n",
      "        ***\n",
      "       *****\n",
      "      *******\n",
      "     *********\n",
      "    ***********\n",
      "   *************\n",
      "  ***************\n",
      " *****************\n",
      "*******************\n"
     ]
    }
   ],
   "source": [
    "def bintang(baris):\n",
    "    kolom = baris *2 -1\n",
    "    spasi = 0\n",
    "    hasil = \"\"\n",
    "    for i in range(baris):\n",
    "        for j in range(spasi):\n",
    "            hasil += \" \"\n",
    "        for j in range(kolom):\n",
    "            if i == 0:\n",
    "                simbol = \"*\"\n",
    "            elif i == baris -1:\n",
    "                simbol =  \"*\"\n",
    "            elif j == 0 or j == kolom -1 :\n",
    "                simbol = \"*\"\n",
    "            else :\n",
    "                simbol = \"*\"\n",
    "            hasil += simbol\n",
    "        kolom -= 2\n",
    "        spasi += 1\n",
    "        if baris ==1 :\n",
    "            hasil += \"\"\n",
    "        else:\n",
    "            hasil += \"\\n\"\n",
    "    baris = baris -1\n",
    "    kolom = 3\n",
    "    spasi = baris -1\n",
    "    for i in range(baris):\n",
    "        for j in range(spasi):\n",
    "            hasil += \" \"\n",
    "        for j in range(kolom):\n",
    "            if j == 0 or j == kolom -1:\n",
    "                simbol = \"*\"\n",
    "            elif i == baris -1:\n",
    "                simbol = \"*\"\n",
    "            else :\n",
    "                simbol = \"*\"\n",
    "            hasil += simbol\n",
    "        kolom += 2\n",
    "        spasi -= 1\n",
    "        if i != baris -1:\n",
    "            hasil += \"\\n\"\n",
    "        else :\n",
    "            hasil+=\"\"\n",
    "    return hasil\n",
    "ok = int(input())\n",
    "print (bintang(ok))"
   ]
  },
  {
   "cell_type": "code",
   "execution_count": 117,
   "id": "99b8eed3",
   "metadata": {},
   "outputs": [
    {
     "name": "stdout",
     "output_type": "stream",
     "text": [
      "10\n",
      "None\n"
     ]
    }
   ],
   "source": [
    "def bintang(baris):\n",
    "    kolom = baris *2 -1\n",
    "    spasi = 0\n",
    "    hasil = \"\"\n",
    "    for i in range(baris):\n",
    "        for j in range(spasi):\n",
    "            hasil += \" \"\n",
    "        for j in range(kolom):\n",
    "            if i == 0:\n",
    "                simbol = \"*\"\n",
    "            elif i == baris -1:\n",
    "                simbol =  \".\"\n",
    "            elif j == 0 or j == kolom -1 :\n",
    "                simbol = \"*\"\n",
    "            else :\n",
    "                simbol = \".\"\n",
    "            hasil += simbol\n",
    "        kolom -= 2\n",
    "        spasi += 1\n",
    "        if baris ==1 :\n",
    "            hasil += \"\"\n",
    "        else:\n",
    "            hasil += \"\\n\"\n",
    "\n",
    "ok = int(input())\n",
    "print (bintang(ok))"
   ]
  },
  {
   "cell_type": "code",
   "execution_count": 134,
   "id": "ece1023d",
   "metadata": {},
   "outputs": [
    {
     "name": "stdout",
     "output_type": "stream",
     "text": [
      "Input: 5\n",
      "\n",
      " * * * * * \n",
      "  * * * * \n",
      "   * * * \n",
      "    * * \n",
      "     * \n",
      "     * \n",
      "    * * \n",
      "   * * * \n",
      "  * * * * \n",
      " * * * * * \n"
     ]
    }
   ],
   "source": [
    "tinggi = int(input('Input: '))\n",
    "print()\n",
    "\n",
    "for i in range(tinggi):\n",
    "  for j in range(i+1):\n",
    "    print(' ',end='')\n",
    "     \n",
    "  for k in range(tinggi-i):\n",
    "    print('* ',end='')\n",
    "  print()\n",
    "for i in range(tinggi):\n",
    "  print(' ' * (tinggi-i),end='')\n",
    "  print('* ' * (i+1))"
   ]
  },
  {
   "cell_type": "markdown",
   "id": "12ac4f0d",
   "metadata": {},
   "source": [
    "## Hstack dan Vstack, hsplit, vsplit "
   ]
  },
  {
   "cell_type": "code",
   "execution_count": 137,
   "id": "7d210edf",
   "metadata": {},
   "outputs": [
    {
     "name": "stdout",
     "output_type": "stream",
     "text": [
      "[[ 3  4  5  6  7]\n",
      " [ 7  8  9 10 11]]\n",
      "[ 3  4  5  6  7  7  8  9 10 11]\n"
     ]
    }
   ],
   "source": [
    "array_14  = np.array([3,4,5,6,7])\n",
    "array_15 = np.array([7,8,9,10,11])\n",
    "print(np.vstack([array_14,array_15])) #vertical\n",
    "print(np.hstack([array_14,array_15])) #horizontal"
   ]
  },
  {
   "cell_type": "code",
   "execution_count": 138,
   "id": "45e13f2e",
   "metadata": {},
   "outputs": [
    {
     "name": "stdout",
     "output_type": "stream",
     "text": [
      "[array([3, 4, 5]), array([6, 7, 8])]\n"
     ]
    }
   ],
   "source": [
    "array_14  = np.array([3,4,5,6,7,8])\n",
    "array_split=np.hsplit(array_14,2)\n",
    "print(array_split)"
   ]
  },
  {
   "cell_type": "code",
   "execution_count": 142,
   "id": "69062cfe",
   "metadata": {},
   "outputs": [
    {
     "name": "stdout",
     "output_type": "stream",
     "text": [
      "[[1 2 3 4]\n",
      " [4 5 6 7]]\n",
      "Horizontal split\n",
      "[array([[1, 2],\n",
      "       [4, 5]]), array([[3, 4],\n",
      "       [6, 7]])]\n",
      "Vertical split\n",
      "[array([[1, 2, 3, 4]]), array([[4, 5, 6, 7]])]\n"
     ]
    }
   ],
   "source": [
    "array_19=np.array([[1,2,3,4],[4,5,6,7]])\n",
    "print(array_19)\n",
    "print(\"Horizontal split\")\n",
    "print(np.hsplit(array_19,2))\n",
    "print(\"Vertical split\")\n",
    "print(np.vsplit(array_19,2))"
   ]
  },
  {
   "cell_type": "code",
   "execution_count": 144,
   "id": "1fbe6954",
   "metadata": {},
   "outputs": [
    {
     "name": "stdout",
     "output_type": "stream",
     "text": [
      "[4 6 8]\n"
     ]
    }
   ],
   "source": [
    "array_a =np.array([1,2,3])\n",
    "array_b =np.array([3,4,5])\n",
    "print(array_a+array_b)"
   ]
  },
  {
   "cell_type": "code",
   "execution_count": 145,
   "id": "2c80e4a7",
   "metadata": {},
   "outputs": [
    {
     "name": "stdout",
     "output_type": "stream",
     "text": [
      "[[-6 -6 -6]\n",
      " [-6 -6 -6]]\n"
     ]
    }
   ],
   "source": [
    "array_c =np.array([[1,2,3],[4,5,6]])\n",
    "array_d =np.array([[7,8,9],[10,11,12]])\n",
    "\n",
    "print(array_c-array_d)"
   ]
  },
  {
   "cell_type": "code",
   "execution_count": 153,
   "id": "afbe102d",
   "metadata": {},
   "outputs": [
    {
     "name": "stdout",
     "output_type": "stream",
     "text": [
      "6\n",
      "12\n",
      "[5 7 9]\n",
      "[ 6 15]\n",
      "3\n",
      "6\n",
      "[3 6]\n",
      "1\n",
      "1\n",
      "[1 4]\n"
     ]
    }
   ],
   "source": [
    "array_a =np.array([1,2,3])\n",
    "array_b =np.array([3,4,5])\n",
    "array_c =np.array([[1,2,3],\n",
    "                   [4,5,6]])\n",
    "array_d =np.array([[7,8,9],\n",
    "                   [10,11,12]])\n",
    "\n",
    "print(array_a.sum())\n",
    "print(array_b.sum())\n",
    "print(array_c.sum(axis=0)) #penjumalah kebawah\n",
    "print(array_c.sum(axis=1)) #penjumalah kesamping\n",
    "print(array_a.max())\n",
    "print(array_c.max())\n",
    "print(array_c.max(axis=1))\n",
    "print(array_a.min())\n",
    "print(array_c.min())\n",
    "print(array_c.min(axis=1))"
   ]
  },
  {
   "cell_type": "markdown",
   "id": "a9f6feb3",
   "metadata": {},
   "source": [
    "##Transposing "
   ]
  },
  {
   "cell_type": "code",
   "execution_count": 154,
   "id": "dab41b5a",
   "metadata": {},
   "outputs": [
    {
     "name": "stdout",
     "output_type": "stream",
     "text": [
      "[[1 2 3]\n",
      " [4 5 6]]\n",
      "(2, 3)\n"
     ]
    }
   ],
   "source": [
    "array_a =np.array([1,2,3])\n",
    "array_b =np.array([3,4,5])\n",
    "array_c =np.array([[1,2,3],\n",
    "                   [4,5,6]])\n",
    "array_d =np.array([[7,8,9],\n",
    "                   [10,11,12]])\n",
    "\n",
    "print(array_c)\n",
    "print(array_c.shape)"
   ]
  },
  {
   "cell_type": "code",
   "execution_count": 156,
   "id": "03681f9a",
   "metadata": {},
   "outputs": [
    {
     "name": "stdout",
     "output_type": "stream",
     "text": [
      "[[1 4]\n",
      " [2 5]\n",
      " [3 6]]\n",
      "(3, 2)\n"
     ]
    }
   ],
   "source": [
    "print(array_c.T)\n",
    "print(array_c.T.shape)"
   ]
  },
  {
   "cell_type": "code",
   "execution_count": 158,
   "id": "26a4631f",
   "metadata": {},
   "outputs": [
    {
     "name": "stdout",
     "output_type": "stream",
     "text": [
      "[[ 1  2  3  4  5]\n",
      " [ 6  7  8  9 10]\n",
      " [11 12 13 14 15]]\n",
      "[[ 1  6 11]\n",
      " [ 2  7 12]\n",
      " [ 3  8 13]\n",
      " [ 4  9 14]\n",
      " [ 5 10 15]]\n",
      "(5, 3)\n"
     ]
    }
   ],
   "source": [
    "arrayd  =np.array([[1,2,3,4,5],[6,7,8,9,10],[11,12,13,14,15]])\n",
    "print(arrayd)\n",
    "print(arrayd.T)\n",
    "print(arrayd.T.shape)"
   ]
  },
  {
   "cell_type": "code",
   "execution_count": 165,
   "id": "a8c01e32",
   "metadata": {},
   "outputs": [
    {
     "name": "stdout",
     "output_type": "stream",
     "text": [
      "[[0.71908766 0.806905  ]\n",
      " [0.60803817 0.83460347]\n",
      " [0.70637376 0.99671904]]\n",
      "[0.71908766 0.806905   0.60803817 0.83460347 0.70637376 0.99671904]\n"
     ]
    }
   ],
   "source": [
    "array_random = np.random.random([3,2])\n",
    "print(array_random)\n",
    "print(array_random.flatten())"
   ]
  },
  {
   "cell_type": "markdown",
   "id": "b0c212b1",
   "metadata": {},
   "source": [
    "## math Formulas Numpy "
   ]
  },
  {
   "cell_type": "code",
   "execution_count": 167,
   "id": "c4a472e9",
   "metadata": {},
   "outputs": [
    {
     "name": "stdout",
     "output_type": "stream",
     "text": [
      "[[53.68388976 89.06915164]\n",
      " [ 6.56199431 31.15285653]\n",
      " [74.36101289 80.64067993]]\n"
     ]
    },
    {
     "data": {
      "text/plain": [
       "335.46958506549794"
      ]
     },
     "execution_count": 167,
     "metadata": {},
     "output_type": "execute_result"
    }
   ],
   "source": [
    "array_random = np.random.random([3,2])*100\n",
    "print(array_random)\n",
    "np.sum(array_random)"
   ]
  },
  {
   "cell_type": "code",
   "execution_count": 168,
   "id": "81126574",
   "metadata": {},
   "outputs": [
    {
     "data": {
      "text/plain": [
       "81"
      ]
     },
     "execution_count": 168,
     "metadata": {},
     "output_type": "execute_result"
    }
   ],
   "source": [
    "np.square(9)"
   ]
  },
  {
   "cell_type": "code",
   "execution_count": 169,
   "id": "408b2a79",
   "metadata": {},
   "outputs": [
    {
     "data": {
      "text/plain": [
       "3.0"
      ]
     },
     "execution_count": 169,
     "metadata": {},
     "output_type": "execute_result"
    }
   ],
   "source": [
    "np.sqrt(9)"
   ]
  },
  {
   "cell_type": "code",
   "execution_count": 170,
   "id": "13605803",
   "metadata": {},
   "outputs": [
    {
     "data": {
      "text/plain": [
       "13.815510557964274"
      ]
     },
     "execution_count": 170,
     "metadata": {},
     "output_type": "execute_result"
    }
   ],
   "source": [
    "a = np.log(1000000)"
   ]
  },
  {
   "cell_type": "code",
   "execution_count": 172,
   "id": "878392b6",
   "metadata": {},
   "outputs": [
    {
     "data": {
      "text/plain": [
       "1318815734.4832146"
      ]
     },
     "execution_count": 172,
     "metadata": {},
     "output_type": "execute_result"
    }
   ],
   "source": [
    "np.exp(a)"
   ]
  },
  {
   "cell_type": "code",
   "execution_count": 190,
   "id": "ebc7ebc0",
   "metadata": {},
   "outputs": [
    {
     "name": "stdout",
     "output_type": "stream",
     "text": [
      "Please, Enter the lowest Range Value :10\n",
      "Please, Enter the Upper Range Value :20\n",
      "The prime Numbers in the range are  10 hingga 20 :\n",
      "11\n",
      "13\n",
      "17\n",
      "19\n"
     ]
    }
   ],
   "source": [
    "#Prime number generator base interval\n",
    "#bilangan prima bilangan habis dibagi 1 dan  bilangan itu tsb\n",
    "lower = int(input(\"Please, Enter the lowest Range Value :\"))\n",
    "upper = int(input(\"Please, Enter the Upper Range Value :\"))\n",
    "print(\"The prime Numbers in the range are \",lower,\"hingga\",upper,\":\")\n",
    "for num in range(lower,upper + 1):\n",
    "\n",
    "    if num > 1:\n",
    "        for i in range(2, num):\n",
    "            if (num % i) == 0:\n",
    "                break\n",
    "        else:\n",
    "            print(num)"
   ]
  },
  {
   "cell_type": "code",
   "execution_count": 181,
   "id": "a836ef6e",
   "metadata": {},
   "outputs": [
    {
     "data": {
      "text/plain": [
       "1"
      ]
     },
     "execution_count": 181,
     "metadata": {},
     "output_type": "execute_result"
    }
   ],
   "source": [
    "5 % 2"
   ]
  },
  {
   "cell_type": "code",
   "execution_count": 188,
   "id": "8c87c39b",
   "metadata": {},
   "outputs": [
    {
     "name": "stdout",
     "output_type": "stream",
     "text": [
      "3\n",
      "4\n",
      "5\n",
      "6\n"
     ]
    }
   ],
   "source": [
    "for i in range(3,6+1):\n",
    "    print(i)"
   ]
  },
  {
   "cell_type": "code",
   "execution_count": 183,
   "id": "d27e5540",
   "metadata": {},
   "outputs": [
    {
     "name": "stdout",
     "output_type": "stream",
     "text": [
      "<class 'range'>\n"
     ]
    }
   ],
   "source": [
    "print(range)"
   ]
  },
  {
   "cell_type": "code",
   "execution_count": null,
   "id": "f918caae",
   "metadata": {},
   "outputs": [],
   "source": []
  }
 ],
 "metadata": {
  "kernelspec": {
   "display_name": "Python 3 (ipykernel)",
   "language": "python",
   "name": "python3"
  },
  "language_info": {
   "codemirror_mode": {
    "name": "ipython",
    "version": 3
   },
   "file_extension": ".py",
   "mimetype": "text/x-python",
   "name": "python",
   "nbconvert_exporter": "python",
   "pygments_lexer": "ipython3",
   "version": "3.9.12"
  },
  "toc": {
   "base_numbering": 1,
   "nav_menu": {},
   "number_sections": true,
   "sideBar": true,
   "skip_h1_title": false,
   "title_cell": "Table of Contents",
   "title_sidebar": "Contents",
   "toc_cell": false,
   "toc_position": {},
   "toc_section_display": true,
   "toc_window_display": false
  },
  "varInspector": {
   "cols": {
    "lenName": 16,
    "lenType": 16,
    "lenVar": 40
   },
   "kernels_config": {
    "python": {
     "delete_cmd_postfix": "",
     "delete_cmd_prefix": "del ",
     "library": "var_list.py",
     "varRefreshCmd": "print(var_dic_list())"
    },
    "r": {
     "delete_cmd_postfix": ") ",
     "delete_cmd_prefix": "rm(",
     "library": "var_list.r",
     "varRefreshCmd": "cat(var_dic_list()) "
    }
   },
   "types_to_exclude": [
    "module",
    "function",
    "builtin_function_or_method",
    "instance",
    "_Feature"
   ],
   "window_display": false
  }
 },
 "nbformat": 4,
 "nbformat_minor": 5
}
