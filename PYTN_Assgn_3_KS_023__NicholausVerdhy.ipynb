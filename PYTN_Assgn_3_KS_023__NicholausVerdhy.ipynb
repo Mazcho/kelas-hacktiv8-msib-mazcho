{
 "cells": [
  {
   "cell_type": "markdown",
   "id": "ae2ee1c7",
   "metadata": {},
   "source": [
    "NAMA  : Nicholaus verdhy\n",
    "\n",
    "KELAS : PYTN-KS11-023\n",
    "\n",
    "TUGAS : ASSIGMENT 3"
   ]
  },
  {
   "cell_type": "markdown",
   "id": "1de2fc04",
   "metadata": {},
   "source": [
    "# Import Library"
   ]
  },
  {
   "cell_type": "markdown",
   "id": "734fa759",
   "metadata": {},
   "source": [
    ">pandas: digunakan untuk manipulasi data dan analisis data.\n",
    "\n",
    ">numpy: digunakan untuk komputasi numerik pada data.\n",
    "\n",
    ">matplotlib: digunakan untuk visualisasi data dengan grafik.\n",
    "\n",
    ">seaborn: digunakan untuk membuat grafik dan visualisasi data statistik yang lebih kompleks.\n",
    "\n",
    ">sklearn: digunakan untuk pemrosesan data, pembelajaran mesin, dan evaluasi model.\n",
    "\n",
    ">LabelEncoder: digunakan untuk mengkodekan variabel kategori menjadi nilai numerik.\n",
    "\n",
    ">StandardScaler: digunakan untuk melakukan penskalaan data.\n",
    "\n",
    ">LogisticRegression: digunakan untuk membuat model regresi logistik.\n",
    "\n",
    ">train_test_split: digunakan untuk membagi data menjadi data latih dan data uji.\n",
    "\n",
    ">accuracy_score: digunakan untuk menghitung akurasi model.\n",
    "\n",
    ">RandomForestClassifier: digunakan untuk membuat model random forest.\n",
    "\n",
    ">DecisionTreeClassifier: digunakan untuk membuat model decision tree.\n",
    "\n",
    ">GaussianNB: digunakan untuk membuat model naive bayes.\n",
    "\n",
    ">KNeighborsClassifier: digunakan untuk membuat model k-nearest neighbors.\n",
    "\n",
    ">svm: digunakan untuk membuat model support vector machine.\n",
    "\n",
    ">SVC: digunakan untuk membuat model support vector classification.\n",
    "\n",
    ">StringIO: digunakan untuk membaca dan menulis file string seperti file teks biasa.\n",
    "\n",
    ">Image: digunakan untuk menampilkan gambar.\n",
    "\n",
    ">tree: digunakan untuk membuat model decision tree.\n",
    "\n",
    ">pydotplus: digunakan untuk membuat grafik decision tree dengan menggunakan library Graphviz."
   ]
  },
  {
   "cell_type": "code",
   "execution_count": 2,
   "id": "56341100",
   "metadata": {},
   "outputs": [],
   "source": [
    "# digunakan untuk dataframe\n",
    "import pandas as pd\n",
    "import numpy as np\n",
    "\n",
    "# digunakan untuk visualisasi data\n",
    "import matplotlib.pyplot as plt\n",
    "import seaborn as sns\n",
    "from sklearn.metrics import classification_report, confusion_matrix\n",
    "\n",
    "# digunakan untuk explorisasi data\n",
    "from sklearn.preprocessing import LabelEncoder, StandardScaler\n",
    "\n",
    "# digunakan untuk modeling\n",
    "from sklearn import preprocessing\n",
    "from sklearn.model_selection import train_test_split\n",
    "from sklearn.linear_model import LogisticRegression\n",
    "from sklearn.neighbors import KNeighborsClassifier\n",
    "from sklearn.tree import DecisionTreeClassifier\n",
    "from sklearn.naive_bayes import GaussianNB\n",
    "from sklearn.ensemble import RandomForestClassifier\n",
    "from sklearn import tree\n",
    "import sklearn.tree as DecisionTreeClassifier\n",
    "from sklearn.metrics import accuracy_score\n",
    "from sklearn import svm\n",
    "from sklearn.svm import SVC\n",
    "from six import StringIO\n",
    "from IPython.display import Image\n",
    "import pydotplus\n",
    "from sklearn import metrics\n",
    "\n",
    "import warnings\n",
    "warnings.filterwarnings('ignore')"
   ]
  },
  {
   "cell_type": "markdown",
   "id": "c3d880aa",
   "metadata": {},
   "source": [
    "# Import dan memanggil dataset"
   ]
  },
  {
   "cell_type": "markdown",
   "id": "90f0e5a4",
   "metadata": {},
   "source": [
    "Kita gunakan read_csv untuk memanggil datanya"
   ]
  },
  {
   "cell_type": "code",
   "execution_count": 3,
   "id": "c34b3b84",
   "metadata": {},
   "outputs": [
    {
     "data": {
      "text/html": [
       "<div>\n",
       "<style scoped>\n",
       "    .dataframe tbody tr th:only-of-type {\n",
       "        vertical-align: middle;\n",
       "    }\n",
       "\n",
       "    .dataframe tbody tr th {\n",
       "        vertical-align: top;\n",
       "    }\n",
       "\n",
       "    .dataframe thead th {\n",
       "        text-align: right;\n",
       "    }\n",
       "</style>\n",
       "<table border=\"1\" class=\"dataframe\">\n",
       "  <thead>\n",
       "    <tr style=\"text-align: right;\">\n",
       "      <th></th>\n",
       "      <th>age</th>\n",
       "      <th>job</th>\n",
       "      <th>marital</th>\n",
       "      <th>education</th>\n",
       "      <th>default</th>\n",
       "      <th>balance</th>\n",
       "      <th>housing</th>\n",
       "      <th>loan</th>\n",
       "      <th>contact</th>\n",
       "      <th>day</th>\n",
       "      <th>month</th>\n",
       "      <th>duration</th>\n",
       "      <th>campaign</th>\n",
       "      <th>pdays</th>\n",
       "      <th>previous</th>\n",
       "      <th>poutcome</th>\n",
       "      <th>y</th>\n",
       "    </tr>\n",
       "  </thead>\n",
       "  <tbody>\n",
       "    <tr>\n",
       "      <th>0</th>\n",
       "      <td>30</td>\n",
       "      <td>unemployed</td>\n",
       "      <td>married</td>\n",
       "      <td>primary</td>\n",
       "      <td>no</td>\n",
       "      <td>1787</td>\n",
       "      <td>no</td>\n",
       "      <td>no</td>\n",
       "      <td>cellular</td>\n",
       "      <td>19</td>\n",
       "      <td>oct</td>\n",
       "      <td>79</td>\n",
       "      <td>1</td>\n",
       "      <td>-1</td>\n",
       "      <td>0</td>\n",
       "      <td>unknown</td>\n",
       "      <td>no</td>\n",
       "    </tr>\n",
       "    <tr>\n",
       "      <th>1</th>\n",
       "      <td>33</td>\n",
       "      <td>services</td>\n",
       "      <td>married</td>\n",
       "      <td>secondary</td>\n",
       "      <td>no</td>\n",
       "      <td>4789</td>\n",
       "      <td>yes</td>\n",
       "      <td>yes</td>\n",
       "      <td>cellular</td>\n",
       "      <td>11</td>\n",
       "      <td>may</td>\n",
       "      <td>220</td>\n",
       "      <td>1</td>\n",
       "      <td>339</td>\n",
       "      <td>4</td>\n",
       "      <td>failure</td>\n",
       "      <td>no</td>\n",
       "    </tr>\n",
       "    <tr>\n",
       "      <th>2</th>\n",
       "      <td>35</td>\n",
       "      <td>management</td>\n",
       "      <td>single</td>\n",
       "      <td>tertiary</td>\n",
       "      <td>no</td>\n",
       "      <td>1350</td>\n",
       "      <td>yes</td>\n",
       "      <td>no</td>\n",
       "      <td>cellular</td>\n",
       "      <td>16</td>\n",
       "      <td>apr</td>\n",
       "      <td>185</td>\n",
       "      <td>1</td>\n",
       "      <td>330</td>\n",
       "      <td>1</td>\n",
       "      <td>failure</td>\n",
       "      <td>no</td>\n",
       "    </tr>\n",
       "    <tr>\n",
       "      <th>3</th>\n",
       "      <td>30</td>\n",
       "      <td>management</td>\n",
       "      <td>married</td>\n",
       "      <td>tertiary</td>\n",
       "      <td>no</td>\n",
       "      <td>1476</td>\n",
       "      <td>yes</td>\n",
       "      <td>yes</td>\n",
       "      <td>unknown</td>\n",
       "      <td>3</td>\n",
       "      <td>jun</td>\n",
       "      <td>199</td>\n",
       "      <td>4</td>\n",
       "      <td>-1</td>\n",
       "      <td>0</td>\n",
       "      <td>unknown</td>\n",
       "      <td>no</td>\n",
       "    </tr>\n",
       "    <tr>\n",
       "      <th>4</th>\n",
       "      <td>59</td>\n",
       "      <td>blue-collar</td>\n",
       "      <td>married</td>\n",
       "      <td>secondary</td>\n",
       "      <td>no</td>\n",
       "      <td>0</td>\n",
       "      <td>yes</td>\n",
       "      <td>no</td>\n",
       "      <td>unknown</td>\n",
       "      <td>5</td>\n",
       "      <td>may</td>\n",
       "      <td>226</td>\n",
       "      <td>1</td>\n",
       "      <td>-1</td>\n",
       "      <td>0</td>\n",
       "      <td>unknown</td>\n",
       "      <td>no</td>\n",
       "    </tr>\n",
       "    <tr>\n",
       "      <th>...</th>\n",
       "      <td>...</td>\n",
       "      <td>...</td>\n",
       "      <td>...</td>\n",
       "      <td>...</td>\n",
       "      <td>...</td>\n",
       "      <td>...</td>\n",
       "      <td>...</td>\n",
       "      <td>...</td>\n",
       "      <td>...</td>\n",
       "      <td>...</td>\n",
       "      <td>...</td>\n",
       "      <td>...</td>\n",
       "      <td>...</td>\n",
       "      <td>...</td>\n",
       "      <td>...</td>\n",
       "      <td>...</td>\n",
       "      <td>...</td>\n",
       "    </tr>\n",
       "    <tr>\n",
       "      <th>4516</th>\n",
       "      <td>33</td>\n",
       "      <td>services</td>\n",
       "      <td>married</td>\n",
       "      <td>secondary</td>\n",
       "      <td>no</td>\n",
       "      <td>-333</td>\n",
       "      <td>yes</td>\n",
       "      <td>no</td>\n",
       "      <td>cellular</td>\n",
       "      <td>30</td>\n",
       "      <td>jul</td>\n",
       "      <td>329</td>\n",
       "      <td>5</td>\n",
       "      <td>-1</td>\n",
       "      <td>0</td>\n",
       "      <td>unknown</td>\n",
       "      <td>no</td>\n",
       "    </tr>\n",
       "    <tr>\n",
       "      <th>4517</th>\n",
       "      <td>57</td>\n",
       "      <td>self-employed</td>\n",
       "      <td>married</td>\n",
       "      <td>tertiary</td>\n",
       "      <td>yes</td>\n",
       "      <td>-3313</td>\n",
       "      <td>yes</td>\n",
       "      <td>yes</td>\n",
       "      <td>unknown</td>\n",
       "      <td>9</td>\n",
       "      <td>may</td>\n",
       "      <td>153</td>\n",
       "      <td>1</td>\n",
       "      <td>-1</td>\n",
       "      <td>0</td>\n",
       "      <td>unknown</td>\n",
       "      <td>no</td>\n",
       "    </tr>\n",
       "    <tr>\n",
       "      <th>4518</th>\n",
       "      <td>57</td>\n",
       "      <td>technician</td>\n",
       "      <td>married</td>\n",
       "      <td>secondary</td>\n",
       "      <td>no</td>\n",
       "      <td>295</td>\n",
       "      <td>no</td>\n",
       "      <td>no</td>\n",
       "      <td>cellular</td>\n",
       "      <td>19</td>\n",
       "      <td>aug</td>\n",
       "      <td>151</td>\n",
       "      <td>11</td>\n",
       "      <td>-1</td>\n",
       "      <td>0</td>\n",
       "      <td>unknown</td>\n",
       "      <td>no</td>\n",
       "    </tr>\n",
       "    <tr>\n",
       "      <th>4519</th>\n",
       "      <td>28</td>\n",
       "      <td>blue-collar</td>\n",
       "      <td>married</td>\n",
       "      <td>secondary</td>\n",
       "      <td>no</td>\n",
       "      <td>1137</td>\n",
       "      <td>no</td>\n",
       "      <td>no</td>\n",
       "      <td>cellular</td>\n",
       "      <td>6</td>\n",
       "      <td>feb</td>\n",
       "      <td>129</td>\n",
       "      <td>4</td>\n",
       "      <td>211</td>\n",
       "      <td>3</td>\n",
       "      <td>other</td>\n",
       "      <td>no</td>\n",
       "    </tr>\n",
       "    <tr>\n",
       "      <th>4520</th>\n",
       "      <td>44</td>\n",
       "      <td>entrepreneur</td>\n",
       "      <td>single</td>\n",
       "      <td>tertiary</td>\n",
       "      <td>no</td>\n",
       "      <td>1136</td>\n",
       "      <td>yes</td>\n",
       "      <td>yes</td>\n",
       "      <td>cellular</td>\n",
       "      <td>3</td>\n",
       "      <td>apr</td>\n",
       "      <td>345</td>\n",
       "      <td>2</td>\n",
       "      <td>249</td>\n",
       "      <td>7</td>\n",
       "      <td>other</td>\n",
       "      <td>no</td>\n",
       "    </tr>\n",
       "  </tbody>\n",
       "</table>\n",
       "<p>4521 rows × 17 columns</p>\n",
       "</div>"
      ],
      "text/plain": [
       "      age            job  marital  education default  balance housing loan  \\\n",
       "0      30     unemployed  married    primary      no     1787      no   no   \n",
       "1      33       services  married  secondary      no     4789     yes  yes   \n",
       "2      35     management   single   tertiary      no     1350     yes   no   \n",
       "3      30     management  married   tertiary      no     1476     yes  yes   \n",
       "4      59    blue-collar  married  secondary      no        0     yes   no   \n",
       "...   ...            ...      ...        ...     ...      ...     ...  ...   \n",
       "4516   33       services  married  secondary      no     -333     yes   no   \n",
       "4517   57  self-employed  married   tertiary     yes    -3313     yes  yes   \n",
       "4518   57     technician  married  secondary      no      295      no   no   \n",
       "4519   28    blue-collar  married  secondary      no     1137      no   no   \n",
       "4520   44   entrepreneur   single   tertiary      no     1136     yes  yes   \n",
       "\n",
       "       contact  day month  duration  campaign  pdays  previous poutcome   y  \n",
       "0     cellular   19   oct        79         1     -1         0  unknown  no  \n",
       "1     cellular   11   may       220         1    339         4  failure  no  \n",
       "2     cellular   16   apr       185         1    330         1  failure  no  \n",
       "3      unknown    3   jun       199         4     -1         0  unknown  no  \n",
       "4      unknown    5   may       226         1     -1         0  unknown  no  \n",
       "...        ...  ...   ...       ...       ...    ...       ...      ...  ..  \n",
       "4516  cellular   30   jul       329         5     -1         0  unknown  no  \n",
       "4517   unknown    9   may       153         1     -1         0  unknown  no  \n",
       "4518  cellular   19   aug       151        11     -1         0  unknown  no  \n",
       "4519  cellular    6   feb       129         4    211         3    other  no  \n",
       "4520  cellular    3   apr       345         2    249         7    other  no  \n",
       "\n",
       "[4521 rows x 17 columns]"
      ]
     },
     "execution_count": 3,
     "metadata": {},
     "output_type": "execute_result"
    }
   ],
   "source": [
    "df = pd.read_csv(\"bank.csv\", sep=';')\n",
    "df"
   ]
  },
  {
   "cell_type": "markdown",
   "id": "8501e728",
   "metadata": {},
   "source": [
    "Mari kita lihat tipe datanya"
   ]
  },
  {
   "cell_type": "code",
   "execution_count": 4,
   "id": "c7a4a573",
   "metadata": {},
   "outputs": [
    {
     "name": "stdout",
     "output_type": "stream",
     "text": [
      "<class 'pandas.core.frame.DataFrame'>\n",
      "RangeIndex: 4521 entries, 0 to 4520\n",
      "Data columns (total 17 columns):\n",
      " #   Column     Non-Null Count  Dtype \n",
      "---  ------     --------------  ----- \n",
      " 0   age        4521 non-null   int64 \n",
      " 1   job        4521 non-null   object\n",
      " 2   marital    4521 non-null   object\n",
      " 3   education  4521 non-null   object\n",
      " 4   default    4521 non-null   object\n",
      " 5   balance    4521 non-null   int64 \n",
      " 6   housing    4521 non-null   object\n",
      " 7   loan       4521 non-null   object\n",
      " 8   contact    4521 non-null   object\n",
      " 9   day        4521 non-null   int64 \n",
      " 10  month      4521 non-null   object\n",
      " 11  duration   4521 non-null   int64 \n",
      " 12  campaign   4521 non-null   int64 \n",
      " 13  pdays      4521 non-null   int64 \n",
      " 14  previous   4521 non-null   int64 \n",
      " 15  poutcome   4521 non-null   object\n",
      " 16  y          4521 non-null   object\n",
      "dtypes: int64(7), object(10)\n",
      "memory usage: 600.6+ KB\n"
     ]
    }
   ],
   "source": [
    "df.info()"
   ]
  },
  {
   "cell_type": "markdown",
   "id": "a3492db7",
   "metadata": {},
   "source": [
    "# Data cleansing"
   ]
  },
  {
   "cell_type": "markdown",
   "id": "aa1bf058",
   "metadata": {},
   "source": [
    "mari kita lihat untuk ukuran datanya"
   ]
  },
  {
   "cell_type": "code",
   "execution_count": 5,
   "id": "84e908e0",
   "metadata": {},
   "outputs": [
    {
     "data": {
      "text/plain": [
       "(4521, 17)"
      ]
     },
     "execution_count": 5,
     "metadata": {},
     "output_type": "execute_result"
    }
   ],
   "source": [
    "df.shape"
   ]
  },
  {
   "cell_type": "markdown",
   "id": "dfe5fd97",
   "metadata": {},
   "source": [
    "Data terdiri dari 45211 baris dan 17 kolom"
   ]
  },
  {
   "cell_type": "markdown",
   "id": "9a2f868e",
   "metadata": {},
   "source": [
    "=============================\n",
    "\n",
    "mari kita lihat nilai deskriptiv statstik nya"
   ]
  },
  {
   "cell_type": "code",
   "execution_count": 6,
   "id": "8449c423",
   "metadata": {},
   "outputs": [
    {
     "data": {
      "text/html": [
       "<div>\n",
       "<style scoped>\n",
       "    .dataframe tbody tr th:only-of-type {\n",
       "        vertical-align: middle;\n",
       "    }\n",
       "\n",
       "    .dataframe tbody tr th {\n",
       "        vertical-align: top;\n",
       "    }\n",
       "\n",
       "    .dataframe thead th {\n",
       "        text-align: right;\n",
       "    }\n",
       "</style>\n",
       "<table border=\"1\" class=\"dataframe\">\n",
       "  <thead>\n",
       "    <tr style=\"text-align: right;\">\n",
       "      <th></th>\n",
       "      <th>age</th>\n",
       "      <th>balance</th>\n",
       "      <th>day</th>\n",
       "      <th>duration</th>\n",
       "      <th>campaign</th>\n",
       "      <th>pdays</th>\n",
       "      <th>previous</th>\n",
       "    </tr>\n",
       "  </thead>\n",
       "  <tbody>\n",
       "    <tr>\n",
       "      <th>count</th>\n",
       "      <td>4521.000000</td>\n",
       "      <td>4521.000000</td>\n",
       "      <td>4521.000000</td>\n",
       "      <td>4521.000000</td>\n",
       "      <td>4521.000000</td>\n",
       "      <td>4521.000000</td>\n",
       "      <td>4521.000000</td>\n",
       "    </tr>\n",
       "    <tr>\n",
       "      <th>mean</th>\n",
       "      <td>41.170095</td>\n",
       "      <td>1422.657819</td>\n",
       "      <td>15.915284</td>\n",
       "      <td>263.961292</td>\n",
       "      <td>2.793630</td>\n",
       "      <td>39.766645</td>\n",
       "      <td>0.542579</td>\n",
       "    </tr>\n",
       "    <tr>\n",
       "      <th>std</th>\n",
       "      <td>10.576211</td>\n",
       "      <td>3009.638142</td>\n",
       "      <td>8.247667</td>\n",
       "      <td>259.856633</td>\n",
       "      <td>3.109807</td>\n",
       "      <td>100.121124</td>\n",
       "      <td>1.693562</td>\n",
       "    </tr>\n",
       "    <tr>\n",
       "      <th>min</th>\n",
       "      <td>19.000000</td>\n",
       "      <td>-3313.000000</td>\n",
       "      <td>1.000000</td>\n",
       "      <td>4.000000</td>\n",
       "      <td>1.000000</td>\n",
       "      <td>-1.000000</td>\n",
       "      <td>0.000000</td>\n",
       "    </tr>\n",
       "    <tr>\n",
       "      <th>25%</th>\n",
       "      <td>33.000000</td>\n",
       "      <td>69.000000</td>\n",
       "      <td>9.000000</td>\n",
       "      <td>104.000000</td>\n",
       "      <td>1.000000</td>\n",
       "      <td>-1.000000</td>\n",
       "      <td>0.000000</td>\n",
       "    </tr>\n",
       "    <tr>\n",
       "      <th>50%</th>\n",
       "      <td>39.000000</td>\n",
       "      <td>444.000000</td>\n",
       "      <td>16.000000</td>\n",
       "      <td>185.000000</td>\n",
       "      <td>2.000000</td>\n",
       "      <td>-1.000000</td>\n",
       "      <td>0.000000</td>\n",
       "    </tr>\n",
       "    <tr>\n",
       "      <th>75%</th>\n",
       "      <td>49.000000</td>\n",
       "      <td>1480.000000</td>\n",
       "      <td>21.000000</td>\n",
       "      <td>329.000000</td>\n",
       "      <td>3.000000</td>\n",
       "      <td>-1.000000</td>\n",
       "      <td>0.000000</td>\n",
       "    </tr>\n",
       "    <tr>\n",
       "      <th>max</th>\n",
       "      <td>87.000000</td>\n",
       "      <td>71188.000000</td>\n",
       "      <td>31.000000</td>\n",
       "      <td>3025.000000</td>\n",
       "      <td>50.000000</td>\n",
       "      <td>871.000000</td>\n",
       "      <td>25.000000</td>\n",
       "    </tr>\n",
       "  </tbody>\n",
       "</table>\n",
       "</div>"
      ],
      "text/plain": [
       "               age       balance          day     duration     campaign  \\\n",
       "count  4521.000000   4521.000000  4521.000000  4521.000000  4521.000000   \n",
       "mean     41.170095   1422.657819    15.915284   263.961292     2.793630   \n",
       "std      10.576211   3009.638142     8.247667   259.856633     3.109807   \n",
       "min      19.000000  -3313.000000     1.000000     4.000000     1.000000   \n",
       "25%      33.000000     69.000000     9.000000   104.000000     1.000000   \n",
       "50%      39.000000    444.000000    16.000000   185.000000     2.000000   \n",
       "75%      49.000000   1480.000000    21.000000   329.000000     3.000000   \n",
       "max      87.000000  71188.000000    31.000000  3025.000000    50.000000   \n",
       "\n",
       "             pdays     previous  \n",
       "count  4521.000000  4521.000000  \n",
       "mean     39.766645     0.542579  \n",
       "std     100.121124     1.693562  \n",
       "min      -1.000000     0.000000  \n",
       "25%      -1.000000     0.000000  \n",
       "50%      -1.000000     0.000000  \n",
       "75%      -1.000000     0.000000  \n",
       "max     871.000000    25.000000  "
      ]
     },
     "execution_count": 6,
     "metadata": {},
     "output_type": "execute_result"
    }
   ],
   "source": [
    "df.describe()"
   ]
  },
  {
   "cell_type": "markdown",
   "id": "59ab5abe",
   "metadata": {},
   "source": [
    "Kita lihat 5 data teratas dan 5 data terbawah menggunakan head() dan tail()"
   ]
  },
  {
   "cell_type": "code",
   "execution_count": 7,
   "id": "6dcb8832",
   "metadata": {},
   "outputs": [
    {
     "data": {
      "text/html": [
       "<div>\n",
       "<style scoped>\n",
       "    .dataframe tbody tr th:only-of-type {\n",
       "        vertical-align: middle;\n",
       "    }\n",
       "\n",
       "    .dataframe tbody tr th {\n",
       "        vertical-align: top;\n",
       "    }\n",
       "\n",
       "    .dataframe thead th {\n",
       "        text-align: right;\n",
       "    }\n",
       "</style>\n",
       "<table border=\"1\" class=\"dataframe\">\n",
       "  <thead>\n",
       "    <tr style=\"text-align: right;\">\n",
       "      <th></th>\n",
       "      <th>age</th>\n",
       "      <th>job</th>\n",
       "      <th>marital</th>\n",
       "      <th>education</th>\n",
       "      <th>default</th>\n",
       "      <th>balance</th>\n",
       "      <th>housing</th>\n",
       "      <th>loan</th>\n",
       "      <th>contact</th>\n",
       "      <th>day</th>\n",
       "      <th>month</th>\n",
       "      <th>duration</th>\n",
       "      <th>campaign</th>\n",
       "      <th>pdays</th>\n",
       "      <th>previous</th>\n",
       "      <th>poutcome</th>\n",
       "      <th>y</th>\n",
       "    </tr>\n",
       "  </thead>\n",
       "  <tbody>\n",
       "    <tr>\n",
       "      <th>0</th>\n",
       "      <td>30</td>\n",
       "      <td>unemployed</td>\n",
       "      <td>married</td>\n",
       "      <td>primary</td>\n",
       "      <td>no</td>\n",
       "      <td>1787</td>\n",
       "      <td>no</td>\n",
       "      <td>no</td>\n",
       "      <td>cellular</td>\n",
       "      <td>19</td>\n",
       "      <td>oct</td>\n",
       "      <td>79</td>\n",
       "      <td>1</td>\n",
       "      <td>-1</td>\n",
       "      <td>0</td>\n",
       "      <td>unknown</td>\n",
       "      <td>no</td>\n",
       "    </tr>\n",
       "    <tr>\n",
       "      <th>1</th>\n",
       "      <td>33</td>\n",
       "      <td>services</td>\n",
       "      <td>married</td>\n",
       "      <td>secondary</td>\n",
       "      <td>no</td>\n",
       "      <td>4789</td>\n",
       "      <td>yes</td>\n",
       "      <td>yes</td>\n",
       "      <td>cellular</td>\n",
       "      <td>11</td>\n",
       "      <td>may</td>\n",
       "      <td>220</td>\n",
       "      <td>1</td>\n",
       "      <td>339</td>\n",
       "      <td>4</td>\n",
       "      <td>failure</td>\n",
       "      <td>no</td>\n",
       "    </tr>\n",
       "    <tr>\n",
       "      <th>2</th>\n",
       "      <td>35</td>\n",
       "      <td>management</td>\n",
       "      <td>single</td>\n",
       "      <td>tertiary</td>\n",
       "      <td>no</td>\n",
       "      <td>1350</td>\n",
       "      <td>yes</td>\n",
       "      <td>no</td>\n",
       "      <td>cellular</td>\n",
       "      <td>16</td>\n",
       "      <td>apr</td>\n",
       "      <td>185</td>\n",
       "      <td>1</td>\n",
       "      <td>330</td>\n",
       "      <td>1</td>\n",
       "      <td>failure</td>\n",
       "      <td>no</td>\n",
       "    </tr>\n",
       "    <tr>\n",
       "      <th>3</th>\n",
       "      <td>30</td>\n",
       "      <td>management</td>\n",
       "      <td>married</td>\n",
       "      <td>tertiary</td>\n",
       "      <td>no</td>\n",
       "      <td>1476</td>\n",
       "      <td>yes</td>\n",
       "      <td>yes</td>\n",
       "      <td>unknown</td>\n",
       "      <td>3</td>\n",
       "      <td>jun</td>\n",
       "      <td>199</td>\n",
       "      <td>4</td>\n",
       "      <td>-1</td>\n",
       "      <td>0</td>\n",
       "      <td>unknown</td>\n",
       "      <td>no</td>\n",
       "    </tr>\n",
       "    <tr>\n",
       "      <th>4</th>\n",
       "      <td>59</td>\n",
       "      <td>blue-collar</td>\n",
       "      <td>married</td>\n",
       "      <td>secondary</td>\n",
       "      <td>no</td>\n",
       "      <td>0</td>\n",
       "      <td>yes</td>\n",
       "      <td>no</td>\n",
       "      <td>unknown</td>\n",
       "      <td>5</td>\n",
       "      <td>may</td>\n",
       "      <td>226</td>\n",
       "      <td>1</td>\n",
       "      <td>-1</td>\n",
       "      <td>0</td>\n",
       "      <td>unknown</td>\n",
       "      <td>no</td>\n",
       "    </tr>\n",
       "  </tbody>\n",
       "</table>\n",
       "</div>"
      ],
      "text/plain": [
       "   age          job  marital  education default  balance housing loan  \\\n",
       "0   30   unemployed  married    primary      no     1787      no   no   \n",
       "1   33     services  married  secondary      no     4789     yes  yes   \n",
       "2   35   management   single   tertiary      no     1350     yes   no   \n",
       "3   30   management  married   tertiary      no     1476     yes  yes   \n",
       "4   59  blue-collar  married  secondary      no        0     yes   no   \n",
       "\n",
       "    contact  day month  duration  campaign  pdays  previous poutcome   y  \n",
       "0  cellular   19   oct        79         1     -1         0  unknown  no  \n",
       "1  cellular   11   may       220         1    339         4  failure  no  \n",
       "2  cellular   16   apr       185         1    330         1  failure  no  \n",
       "3   unknown    3   jun       199         4     -1         0  unknown  no  \n",
       "4   unknown    5   may       226         1     -1         0  unknown  no  "
      ]
     },
     "execution_count": 7,
     "metadata": {},
     "output_type": "execute_result"
    }
   ],
   "source": [
    "df.head()"
   ]
  },
  {
   "cell_type": "code",
   "execution_count": 8,
   "id": "30146abc",
   "metadata": {},
   "outputs": [
    {
     "data": {
      "text/html": [
       "<div>\n",
       "<style scoped>\n",
       "    .dataframe tbody tr th:only-of-type {\n",
       "        vertical-align: middle;\n",
       "    }\n",
       "\n",
       "    .dataframe tbody tr th {\n",
       "        vertical-align: top;\n",
       "    }\n",
       "\n",
       "    .dataframe thead th {\n",
       "        text-align: right;\n",
       "    }\n",
       "</style>\n",
       "<table border=\"1\" class=\"dataframe\">\n",
       "  <thead>\n",
       "    <tr style=\"text-align: right;\">\n",
       "      <th></th>\n",
       "      <th>age</th>\n",
       "      <th>job</th>\n",
       "      <th>marital</th>\n",
       "      <th>education</th>\n",
       "      <th>default</th>\n",
       "      <th>balance</th>\n",
       "      <th>housing</th>\n",
       "      <th>loan</th>\n",
       "      <th>contact</th>\n",
       "      <th>day</th>\n",
       "      <th>month</th>\n",
       "      <th>duration</th>\n",
       "      <th>campaign</th>\n",
       "      <th>pdays</th>\n",
       "      <th>previous</th>\n",
       "      <th>poutcome</th>\n",
       "      <th>y</th>\n",
       "    </tr>\n",
       "  </thead>\n",
       "  <tbody>\n",
       "    <tr>\n",
       "      <th>4516</th>\n",
       "      <td>33</td>\n",
       "      <td>services</td>\n",
       "      <td>married</td>\n",
       "      <td>secondary</td>\n",
       "      <td>no</td>\n",
       "      <td>-333</td>\n",
       "      <td>yes</td>\n",
       "      <td>no</td>\n",
       "      <td>cellular</td>\n",
       "      <td>30</td>\n",
       "      <td>jul</td>\n",
       "      <td>329</td>\n",
       "      <td>5</td>\n",
       "      <td>-1</td>\n",
       "      <td>0</td>\n",
       "      <td>unknown</td>\n",
       "      <td>no</td>\n",
       "    </tr>\n",
       "    <tr>\n",
       "      <th>4517</th>\n",
       "      <td>57</td>\n",
       "      <td>self-employed</td>\n",
       "      <td>married</td>\n",
       "      <td>tertiary</td>\n",
       "      <td>yes</td>\n",
       "      <td>-3313</td>\n",
       "      <td>yes</td>\n",
       "      <td>yes</td>\n",
       "      <td>unknown</td>\n",
       "      <td>9</td>\n",
       "      <td>may</td>\n",
       "      <td>153</td>\n",
       "      <td>1</td>\n",
       "      <td>-1</td>\n",
       "      <td>0</td>\n",
       "      <td>unknown</td>\n",
       "      <td>no</td>\n",
       "    </tr>\n",
       "    <tr>\n",
       "      <th>4518</th>\n",
       "      <td>57</td>\n",
       "      <td>technician</td>\n",
       "      <td>married</td>\n",
       "      <td>secondary</td>\n",
       "      <td>no</td>\n",
       "      <td>295</td>\n",
       "      <td>no</td>\n",
       "      <td>no</td>\n",
       "      <td>cellular</td>\n",
       "      <td>19</td>\n",
       "      <td>aug</td>\n",
       "      <td>151</td>\n",
       "      <td>11</td>\n",
       "      <td>-1</td>\n",
       "      <td>0</td>\n",
       "      <td>unknown</td>\n",
       "      <td>no</td>\n",
       "    </tr>\n",
       "    <tr>\n",
       "      <th>4519</th>\n",
       "      <td>28</td>\n",
       "      <td>blue-collar</td>\n",
       "      <td>married</td>\n",
       "      <td>secondary</td>\n",
       "      <td>no</td>\n",
       "      <td>1137</td>\n",
       "      <td>no</td>\n",
       "      <td>no</td>\n",
       "      <td>cellular</td>\n",
       "      <td>6</td>\n",
       "      <td>feb</td>\n",
       "      <td>129</td>\n",
       "      <td>4</td>\n",
       "      <td>211</td>\n",
       "      <td>3</td>\n",
       "      <td>other</td>\n",
       "      <td>no</td>\n",
       "    </tr>\n",
       "    <tr>\n",
       "      <th>4520</th>\n",
       "      <td>44</td>\n",
       "      <td>entrepreneur</td>\n",
       "      <td>single</td>\n",
       "      <td>tertiary</td>\n",
       "      <td>no</td>\n",
       "      <td>1136</td>\n",
       "      <td>yes</td>\n",
       "      <td>yes</td>\n",
       "      <td>cellular</td>\n",
       "      <td>3</td>\n",
       "      <td>apr</td>\n",
       "      <td>345</td>\n",
       "      <td>2</td>\n",
       "      <td>249</td>\n",
       "      <td>7</td>\n",
       "      <td>other</td>\n",
       "      <td>no</td>\n",
       "    </tr>\n",
       "  </tbody>\n",
       "</table>\n",
       "</div>"
      ],
      "text/plain": [
       "      age            job  marital  education default  balance housing loan  \\\n",
       "4516   33       services  married  secondary      no     -333     yes   no   \n",
       "4517   57  self-employed  married   tertiary     yes    -3313     yes  yes   \n",
       "4518   57     technician  married  secondary      no      295      no   no   \n",
       "4519   28    blue-collar  married  secondary      no     1137      no   no   \n",
       "4520   44   entrepreneur   single   tertiary      no     1136     yes  yes   \n",
       "\n",
       "       contact  day month  duration  campaign  pdays  previous poutcome   y  \n",
       "4516  cellular   30   jul       329         5     -1         0  unknown  no  \n",
       "4517   unknown    9   may       153         1     -1         0  unknown  no  \n",
       "4518  cellular   19   aug       151        11     -1         0  unknown  no  \n",
       "4519  cellular    6   feb       129         4    211         3    other  no  \n",
       "4520  cellular    3   apr       345         2    249         7    other  no  "
      ]
     },
     "execution_count": 8,
     "metadata": {},
     "output_type": "execute_result"
    }
   ],
   "source": [
    "df.tail()"
   ]
  },
  {
   "cell_type": "markdown",
   "id": "12217723",
   "metadata": {},
   "source": [
    "Sekarang kita merubah kolom \"y\" menjadi kolom bernama \"ResponClient\"\n"
   ]
  },
  {
   "cell_type": "code",
   "execution_count": 9,
   "id": "860c4dd4",
   "metadata": {},
   "outputs": [
    {
     "data": {
      "text/html": [
       "<div>\n",
       "<style scoped>\n",
       "    .dataframe tbody tr th:only-of-type {\n",
       "        vertical-align: middle;\n",
       "    }\n",
       "\n",
       "    .dataframe tbody tr th {\n",
       "        vertical-align: top;\n",
       "    }\n",
       "\n",
       "    .dataframe thead th {\n",
       "        text-align: right;\n",
       "    }\n",
       "</style>\n",
       "<table border=\"1\" class=\"dataframe\">\n",
       "  <thead>\n",
       "    <tr style=\"text-align: right;\">\n",
       "      <th></th>\n",
       "      <th>age</th>\n",
       "      <th>job</th>\n",
       "      <th>marital</th>\n",
       "      <th>education</th>\n",
       "      <th>default</th>\n",
       "      <th>balance</th>\n",
       "      <th>housing</th>\n",
       "      <th>loan</th>\n",
       "      <th>contact</th>\n",
       "      <th>day</th>\n",
       "      <th>month</th>\n",
       "      <th>duration</th>\n",
       "      <th>campaign</th>\n",
       "      <th>pdays</th>\n",
       "      <th>previous</th>\n",
       "      <th>poutcome</th>\n",
       "      <th>ResponClient</th>\n",
       "    </tr>\n",
       "  </thead>\n",
       "  <tbody>\n",
       "    <tr>\n",
       "      <th>0</th>\n",
       "      <td>30</td>\n",
       "      <td>unemployed</td>\n",
       "      <td>married</td>\n",
       "      <td>primary</td>\n",
       "      <td>no</td>\n",
       "      <td>1787</td>\n",
       "      <td>no</td>\n",
       "      <td>no</td>\n",
       "      <td>cellular</td>\n",
       "      <td>19</td>\n",
       "      <td>oct</td>\n",
       "      <td>79</td>\n",
       "      <td>1</td>\n",
       "      <td>-1</td>\n",
       "      <td>0</td>\n",
       "      <td>unknown</td>\n",
       "      <td>no</td>\n",
       "    </tr>\n",
       "    <tr>\n",
       "      <th>1</th>\n",
       "      <td>33</td>\n",
       "      <td>services</td>\n",
       "      <td>married</td>\n",
       "      <td>secondary</td>\n",
       "      <td>no</td>\n",
       "      <td>4789</td>\n",
       "      <td>yes</td>\n",
       "      <td>yes</td>\n",
       "      <td>cellular</td>\n",
       "      <td>11</td>\n",
       "      <td>may</td>\n",
       "      <td>220</td>\n",
       "      <td>1</td>\n",
       "      <td>339</td>\n",
       "      <td>4</td>\n",
       "      <td>failure</td>\n",
       "      <td>no</td>\n",
       "    </tr>\n",
       "    <tr>\n",
       "      <th>2</th>\n",
       "      <td>35</td>\n",
       "      <td>management</td>\n",
       "      <td>single</td>\n",
       "      <td>tertiary</td>\n",
       "      <td>no</td>\n",
       "      <td>1350</td>\n",
       "      <td>yes</td>\n",
       "      <td>no</td>\n",
       "      <td>cellular</td>\n",
       "      <td>16</td>\n",
       "      <td>apr</td>\n",
       "      <td>185</td>\n",
       "      <td>1</td>\n",
       "      <td>330</td>\n",
       "      <td>1</td>\n",
       "      <td>failure</td>\n",
       "      <td>no</td>\n",
       "    </tr>\n",
       "    <tr>\n",
       "      <th>3</th>\n",
       "      <td>30</td>\n",
       "      <td>management</td>\n",
       "      <td>married</td>\n",
       "      <td>tertiary</td>\n",
       "      <td>no</td>\n",
       "      <td>1476</td>\n",
       "      <td>yes</td>\n",
       "      <td>yes</td>\n",
       "      <td>unknown</td>\n",
       "      <td>3</td>\n",
       "      <td>jun</td>\n",
       "      <td>199</td>\n",
       "      <td>4</td>\n",
       "      <td>-1</td>\n",
       "      <td>0</td>\n",
       "      <td>unknown</td>\n",
       "      <td>no</td>\n",
       "    </tr>\n",
       "    <tr>\n",
       "      <th>4</th>\n",
       "      <td>59</td>\n",
       "      <td>blue-collar</td>\n",
       "      <td>married</td>\n",
       "      <td>secondary</td>\n",
       "      <td>no</td>\n",
       "      <td>0</td>\n",
       "      <td>yes</td>\n",
       "      <td>no</td>\n",
       "      <td>unknown</td>\n",
       "      <td>5</td>\n",
       "      <td>may</td>\n",
       "      <td>226</td>\n",
       "      <td>1</td>\n",
       "      <td>-1</td>\n",
       "      <td>0</td>\n",
       "      <td>unknown</td>\n",
       "      <td>no</td>\n",
       "    </tr>\n",
       "    <tr>\n",
       "      <th>...</th>\n",
       "      <td>...</td>\n",
       "      <td>...</td>\n",
       "      <td>...</td>\n",
       "      <td>...</td>\n",
       "      <td>...</td>\n",
       "      <td>...</td>\n",
       "      <td>...</td>\n",
       "      <td>...</td>\n",
       "      <td>...</td>\n",
       "      <td>...</td>\n",
       "      <td>...</td>\n",
       "      <td>...</td>\n",
       "      <td>...</td>\n",
       "      <td>...</td>\n",
       "      <td>...</td>\n",
       "      <td>...</td>\n",
       "      <td>...</td>\n",
       "    </tr>\n",
       "    <tr>\n",
       "      <th>4516</th>\n",
       "      <td>33</td>\n",
       "      <td>services</td>\n",
       "      <td>married</td>\n",
       "      <td>secondary</td>\n",
       "      <td>no</td>\n",
       "      <td>-333</td>\n",
       "      <td>yes</td>\n",
       "      <td>no</td>\n",
       "      <td>cellular</td>\n",
       "      <td>30</td>\n",
       "      <td>jul</td>\n",
       "      <td>329</td>\n",
       "      <td>5</td>\n",
       "      <td>-1</td>\n",
       "      <td>0</td>\n",
       "      <td>unknown</td>\n",
       "      <td>no</td>\n",
       "    </tr>\n",
       "    <tr>\n",
       "      <th>4517</th>\n",
       "      <td>57</td>\n",
       "      <td>self-employed</td>\n",
       "      <td>married</td>\n",
       "      <td>tertiary</td>\n",
       "      <td>yes</td>\n",
       "      <td>-3313</td>\n",
       "      <td>yes</td>\n",
       "      <td>yes</td>\n",
       "      <td>unknown</td>\n",
       "      <td>9</td>\n",
       "      <td>may</td>\n",
       "      <td>153</td>\n",
       "      <td>1</td>\n",
       "      <td>-1</td>\n",
       "      <td>0</td>\n",
       "      <td>unknown</td>\n",
       "      <td>no</td>\n",
       "    </tr>\n",
       "    <tr>\n",
       "      <th>4518</th>\n",
       "      <td>57</td>\n",
       "      <td>technician</td>\n",
       "      <td>married</td>\n",
       "      <td>secondary</td>\n",
       "      <td>no</td>\n",
       "      <td>295</td>\n",
       "      <td>no</td>\n",
       "      <td>no</td>\n",
       "      <td>cellular</td>\n",
       "      <td>19</td>\n",
       "      <td>aug</td>\n",
       "      <td>151</td>\n",
       "      <td>11</td>\n",
       "      <td>-1</td>\n",
       "      <td>0</td>\n",
       "      <td>unknown</td>\n",
       "      <td>no</td>\n",
       "    </tr>\n",
       "    <tr>\n",
       "      <th>4519</th>\n",
       "      <td>28</td>\n",
       "      <td>blue-collar</td>\n",
       "      <td>married</td>\n",
       "      <td>secondary</td>\n",
       "      <td>no</td>\n",
       "      <td>1137</td>\n",
       "      <td>no</td>\n",
       "      <td>no</td>\n",
       "      <td>cellular</td>\n",
       "      <td>6</td>\n",
       "      <td>feb</td>\n",
       "      <td>129</td>\n",
       "      <td>4</td>\n",
       "      <td>211</td>\n",
       "      <td>3</td>\n",
       "      <td>other</td>\n",
       "      <td>no</td>\n",
       "    </tr>\n",
       "    <tr>\n",
       "      <th>4520</th>\n",
       "      <td>44</td>\n",
       "      <td>entrepreneur</td>\n",
       "      <td>single</td>\n",
       "      <td>tertiary</td>\n",
       "      <td>no</td>\n",
       "      <td>1136</td>\n",
       "      <td>yes</td>\n",
       "      <td>yes</td>\n",
       "      <td>cellular</td>\n",
       "      <td>3</td>\n",
       "      <td>apr</td>\n",
       "      <td>345</td>\n",
       "      <td>2</td>\n",
       "      <td>249</td>\n",
       "      <td>7</td>\n",
       "      <td>other</td>\n",
       "      <td>no</td>\n",
       "    </tr>\n",
       "  </tbody>\n",
       "</table>\n",
       "<p>4521 rows × 17 columns</p>\n",
       "</div>"
      ],
      "text/plain": [
       "      age            job  marital  education default  balance housing loan  \\\n",
       "0      30     unemployed  married    primary      no     1787      no   no   \n",
       "1      33       services  married  secondary      no     4789     yes  yes   \n",
       "2      35     management   single   tertiary      no     1350     yes   no   \n",
       "3      30     management  married   tertiary      no     1476     yes  yes   \n",
       "4      59    blue-collar  married  secondary      no        0     yes   no   \n",
       "...   ...            ...      ...        ...     ...      ...     ...  ...   \n",
       "4516   33       services  married  secondary      no     -333     yes   no   \n",
       "4517   57  self-employed  married   tertiary     yes    -3313     yes  yes   \n",
       "4518   57     technician  married  secondary      no      295      no   no   \n",
       "4519   28    blue-collar  married  secondary      no     1137      no   no   \n",
       "4520   44   entrepreneur   single   tertiary      no     1136     yes  yes   \n",
       "\n",
       "       contact  day month  duration  campaign  pdays  previous poutcome  \\\n",
       "0     cellular   19   oct        79         1     -1         0  unknown   \n",
       "1     cellular   11   may       220         1    339         4  failure   \n",
       "2     cellular   16   apr       185         1    330         1  failure   \n",
       "3      unknown    3   jun       199         4     -1         0  unknown   \n",
       "4      unknown    5   may       226         1     -1         0  unknown   \n",
       "...        ...  ...   ...       ...       ...    ...       ...      ...   \n",
       "4516  cellular   30   jul       329         5     -1         0  unknown   \n",
       "4517   unknown    9   may       153         1     -1         0  unknown   \n",
       "4518  cellular   19   aug       151        11     -1         0  unknown   \n",
       "4519  cellular    6   feb       129         4    211         3    other   \n",
       "4520  cellular    3   apr       345         2    249         7    other   \n",
       "\n",
       "     ResponClient  \n",
       "0              no  \n",
       "1              no  \n",
       "2              no  \n",
       "3              no  \n",
       "4              no  \n",
       "...           ...  \n",
       "4516           no  \n",
       "4517           no  \n",
       "4518           no  \n",
       "4519           no  \n",
       "4520           no  \n",
       "\n",
       "[4521 rows x 17 columns]"
      ]
     },
     "execution_count": 9,
     "metadata": {},
     "output_type": "execute_result"
    }
   ],
   "source": [
    "df = df.rename(columns={\"y\":'ResponClient'})\n",
    "df"
   ]
  },
  {
   "cell_type": "markdown",
   "id": "03ff364d",
   "metadata": {},
   "source": [
    "Sekarang kita lihat data yang missing value"
   ]
  },
  {
   "cell_type": "code",
   "execution_count": 10,
   "id": "723478eb",
   "metadata": {},
   "outputs": [
    {
     "data": {
      "text/plain": [
       "age             0\n",
       "job             0\n",
       "marital         0\n",
       "education       0\n",
       "default         0\n",
       "balance         0\n",
       "housing         0\n",
       "loan            0\n",
       "contact         0\n",
       "day             0\n",
       "month           0\n",
       "duration        0\n",
       "campaign        0\n",
       "pdays           0\n",
       "previous        0\n",
       "poutcome        0\n",
       "ResponClient    0\n",
       "dtype: int64"
      ]
     },
     "execution_count": 10,
     "metadata": {},
     "output_type": "execute_result"
    }
   ],
   "source": [
    "df.isna().sum()"
   ]
  },
  {
   "cell_type": "markdown",
   "id": "ae25835a",
   "metadata": {},
   "source": [
    "Tidak ada data yang missing value, lalu kita cek data yang terduplkikat"
   ]
  },
  {
   "cell_type": "code",
   "execution_count": 11,
   "id": "b12c26b9",
   "metadata": {},
   "outputs": [
    {
     "data": {
      "text/plain": [
       "0"
      ]
     },
     "execution_count": 11,
     "metadata": {},
     "output_type": "execute_result"
    }
   ],
   "source": [
    "df.duplicated().sum()"
   ]
  },
  {
   "cell_type": "markdown",
   "id": "f39ba33b",
   "metadata": {},
   "source": [
    "Karena dirasa sudah siap datanya, tidak ada missing value maupun data duplikat kita masuk kedalam Exploratory Data Analysis"
   ]
  },
  {
   "cell_type": "markdown",
   "id": "c1f1c6d1",
   "metadata": {},
   "source": [
    "#  Exploratory Data Analysis"
   ]
  },
  {
   "cell_type": "markdown",
   "id": "fdee2013",
   "metadata": {},
   "source": [
    "## Visualisasi Data"
   ]
  },
  {
   "cell_type": "markdown",
   "id": "38757476",
   "metadata": {},
   "source": [
    "Rumusan Masalah\n",
    "\n",
    "> Berapakah jumlah client yang ingin bergabung dengan deposit ini? Apakah diatas 50%?\n",
    "\n",
    "> Apa mayoritas pekerjaan orang yang mengisi data ini?"
   ]
  },
  {
   "cell_type": "markdown",
   "id": "4c3b6295",
   "metadata": {},
   "source": [
    "###  Berapa Jumlah Client yang ingin bergabung dengan deposit ini? Apakah diatas 50%?"
   ]
  },
  {
   "cell_type": "markdown",
   "id": "6cea39b7",
   "metadata": {},
   "source": [
    "Sekarang kita akan menghitung jumlah Yes dan No pada data diatas"
   ]
  },
  {
   "cell_type": "code",
   "execution_count": 12,
   "id": "822ed5d7",
   "metadata": {},
   "outputs": [
    {
     "data": {
      "text/html": [
       "<div>\n",
       "<style scoped>\n",
       "    .dataframe tbody tr th:only-of-type {\n",
       "        vertical-align: middle;\n",
       "    }\n",
       "\n",
       "    .dataframe tbody tr th {\n",
       "        vertical-align: top;\n",
       "    }\n",
       "\n",
       "    .dataframe thead th {\n",
       "        text-align: right;\n",
       "    }\n",
       "</style>\n",
       "<table border=\"1\" class=\"dataframe\">\n",
       "  <thead>\n",
       "    <tr style=\"text-align: right;\">\n",
       "      <th></th>\n",
       "      <th>Jumlah Jawaban</th>\n",
       "    </tr>\n",
       "  </thead>\n",
       "  <tbody>\n",
       "    <tr>\n",
       "      <th>no</th>\n",
       "      <td>4000</td>\n",
       "    </tr>\n",
       "    <tr>\n",
       "      <th>yes</th>\n",
       "      <td>521</td>\n",
       "    </tr>\n",
       "  </tbody>\n",
       "</table>\n",
       "</div>"
      ],
      "text/plain": [
       "     Jumlah Jawaban\n",
       "no             4000\n",
       "yes             521"
      ]
     },
     "execution_count": 12,
     "metadata": {},
     "output_type": "execute_result"
    }
   ],
   "source": [
    "jawaban_client = pd.DataFrame({\"Jumlah Jawaban\":df[\"ResponClient\"].value_counts()})\n",
    "jawaban_client"
   ]
  },
  {
   "cell_type": "markdown",
   "id": "b125a311",
   "metadata": {},
   "source": [
    "Ternyata dari data diatas dapat disimpulkan bahwa banyak client yang tidak ingin bergabung sebanyak 39922 orang dan 5289. Tandanya tidak ada 50% orang yang ingin bergabung kedalam deposit berjangka ini"
   ]
  },
  {
   "cell_type": "markdown",
   "id": "60110fdc",
   "metadata": {},
   "source": [
    "Untuk lebih jelas lagi melihatnya mari kita gunakan Histrogram untuk menunjukan jumlah nya, dan persentasenya persen menggunakan pie chart"
   ]
  },
  {
   "cell_type": "markdown",
   "id": "ccc4b5d9",
   "metadata": {},
   "source": [
    "masukan data yang ingin di persentasekan"
   ]
  },
  {
   "cell_type": "code",
   "execution_count": 13,
   "id": "263d9b2c",
   "metadata": {},
   "outputs": [],
   "source": [
    "data_jumlah_yesno = jawaban_client[\"Jumlah Jawaban\"] #mengunci data pada kolom jumlah jawaban"
   ]
  },
  {
   "cell_type": "markdown",
   "id": "b1a044a2",
   "metadata": {},
   "source": [
    "Mari kita lihat menggunakan Histogram"
   ]
  },
  {
   "cell_type": "code",
   "execution_count": 14,
   "id": "3e25c2af",
   "metadata": {},
   "outputs": [
    {
     "data": {
      "image/png": "[encoded data removed]",
      "text/plain": [
       "<Figure size 432x288 with 1 Axes>"
      ]
     },
     "metadata": {
      "needs_background": "light"
     },
     "output_type": "display_data"
    }
   ],
   "source": [
    "label=[\"YES\",\"NO\"]\n",
    "data_jumlah_yesno.plot(kind=\"bar\")\n",
    "plt.bar(label,data_jumlah_yesno, color=['purple', 'yellow'])\n",
    "plt.title('Diagram Perbandingan Client Bergabung') #judul\n",
    "plt.xlabel(\"Indikasi\")\n",
    "plt.ylabel(\"Jumlah\")\n",
    "plt.show() #tampilkan"
   ]
  },
  {
   "cell_type": "markdown",
   "id": "2f5954d4",
   "metadata": {},
   "source": [
    "Mari kita lihat poersentasenya dalam PIE CHARTT"
   ]
  },
  {
   "cell_type": "code",
   "execution_count": 15,
   "id": "1369e7b5",
   "metadata": {},
   "outputs": [
    {
     "data": {
      "image/png": "[encoded data removed]",
      "text/plain": [
       "<Figure size 432x288 with 1 Axes>"
      ]
     },
     "metadata": {},
     "output_type": "display_data"
    }
   ],
   "source": [
    "# Plot pie chart\n",
    "plt.pie(data_jumlah_yesno, labels=[\"Bergabung\",\"Tidak\"], autopct='%1.1f%%', startangle=90, colors=['purple',\"yellow\"])\n",
    "\n",
    "# Mengatur aspek proporsi pie chart menjadi sama agar terlihat bulat\n",
    "plt.axis('equal')\n",
    "\n",
    "# Menambahkan judul\n",
    "plt.title('Presentase Client yang ingin bergabung dan tidak')\n",
    "\n",
    "# Menampilkan pie chart\n",
    "plt.show()"
   ]
  },
  {
   "cell_type": "markdown",
   "id": "8a01bba5",
   "metadata": {},
   "source": [
    "_Kesimpulan_\n",
    "Bisa kita lihat pada chart bar dan pie chart, mayoritas orang tidak ingin bergabung dalam deposit berjang ini, Persentasenya 88.3% : 11.7% dengan 39922 : 5289 orang "
   ]
  },
  {
   "cell_type": "markdown",
   "id": "02c5fee0",
   "metadata": {},
   "source": [
    "###  Apa mayoritas pekerjaan orang yang mengisi data ini?"
   ]
  },
  {
   "cell_type": "markdown",
   "id": "74cf0276",
   "metadata": {},
   "source": [
    "Sekarang kita akan melihat berapa persentase tiap pekerjaannya"
   ]
  },
  {
   "cell_type": "code",
   "execution_count": 16,
   "id": "cc7e243f",
   "metadata": {},
   "outputs": [
    {
     "data": {
      "text/plain": [
       "unknown           38\n",
       "student           84\n",
       "housemaid        112\n",
       "unemployed       128\n",
       "entrepreneur     168\n",
       "self-employed    183\n",
       "retired          230\n",
       "services         417\n",
       "admin.           478\n",
       "technician       768\n",
       "blue-collar      946\n",
       "management       969\n",
       "Name: job, dtype: int64"
      ]
     },
     "execution_count": 16,
     "metadata": {},
     "output_type": "execute_result"
    }
   ],
   "source": [
    "totaljob=df[\"job\"].value_counts().sort_values()\n",
    "totaljob"
   ]
  },
  {
   "cell_type": "markdown",
   "id": "396bcfc2",
   "metadata": {},
   "source": [
    "Bisa kita lihat data tertinggi ada pada blue-collar. Sekarang kita lihat menggunakan Barchart lagi"
   ]
  },
  {
   "cell_type": "code",
   "execution_count": 17,
   "id": "5a2fb581",
   "metadata": {},
   "outputs": [
    {
     "data": {
      "text/plain": [
       "<AxesSubplot:>"
      ]
     },
     "execution_count": 17,
     "metadata": {},
     "output_type": "execute_result"
    },
    {
     "data": {
      "image/png": "[encoded data removed]",
      "text/plain": [
       "<Figure size 432x288 with 1 Axes>"
      ]
     },
     "metadata": {
      "needs_background": "light"
     },
     "output_type": "display_data"
    }
   ],
   "source": [
    "totaljob.plot(kind=\"bar\")"
   ]
  },
  {
   "cell_type": "markdown",
   "id": "99473e0c",
   "metadata": {},
   "source": [
    "_keterangan_\n",
    "Brati bisa kita liohat bahwa Blue-collar adalah mayoritas pekerjaan yang mengisi data ini"
   ]
  },
  {
   "cell_type": "markdown",
   "id": "d153a378",
   "metadata": {},
   "source": [
    "Sekarang kita akan masuk kedalam permodelannya"
   ]
  },
  {
   "cell_type": "markdown",
   "id": "e6aff11a",
   "metadata": {},
   "source": [
    "# Preprocesing Data"
   ]
  },
  {
   "cell_type": "markdown",
   "id": "e18c9ad3",
   "metadata": {},
   "source": [
    "Sebelum memasuki permodelannya, mari kita ubah tipe data objek ke dalam bnt int, karena ML tidak dapat memproses data yang string, Jadi harus kita ubah kedalam numerical dengan encoder"
   ]
  },
  {
   "cell_type": "markdown",
   "id": "3a697553",
   "metadata": {},
   "source": [
    "## Encode"
   ]
  },
  {
   "cell_type": "code",
   "execution_count": 18,
   "id": "c5a7ec85",
   "metadata": {},
   "outputs": [],
   "source": [
    "#creating labelEncoder\n",
    "\n",
    "# preprocessing.LabelEncoder() digunakan untuk membuat objek LabelEncoder yang akan digunakan untuk melakukan encoding pada setiap kolom.\n",
    "label_encoder = preprocessing.LabelEncoder()\n",
    "\n",
    "# mengambil tipe data object pada dataset dan di simpan di df_new\n",
    "df_category = df.select_dtypes(include='object')\n",
    "df_new = df.copy()\n",
    "\n",
    "for column in df_category.columns:\n",
    "    df_new[column] = label_encoder.fit_transform(df[column])"
   ]
  },
  {
   "cell_type": "code",
   "execution_count": 19,
   "id": "2fb5663d",
   "metadata": {},
   "outputs": [
    {
     "name": "stdout",
     "output_type": "stream",
     "text": [
      "<class 'pandas.core.frame.DataFrame'>\n",
      "RangeIndex: 4521 entries, 0 to 4520\n",
      "Data columns (total 17 columns):\n",
      " #   Column        Non-Null Count  Dtype\n",
      "---  ------        --------------  -----\n",
      " 0   age           4521 non-null   int64\n",
      " 1   job           4521 non-null   int32\n",
      " 2   marital       4521 non-null   int32\n",
      " 3   education     4521 non-null   int32\n",
      " 4   default       4521 non-null   int32\n",
      " 5   balance       4521 non-null   int64\n",
      " 6   housing       4521 non-null   int32\n",
      " 7   loan          4521 non-null   int32\n",
      " 8   contact       4521 non-null   int32\n",
      " 9   day           4521 non-null   int64\n",
      " 10  month         4521 non-null   int32\n",
      " 11  duration      4521 non-null   int64\n",
      " 12  campaign      4521 non-null   int64\n",
      " 13  pdays         4521 non-null   int64\n",
      " 14  previous      4521 non-null   int64\n",
      " 15  poutcome      4521 non-null   int32\n",
      " 16  ResponClient  4521 non-null   int32\n",
      "dtypes: int32(10), int64(7)\n",
      "memory usage: 424.0 KB\n"
     ]
    }
   ],
   "source": [
    "df_new.info()"
   ]
  },
  {
   "cell_type": "markdown",
   "id": "2cd7fc72",
   "metadata": {},
   "source": [
    "Jika semua data sudah berubah ke int, maka dari itu sudah bisa diolah oleh ML, sekrang mari kita lihat 5 ndata teratas"
   ]
  },
  {
   "cell_type": "code",
   "execution_count": 20,
   "id": "94be5cf0",
   "metadata": {},
   "outputs": [
    {
     "data": {
      "text/html": [
       "<div>\n",
       "<style scoped>\n",
       "    .dataframe tbody tr th:only-of-type {\n",
       "        vertical-align: middle;\n",
       "    }\n",
       "\n",
       "    .dataframe tbody tr th {\n",
       "        vertical-align: top;\n",
       "    }\n",
       "\n",
       "    .dataframe thead th {\n",
       "        text-align: right;\n",
       "    }\n",
       "</style>\n",
       "<table border=\"1\" class=\"dataframe\">\n",
       "  <thead>\n",
       "    <tr style=\"text-align: right;\">\n",
       "      <th></th>\n",
       "      <th>age</th>\n",
       "      <th>job</th>\n",
       "      <th>marital</th>\n",
       "      <th>education</th>\n",
       "      <th>default</th>\n",
       "      <th>balance</th>\n",
       "      <th>housing</th>\n",
       "      <th>loan</th>\n",
       "      <th>contact</th>\n",
       "      <th>day</th>\n",
       "      <th>month</th>\n",
       "      <th>duration</th>\n",
       "      <th>campaign</th>\n",
       "      <th>pdays</th>\n",
       "      <th>previous</th>\n",
       "      <th>poutcome</th>\n",
       "      <th>ResponClient</th>\n",
       "    </tr>\n",
       "  </thead>\n",
       "  <tbody>\n",
       "    <tr>\n",
       "      <th>0</th>\n",
       "      <td>30</td>\n",
       "      <td>10</td>\n",
       "      <td>1</td>\n",
       "      <td>0</td>\n",
       "      <td>0</td>\n",
       "      <td>1787</td>\n",
       "      <td>0</td>\n",
       "      <td>0</td>\n",
       "      <td>0</td>\n",
       "      <td>19</td>\n",
       "      <td>10</td>\n",
       "      <td>79</td>\n",
       "      <td>1</td>\n",
       "      <td>-1</td>\n",
       "      <td>0</td>\n",
       "      <td>3</td>\n",
       "      <td>0</td>\n",
       "    </tr>\n",
       "    <tr>\n",
       "      <th>1</th>\n",
       "      <td>33</td>\n",
       "      <td>7</td>\n",
       "      <td>1</td>\n",
       "      <td>1</td>\n",
       "      <td>0</td>\n",
       "      <td>4789</td>\n",
       "      <td>1</td>\n",
       "      <td>1</td>\n",
       "      <td>0</td>\n",
       "      <td>11</td>\n",
       "      <td>8</td>\n",
       "      <td>220</td>\n",
       "      <td>1</td>\n",
       "      <td>339</td>\n",
       "      <td>4</td>\n",
       "      <td>0</td>\n",
       "      <td>0</td>\n",
       "    </tr>\n",
       "    <tr>\n",
       "      <th>2</th>\n",
       "      <td>35</td>\n",
       "      <td>4</td>\n",
       "      <td>2</td>\n",
       "      <td>2</td>\n",
       "      <td>0</td>\n",
       "      <td>1350</td>\n",
       "      <td>1</td>\n",
       "      <td>0</td>\n",
       "      <td>0</td>\n",
       "      <td>16</td>\n",
       "      <td>0</td>\n",
       "      <td>185</td>\n",
       "      <td>1</td>\n",
       "      <td>330</td>\n",
       "      <td>1</td>\n",
       "      <td>0</td>\n",
       "      <td>0</td>\n",
       "    </tr>\n",
       "    <tr>\n",
       "      <th>3</th>\n",
       "      <td>30</td>\n",
       "      <td>4</td>\n",
       "      <td>1</td>\n",
       "      <td>2</td>\n",
       "      <td>0</td>\n",
       "      <td>1476</td>\n",
       "      <td>1</td>\n",
       "      <td>1</td>\n",
       "      <td>2</td>\n",
       "      <td>3</td>\n",
       "      <td>6</td>\n",
       "      <td>199</td>\n",
       "      <td>4</td>\n",
       "      <td>-1</td>\n",
       "      <td>0</td>\n",
       "      <td>3</td>\n",
       "      <td>0</td>\n",
       "    </tr>\n",
       "    <tr>\n",
       "      <th>4</th>\n",
       "      <td>59</td>\n",
       "      <td>1</td>\n",
       "      <td>1</td>\n",
       "      <td>1</td>\n",
       "      <td>0</td>\n",
       "      <td>0</td>\n",
       "      <td>1</td>\n",
       "      <td>0</td>\n",
       "      <td>2</td>\n",
       "      <td>5</td>\n",
       "      <td>8</td>\n",
       "      <td>226</td>\n",
       "      <td>1</td>\n",
       "      <td>-1</td>\n",
       "      <td>0</td>\n",
       "      <td>3</td>\n",
       "      <td>0</td>\n",
       "    </tr>\n",
       "  </tbody>\n",
       "</table>\n",
       "</div>"
      ],
      "text/plain": [
       "   age  job  marital  education  default  balance  housing  loan  contact  \\\n",
       "0   30   10        1          0        0     1787        0     0        0   \n",
       "1   33    7        1          1        0     4789        1     1        0   \n",
       "2   35    4        2          2        0     1350        1     0        0   \n",
       "3   30    4        1          2        0     1476        1     1        2   \n",
       "4   59    1        1          1        0        0        1     0        2   \n",
       "\n",
       "   day  month  duration  campaign  pdays  previous  poutcome  ResponClient  \n",
       "0   19     10        79         1     -1         0         3             0  \n",
       "1   11      8       220         1    339         4         0             0  \n",
       "2   16      0       185         1    330         1         0             0  \n",
       "3    3      6       199         4     -1         0         3             0  \n",
       "4    5      8       226         1     -1         0         3             0  "
      ]
     },
     "execution_count": 20,
     "metadata": {},
     "output_type": "execute_result"
    }
   ],
   "source": [
    "df_new.head()"
   ]
  },
  {
   "cell_type": "markdown",
   "id": "355d4f53",
   "metadata": {},
   "source": [
    "Bisa kita lihat data diatas, jaraknya jauh. Seperti 261 dengan 1 dan lainnya. Maka dari itu kita lakukan Standardization"
   ]
  },
  {
   "cell_type": "markdown",
   "id": "c83edfc2",
   "metadata": {},
   "source": [
    "## Standarzation"
   ]
  },
  {
   "cell_type": "code",
   "execution_count": 21,
   "id": "5cbdde79",
   "metadata": {},
   "outputs": [],
   "source": [
    "scaler = preprocessing.StandardScaler()# membuat objek StandardScaler utuk melakukan scaling pada setiap kolom numerik\n",
    "scale_df = df_new.copy()# copy data frame df_new dan simpan pada scale_df\n",
    "\n",
    "# setiap kolom diubah nilainya dengan method fit_trasnform() dan hasilnya disimpan pada numeric_df\n",
    "numeric_df = df_new.select_dtypes(include=['int64','float64','int32'])\n",
    "for column in numeric_df.columns:\n",
    "  scale_df[column] = scaler.fit_transform(df_new[column].values.reshape(-1,1))"
   ]
  },
  {
   "cell_type": "code",
   "execution_count": 22,
   "id": "5606daf8",
   "metadata": {},
   "outputs": [
    {
     "data": {
      "text/html": [
       "<div>\n",
       "<style scoped>\n",
       "    .dataframe tbody tr th:only-of-type {\n",
       "        vertical-align: middle;\n",
       "    }\n",
       "\n",
       "    .dataframe tbody tr th {\n",
       "        vertical-align: top;\n",
       "    }\n",
       "\n",
       "    .dataframe thead th {\n",
       "        text-align: right;\n",
       "    }\n",
       "</style>\n",
       "<table border=\"1\" class=\"dataframe\">\n",
       "  <thead>\n",
       "    <tr style=\"text-align: right;\">\n",
       "      <th></th>\n",
       "      <th>age</th>\n",
       "      <th>job</th>\n",
       "      <th>marital</th>\n",
       "      <th>education</th>\n",
       "      <th>default</th>\n",
       "      <th>balance</th>\n",
       "      <th>housing</th>\n",
       "      <th>loan</th>\n",
       "      <th>contact</th>\n",
       "      <th>day</th>\n",
       "      <th>month</th>\n",
       "      <th>duration</th>\n",
       "      <th>campaign</th>\n",
       "      <th>pdays</th>\n",
       "      <th>previous</th>\n",
       "      <th>poutcome</th>\n",
       "      <th>ResponClient</th>\n",
       "    </tr>\n",
       "  </thead>\n",
       "  <tbody>\n",
       "    <tr>\n",
       "      <th>0</th>\n",
       "      <td>-1.056270</td>\n",
       "      <td>1.716804</td>\n",
       "      <td>-0.246429</td>\n",
       "      <td>-1.644755</td>\n",
       "      <td>-0.130759</td>\n",
       "      <td>0.121072</td>\n",
       "      <td>-1.142051</td>\n",
       "      <td>-0.424756</td>\n",
       "      <td>-0.723642</td>\n",
       "      <td>0.374052</td>\n",
       "      <td>1.485414</td>\n",
       "      <td>-0.711861</td>\n",
       "      <td>-0.576829</td>\n",
       "      <td>-0.407218</td>\n",
       "      <td>-0.320413</td>\n",
       "      <td>0.444413</td>\n",
       "      <td>-0.360902</td>\n",
       "    </tr>\n",
       "    <tr>\n",
       "      <th>1</th>\n",
       "      <td>-0.772583</td>\n",
       "      <td>0.795246</td>\n",
       "      <td>-0.246429</td>\n",
       "      <td>-0.309038</td>\n",
       "      <td>-0.130759</td>\n",
       "      <td>1.118644</td>\n",
       "      <td>0.875617</td>\n",
       "      <td>2.354292</td>\n",
       "      <td>-0.723642</td>\n",
       "      <td>-0.596026</td>\n",
       "      <td>0.819288</td>\n",
       "      <td>-0.169194</td>\n",
       "      <td>-0.576829</td>\n",
       "      <td>2.989044</td>\n",
       "      <td>2.041734</td>\n",
       "      <td>-2.579961</td>\n",
       "      <td>-0.360902</td>\n",
       "    </tr>\n",
       "    <tr>\n",
       "      <th>2</th>\n",
       "      <td>-0.583458</td>\n",
       "      <td>-0.126313</td>\n",
       "      <td>1.421396</td>\n",
       "      <td>1.026680</td>\n",
       "      <td>-0.130759</td>\n",
       "      <td>-0.024144</td>\n",
       "      <td>0.875617</td>\n",
       "      <td>-0.424756</td>\n",
       "      <td>-0.723642</td>\n",
       "      <td>0.010273</td>\n",
       "      <td>-1.845220</td>\n",
       "      <td>-0.303898</td>\n",
       "      <td>-0.576829</td>\n",
       "      <td>2.899143</td>\n",
       "      <td>0.270124</td>\n",
       "      <td>-2.579961</td>\n",
       "      <td>-0.360902</td>\n",
       "    </tr>\n",
       "    <tr>\n",
       "      <th>3</th>\n",
       "      <td>-1.056270</td>\n",
       "      <td>-0.126313</td>\n",
       "      <td>-0.246429</td>\n",
       "      <td>1.026680</td>\n",
       "      <td>-0.130759</td>\n",
       "      <td>0.017726</td>\n",
       "      <td>0.875617</td>\n",
       "      <td>2.354292</td>\n",
       "      <td>1.495133</td>\n",
       "      <td>-1.566105</td>\n",
       "      <td>0.153161</td>\n",
       "      <td>-0.250017</td>\n",
       "      <td>0.387967</td>\n",
       "      <td>-0.407218</td>\n",
       "      <td>-0.320413</td>\n",
       "      <td>0.444413</td>\n",
       "      <td>-0.360902</td>\n",
       "    </tr>\n",
       "    <tr>\n",
       "      <th>4</th>\n",
       "      <td>1.686036</td>\n",
       "      <td>-1.047871</td>\n",
       "      <td>-0.246429</td>\n",
       "      <td>-0.309038</td>\n",
       "      <td>-0.130759</td>\n",
       "      <td>-0.472753</td>\n",
       "      <td>0.875617</td>\n",
       "      <td>-0.424756</td>\n",
       "      <td>1.495133</td>\n",
       "      <td>-1.323585</td>\n",
       "      <td>0.819288</td>\n",
       "      <td>-0.146102</td>\n",
       "      <td>-0.576829</td>\n",
       "      <td>-0.407218</td>\n",
       "      <td>-0.320413</td>\n",
       "      <td>0.444413</td>\n",
       "      <td>-0.360902</td>\n",
       "    </tr>\n",
       "    <tr>\n",
       "      <th>...</th>\n",
       "      <td>...</td>\n",
       "      <td>...</td>\n",
       "      <td>...</td>\n",
       "      <td>...</td>\n",
       "      <td>...</td>\n",
       "      <td>...</td>\n",
       "      <td>...</td>\n",
       "      <td>...</td>\n",
       "      <td>...</td>\n",
       "      <td>...</td>\n",
       "      <td>...</td>\n",
       "      <td>...</td>\n",
       "      <td>...</td>\n",
       "      <td>...</td>\n",
       "      <td>...</td>\n",
       "      <td>...</td>\n",
       "      <td>...</td>\n",
       "    </tr>\n",
       "    <tr>\n",
       "      <th>4516</th>\n",
       "      <td>-0.772583</td>\n",
       "      <td>0.795246</td>\n",
       "      <td>-0.246429</td>\n",
       "      <td>-0.309038</td>\n",
       "      <td>-0.130759</td>\n",
       "      <td>-0.583410</td>\n",
       "      <td>0.875617</td>\n",
       "      <td>-0.424756</td>\n",
       "      <td>-0.723642</td>\n",
       "      <td>1.707910</td>\n",
       "      <td>-0.179903</td>\n",
       "      <td>0.250315</td>\n",
       "      <td>0.709566</td>\n",
       "      <td>-0.407218</td>\n",
       "      <td>-0.320413</td>\n",
       "      <td>0.444413</td>\n",
       "      <td>-0.360902</td>\n",
       "    </tr>\n",
       "    <tr>\n",
       "      <th>4517</th>\n",
       "      <td>1.496912</td>\n",
       "      <td>0.488060</td>\n",
       "      <td>-0.246429</td>\n",
       "      <td>1.026680</td>\n",
       "      <td>7.647669</td>\n",
       "      <td>-1.573671</td>\n",
       "      <td>0.875617</td>\n",
       "      <td>2.354292</td>\n",
       "      <td>1.495133</td>\n",
       "      <td>-0.838546</td>\n",
       "      <td>0.819288</td>\n",
       "      <td>-0.427057</td>\n",
       "      <td>-0.576829</td>\n",
       "      <td>-0.407218</td>\n",
       "      <td>-0.320413</td>\n",
       "      <td>0.444413</td>\n",
       "      <td>-0.360902</td>\n",
       "    </tr>\n",
       "    <tr>\n",
       "      <th>4518</th>\n",
       "      <td>1.496912</td>\n",
       "      <td>1.409618</td>\n",
       "      <td>-0.246429</td>\n",
       "      <td>-0.309038</td>\n",
       "      <td>-0.130759</td>\n",
       "      <td>-0.374724</td>\n",
       "      <td>-1.142051</td>\n",
       "      <td>-0.424756</td>\n",
       "      <td>-0.723642</td>\n",
       "      <td>0.374052</td>\n",
       "      <td>-1.512157</td>\n",
       "      <td>-0.434754</td>\n",
       "      <td>2.639160</td>\n",
       "      <td>-0.407218</td>\n",
       "      <td>-0.320413</td>\n",
       "      <td>0.444413</td>\n",
       "      <td>-0.360902</td>\n",
       "    </tr>\n",
       "    <tr>\n",
       "      <th>4519</th>\n",
       "      <td>-1.245394</td>\n",
       "      <td>-1.047871</td>\n",
       "      <td>-0.246429</td>\n",
       "      <td>-0.309038</td>\n",
       "      <td>-0.130759</td>\n",
       "      <td>-0.094925</td>\n",
       "      <td>-1.142051</td>\n",
       "      <td>-0.424756</td>\n",
       "      <td>-0.723642</td>\n",
       "      <td>-1.202326</td>\n",
       "      <td>-0.846030</td>\n",
       "      <td>-0.519426</td>\n",
       "      <td>0.387967</td>\n",
       "      <td>1.710451</td>\n",
       "      <td>1.451197</td>\n",
       "      <td>-1.571836</td>\n",
       "      <td>-0.360902</td>\n",
       "    </tr>\n",
       "    <tr>\n",
       "      <th>4520</th>\n",
       "      <td>0.267602</td>\n",
       "      <td>-0.740685</td>\n",
       "      <td>1.421396</td>\n",
       "      <td>1.026680</td>\n",
       "      <td>-0.130759</td>\n",
       "      <td>-0.095257</td>\n",
       "      <td>0.875617</td>\n",
       "      <td>2.354292</td>\n",
       "      <td>-0.723642</td>\n",
       "      <td>-1.566105</td>\n",
       "      <td>-1.845220</td>\n",
       "      <td>0.311894</td>\n",
       "      <td>-0.255231</td>\n",
       "      <td>2.090033</td>\n",
       "      <td>3.813344</td>\n",
       "      <td>-1.571836</td>\n",
       "      <td>-0.360902</td>\n",
       "    </tr>\n",
       "  </tbody>\n",
       "</table>\n",
       "<p>4521 rows × 17 columns</p>\n",
       "</div>"
      ],
      "text/plain": [
       "           age       job   marital  education   default   balance   housing  \\\n",
       "0    -1.056270  1.716804 -0.246429  -1.644755 -0.130759  0.121072 -1.142051   \n",
       "1    -0.772583  0.795246 -0.246429  -0.309038 -0.130759  1.118644  0.875617   \n",
       "2    -0.583458 -0.126313  1.421396   1.026680 -0.130759 -0.024144  0.875617   \n",
       "3    -1.056270 -0.126313 -0.246429   1.026680 -0.130759  0.017726  0.875617   \n",
       "4     1.686036 -1.047871 -0.246429  -0.309038 -0.130759 -0.472753  0.875617   \n",
       "...        ...       ...       ...        ...       ...       ...       ...   \n",
       "4516 -0.772583  0.795246 -0.246429  -0.309038 -0.130759 -0.583410  0.875617   \n",
       "4517  1.496912  0.488060 -0.246429   1.026680  7.647669 -1.573671  0.875617   \n",
       "4518  1.496912  1.409618 -0.246429  -0.309038 -0.130759 -0.374724 -1.142051   \n",
       "4519 -1.245394 -1.047871 -0.246429  -0.309038 -0.130759 -0.094925 -1.142051   \n",
       "4520  0.267602 -0.740685  1.421396   1.026680 -0.130759 -0.095257  0.875617   \n",
       "\n",
       "          loan   contact       day     month  duration  campaign     pdays  \\\n",
       "0    -0.424756 -0.723642  0.374052  1.485414 -0.711861 -0.576829 -0.407218   \n",
       "1     2.354292 -0.723642 -0.596026  0.819288 -0.169194 -0.576829  2.989044   \n",
       "2    -0.424756 -0.723642  0.010273 -1.845220 -0.303898 -0.576829  2.899143   \n",
       "3     2.354292  1.495133 -1.566105  0.153161 -0.250017  0.387967 -0.407218   \n",
       "4    -0.424756  1.495133 -1.323585  0.819288 -0.146102 -0.576829 -0.407218   \n",
       "...        ...       ...       ...       ...       ...       ...       ...   \n",
       "4516 -0.424756 -0.723642  1.707910 -0.179903  0.250315  0.709566 -0.407218   \n",
       "4517  2.354292  1.495133 -0.838546  0.819288 -0.427057 -0.576829 -0.407218   \n",
       "4518 -0.424756 -0.723642  0.374052 -1.512157 -0.434754  2.639160 -0.407218   \n",
       "4519 -0.424756 -0.723642 -1.202326 -0.846030 -0.519426  0.387967  1.710451   \n",
       "4520  2.354292 -0.723642 -1.566105 -1.845220  0.311894 -0.255231  2.090033   \n",
       "\n",
       "      previous  poutcome  ResponClient  \n",
       "0    -0.320413  0.444413     -0.360902  \n",
       "1     2.041734 -2.579961     -0.360902  \n",
       "2     0.270124 -2.579961     -0.360902  \n",
       "3    -0.320413  0.444413     -0.360902  \n",
       "4    -0.320413  0.444413     -0.360902  \n",
       "...        ...       ...           ...  \n",
       "4516 -0.320413  0.444413     -0.360902  \n",
       "4517 -0.320413  0.444413     -0.360902  \n",
       "4518 -0.320413  0.444413     -0.360902  \n",
       "4519  1.451197 -1.571836     -0.360902  \n",
       "4520  3.813344 -1.571836     -0.360902  \n",
       "\n",
       "[4521 rows x 17 columns]"
      ]
     },
     "execution_count": 22,
     "metadata": {},
     "output_type": "execute_result"
    }
   ],
   "source": [
    "scale_df"
   ]
  },
  {
   "cell_type": "markdown",
   "id": "a96d69c8",
   "metadata": {},
   "source": [
    "Data diatas duah kita sudah di standarzation, skrg kita tampilkan nilai korelasi antar tabelnya. gunakan annot=True untuk menampilkan nilai korelasinya pada HEAT MAP"
   ]
  },
  {
   "cell_type": "markdown",
   "id": "afef6bb9",
   "metadata": {},
   "source": [
    "## HEATMAP"
   ]
  },
  {
   "cell_type": "code",
   "execution_count": 23,
   "id": "315ad215",
   "metadata": {},
   "outputs": [
    {
     "data": {
      "image/png": "[encoded data removed]",
      "text/plain": [
       "<Figure size 2880x1224 with 2 Axes>"
      ]
     },
     "metadata": {
      "needs_background": "light"
     },
     "output_type": "display_data"
    }
   ],
   "source": [
    "\n",
    "plt.figure(figsize=(40, 17))\n",
    "ax = sns.heatmap(scale_df.corr(),annot=True, cmap='viridis', linewidths=.5, linecolor='black', square=True)\n"
   ]
  },
  {
   "cell_type": "markdown",
   "id": "a5467f6e",
   "metadata": {},
   "source": [
    "_KETERANGAN_\n",
    "\n",
    "warna hijau muda atau kuning muda menunjukkan korelasi positif tinggi, \n",
    "\n",
    "sedangkan warna ungu atau biru tua menunjukkan korelasi negatif tinggi."
   ]
  },
  {
   "cell_type": "markdown",
   "id": "892f63ba",
   "metadata": {},
   "source": [
    "Sekarang kita masuk ke dalam MODELING"
   ]
  },
  {
   "cell_type": "markdown",
   "id": "d1b0571b",
   "metadata": {},
   "source": [
    "# MODELING IN MACHINE LEARNING"
   ]
  },
  {
   "cell_type": "markdown",
   "id": "3000c448",
   "metadata": {},
   "source": [
    "Model yang kita buat akan ada 7, diantaranya:\n",
    "\n",
    "1. Logistic Regression\n",
    "2. K-Nearest Neighbour\n",
    "3. Support Vector Machine\n",
    "4. Decision Tree\n",
    "5. Random Forest\n",
    "6. Naive Bayes\n",
    "7. Confusion Matrix"
   ]
  },
  {
   "cell_type": "markdown",
   "id": "cfde4098",
   "metadata": {},
   "source": [
    "Sebelum masuk ke modeling, mari kita tetapkan variabel X dan y nya\n",
    "variable x adlaah variabel bebas, dan y terikat. Untuk y adalah Y_targer, dan sisanya X"
   ]
  },
  {
   "cell_type": "code",
   "execution_count": 24,
   "id": "7c9ab43d",
   "metadata": {},
   "outputs": [],
   "source": [
    "x = df_new.iloc[:,0:16]\n",
    "y = df_new.iloc[:,-1]"
   ]
  },
  {
   "cell_type": "markdown",
   "id": "e0256259",
   "metadata": {},
   "source": [
    "Setelah kita loc, mari kita lakukan pembagian trtaining dan testing. Nantinya pembagian testing dan trainignya dibagi sebebesar 25% testing dan 75 % training/"
   ]
  },
  {
   "cell_type": "code",
   "execution_count": 25,
   "id": "3346db83",
   "metadata": {},
   "outputs": [],
   "source": [
    "x_train,x_test, y_train, y_test = train_test_split(x,y, test_size=25, random_state=1)"
   ]
  },
  {
   "cell_type": "markdown",
   "id": "5f1be62f",
   "metadata": {},
   "source": [
    "## Logistic Regresion"
   ]
  },
  {
   "cell_type": "markdown",
   "id": "9a2f8b6c",
   "metadata": {},
   "source": [
    "Logistic Regresi ini adlaah modeling yang analisanya deangna hubugnan antara 2 variabel yang dependen dan idnependen. Guna dari Logistic Regressioin ini untuk prediksi nilai probabilitas dari sbuah kejadian yang biner atau sering kita jkumpai seperti ya tidak, berhasil gagal."
   ]
  },
  {
   "cell_type": "code",
   "execution_count": 26,
   "id": "71f0f29a",
   "metadata": {},
   "outputs": [
    {
     "name": "stdout",
     "output_type": "stream",
     "text": [
      "Akurasi dari Model 1 ( Logistic Regression) sebesar: 92.0\n"
     ]
    }
   ],
   "source": [
    "#karena sudah import sklearn diawal, tidak perlu import lagi\n",
    "\n",
    "# menggunakan model1 sebagai penampung LOGISTIC REGRESION modeling\n",
    "model1 = LogisticRegression()\n",
    "\n",
    "# Melatih model pada data training\n",
    "model1.fit(x_train, y_train)\n",
    "\n",
    "# Memprediksi kelas Y_target pada data testing\n",
    "model1_pred = model1.predict(x_test)\n",
    "\n",
    "# Menghitung akurasi prediksi pada data testing\n",
    "accuracyModel1 = accuracy_score(y_test, model1_pred)\n",
    "print(\"Akurasi dari Model 1 ( Logistic Regression) sebesar:\", accuracyModel1*100)"
   ]
  },
  {
   "cell_type": "markdown",
   "id": "2f107ad6",
   "metadata": {},
   "source": [
    "## K-NEAREST NEIGHBOUR"
   ]
  },
  {
   "cell_type": "markdown",
   "id": "32cd9a95",
   "metadata": {},
   "source": [
    "KNN adalah algoritma mesin yang digunakan untuk klasifikasi dan juga bisa untuk regresi. untuk KNN sendiri dia akan mencari nilai K tetangga terdekatnya dari data yang baru dan menentukan kelas/ nilai regresi untuk titik data baru berdasarkan mayoritas dari nilai K terdekat"
   ]
  },
  {
   "cell_type": "code",
   "execution_count": 27,
   "id": "f56a19a5",
   "metadata": {},
   "outputs": [
    {
     "name": "stdout",
     "output_type": "stream",
     "text": [
      "Akurasi dari Model 2 (KNN) sebesar: 88.0\n"
     ]
    }
   ],
   "source": [
    "# menggunakan model2 sebagai penampung KNN modeling\n",
    "model2 = KNeighborsClassifier()\n",
    "\n",
    "# Melatih model pada data training\n",
    "model2.fit(x_train,y_train)\n",
    "\n",
    "#memprediksi kelas Y_target pada data testing\n",
    "model2_pred = model2.predict(x_test)\n",
    "\n",
    "# Menghitung akurasi prediksi pada data testing\n",
    "accuracyModel2 = accuracy_score(y_test,model2_pred)\n",
    "print(\"Akurasi dari Model 2 (KNN) sebesar:\", accuracyModel2*100)"
   ]
  },
  {
   "cell_type": "markdown",
   "id": "4cbc40e3",
   "metadata": {},
   "source": [
    "## Support Vector Machine (SVM)"
   ]
  },
  {
   "cell_type": "markdown",
   "id": "15c7d483",
   "metadata": {},
   "source": [
    "SVM bekerja dengan mencari hyperplane (garis, bidang, atau ruang) terbaik untuk memisahkan data yang berbeda kelas atau nilai target pada sebuah ruang berdimensi tinggi. Hyperplane yang dipilih harus memaksimalkan jarak antara kelas yang berbeda sehingga dapat menghasilkan model yang akurat dan robust."
   ]
  },
  {
   "cell_type": "code",
   "execution_count": 28,
   "id": "00c6bf1c",
   "metadata": {},
   "outputs": [
    {
     "name": "stdout",
     "output_type": "stream",
     "text": [
      "Akurasi dari Model 3 (SVM) sebesar: 80.0\n"
     ]
    }
   ],
   "source": [
    "# Membuat objek SVM\n",
    "model3 = SVC(kernel='linear')\n",
    "\n",
    "# Melatih model pada data training\n",
    "model3.fit(x_train, y_train)\n",
    "\n",
    "# Memprediksi kelas target pada data testing\n",
    "model3_pred = model3.predict(x_test)\n",
    "\n",
    "# Menghitung akurasi prediksi pada data testing\n",
    "accuracyModel3 = accuracy_score(y_test, model3_pred)\n",
    "print(\"Akurasi dari Model 3 (SVM) sebesar:\", accuracyModel3*100)"
   ]
  },
  {
   "cell_type": "markdown",
   "id": "ace4d0fc",
   "metadata": {},
   "source": [
    "## Decision Tree"
   ]
  },
  {
   "cell_type": "markdown",
   "id": "9f7b00a2",
   "metadata": {},
   "source": [
    "Decision tree ini menghasilkan struktur pohon yang nantinya dapat digunakan untuk mengambil sebuah keputusan dengan menganalisis fitur fitur pada data yang ada."
   ]
  },
  {
   "cell_type": "code",
   "execution_count": 29,
   "id": "fddbc6b0",
   "metadata": {},
   "outputs": [
    {
     "name": "stdout",
     "output_type": "stream",
     "text": [
      "Akurasi dari Model 4 (Decision Tree) sebesar: 84.0\n"
     ]
    }
   ],
   "source": [
    "from sklearn.tree import DecisionTreeClassifier\n",
    "# Membuat objek Decision Tree\n",
    "model4 = DecisionTreeClassifier()\n",
    "\n",
    "# Melatih model pada data training\n",
    "model4.fit(x_train, y_train)\n",
    "\n",
    "# Memprediksi kelas target pada data testing\n",
    "model4_pred = model4.predict(x_test)\n",
    "\n",
    "# Menghitung akurasi prediksi pada data testing\n",
    "accuracyModel4 = accuracy_score(y_test, model4_pred)\n",
    "print(\"Akurasi dari Model 4 (Decision Tree) sebesar:\", accuracyModel4*100)"
   ]
  },
  {
   "cell_type": "markdown",
   "id": "75d4f646",
   "metadata": {},
   "source": [
    "## Random Forest"
   ]
  },
  {
   "cell_type": "markdown",
   "id": "76e6f3a3",
   "metadata": {},
   "source": [
    "Random Forest adalah algortima yang membangun ebberapa pohon keputusan yang secara acak pada dataset yang tealh kita berikan. Nantinya akan digabungkan hasil prediksi dari masiong masing poohn untuk prediksi ahkir"
   ]
  },
  {
   "cell_type": "code",
   "execution_count": 30,
   "id": "c221e49a",
   "metadata": {},
   "outputs": [
    {
     "name": "stdout",
     "output_type": "stream",
     "text": [
      "Akurasi dari Model 5 (Random Forest) sebesar: 84.0\n"
     ]
    }
   ],
   "source": [
    "# Membuat objek DRandom Forest dengan 100 pohon\n",
    "model5 = RandomForestClassifier(n_estimators=100)\n",
    "\n",
    "# Melatih model pada data training\n",
    "model5.fit(x_train, y_train)\n",
    "\n",
    "# Memprediksi kelas target pada data testing\n",
    "model5_pred = model5.predict(x_test)\n",
    "\n",
    "# Menghitung akurasi prediksi pada data testing\n",
    "accuracyModel5 = accuracy_score(y_test, model5_pred)\n",
    "print(\"Akurasi dari Model 5 (Random Forest) sebesar:\", accuracyModel5*100)"
   ]
  },
  {
   "cell_type": "markdown",
   "id": "0605c242",
   "metadata": {},
   "source": [
    "## Naive Bayes"
   ]
  },
  {
   "cell_type": "markdown",
   "id": "0026d61d",
   "metadata": {},
   "source": [
    "Memanfaatkan teorema bayes menghitung probabilitas setiap kelas dari atribut yang ada pada data kita"
   ]
  },
  {
   "cell_type": "code",
   "execution_count": 31,
   "id": "d1feb665",
   "metadata": {},
   "outputs": [
    {
     "name": "stdout",
     "output_type": "stream",
     "text": [
      "Akurasi dari Model 6 (Naive Bayes) sebesar: 80.0\n"
     ]
    }
   ],
   "source": [
    "# Membuat objek naive bayes\n",
    "model6 = GaussianNB() \n",
    "\n",
    "# Melatih model pada data training\n",
    "model6.fit(x_train, y_train)\n",
    "\n",
    "# Memprediksi kelas target pada data testing\n",
    "model6_pred = model6.predict(x_test)\n",
    "\n",
    "# Menghitung akurasi prediksi pada data testing\n",
    "accuracyModel6 = accuracy_score(y_test, model6_pred)\n",
    "print(\"Akurasi dari Model 6 (Naive Bayes) sebesar:\", accuracyModel6*100)"
   ]
  },
  {
   "cell_type": "markdown",
   "id": "a3850c1b",
   "metadata": {},
   "source": [
    "## Confusion Matrix"
   ]
  },
  {
   "cell_type": "markdown",
   "id": "5c41858a",
   "metadata": {},
   "source": [
    "Conffusion matrix adalah algoritma yang digunakan untuk mengevaluasi performa dari modeling yang telah kita buat untuk data testingnya. Conffusion Matrix dipakai untuk menghitung berapa banyak data yang benar dan salah diprediksi oleh model kita"
   ]
  },
  {
   "cell_type": "markdown",
   "id": "259cebfa",
   "metadata": {},
   "source": [
    "Dalam confusion matrix, terdapat empat nilai yang relevan, yaitu:\n",
    "\n",
    "True Positive (TP): Jumlah data positif yang benar-benar diprediksi sebagai positif oleh model.\n",
    "\n",
    "True Negative (TN): Jumlah data negatif yang benar-benar diprediksi sebagai negatif oleh model.\n",
    "\n",
    "False Positive (FP): Jumlah data negatif yang salah diprediksi sebagai positif oleh model.\n",
    "\n",
    "False Negative (FN): Jumlah data positif yang salah diprediksi sebagai negatif oleh model."
   ]
  },
  {
   "cell_type": "markdown",
   "id": "563ad7c3",
   "metadata": {},
   "source": [
    "### Logistic Regresion Confusion Matrix"
   ]
  },
  {
   "cell_type": "code",
   "execution_count": 46,
   "id": "62a11ab9",
   "metadata": {},
   "outputs": [
    {
     "data": {
      "image/png": "[encoded data removed]",
      "text/plain": [
       "<Figure size 288x288 with 1 Axes>"
      ]
     },
     "metadata": {
      "needs_background": "light"
     },
     "output_type": "display_data"
    }
   ],
   "source": [
    "# Menghitung confusion matrix dengan y_test dan model1\n",
    "confMLR = confusion_matrix(y_test,model1_pred)\n",
    "\n",
    "# Membuat subplot dengan ukuran 4x4\n",
    "fig,ax = plt.subplots(figsize=(4,4))\n",
    "\n",
    "# Memberikan judul pada plot\n",
    "plt.title(\"Logistic regresi Confusion Matrix\")\n",
    "\n",
    "# Menampilkan gambar dari confusion matrix\n",
    "ax.imshow(confMLR)\n",
    "\n",
    "# Menonaktifkan grid pada plot\n",
    "ax.grid(False)\n",
    "\n",
    "# Mengatur label sumbu x dan y pada plot\n",
    "ax.xaxis.set(ticks=(0,1),ticklabels = ('Predicted 0s','Predicted 1s'))\n",
    "ax.yaxis.set(ticks=(0,1),ticklabels = ('Actual 0s','Actual 1s'))\n",
    "\n",
    "# Mengatur batasan nilai pada sumbu y\n",
    "ax.set_ylim(1.5,-0.5)\n",
    "\n",
    "# Menambahkan teks angka pada setiap sel dalam confusion matrix\n",
    "for i in range(2):\n",
    "    for j in range(2):\n",
    "        ax.text(j,i,confMLR[i,j],ha='center',va='center',color='red')\n",
    "\n",
    "# Menampilkan plot\n",
    "plt.show()"
   ]
  },
  {
   "cell_type": "markdown",
   "id": "d4032869",
   "metadata": {},
   "source": [
    "_Keterangan_\n",
    "\n",
    "True Negative terdapat [0,0] \n",
    "\n",
    ">21 data sebagai negatif (kelas 0) yang sebenarnya juga negatif (kelas 0)\n",
    "\n",
    "False Positive terdapat [1,0] \n",
    "\n",
    "> 2 data sebagai positif (kelas 1) yang sebenarnya seharusnya negatif (kelas 0), sehingga dianggap sebagai False Positive (FP).\n",
    "\n",
    "False Negative terdapat [0,1] \n",
    "> 0 data sebagai negatif (kelas 0) yang sebenarnya seharusnya positif (kelas 1), sehingga dianggap sebagai False Negative (FN).\n",
    "\n",
    "True Positive [1,1]\n",
    "\n",
    "> 2 data sebagai positif (kelas 1) yang sebenarnya juga positif (kelas 1), sehingga dianggap sebagai True Positive (TP)."
   ]
  },
  {
   "cell_type": "markdown",
   "id": "021795bc",
   "metadata": {},
   "source": [
    "confusion matrix Logistic Regresi ini adalah model memiliki hasil yang baik dalam mengklasifikasikan data negatif (TN yang besar) dan data positif (TP yang ada). "
   ]
  },
  {
   "cell_type": "markdown",
   "id": "9b444be1",
   "metadata": {},
   "source": [
    "### KNN CONFUSIN MATRIX"
   ]
  },
  {
   "cell_type": "code",
   "execution_count": 40,
   "id": "46b64884",
   "metadata": {},
   "outputs": [
    {
     "data": {
      "image/png": "[encoded data removed]",
      "text/plain": [
       "<Figure size 288x288 with 1 Axes>"
      ]
     },
     "metadata": {
      "needs_background": "light"
     },
     "output_type": "display_data"
    }
   ],
   "source": [
    "# Menghitung confusion matrix dengan model2\n",
    "confMKNN = confusion_matrix(y_test, model2_pred)\n",
    "\n",
    "# Membuat subplot dengan ukuran 4x4\n",
    "fig, ax = plt.subplots(figsize=(4,4))\n",
    "\n",
    "# Memberikan judul pada plot\n",
    "plt.title(\"Confusion Matrix KNN\")\n",
    "\n",
    "# Menampilkan gambar dari confusion matrix\n",
    "ax.imshow(confMKNN)\n",
    "\n",
    "# Menonaktifkan grid pada plot\n",
    "ax.grid(False)\n",
    "\n",
    "# Mengatur label sumbu x dan y pada plot\n",
    "ax.xaxis.set(ticks=(0,1),ticklabels = ('Predicted 0s','Predicted 1s'))\n",
    "ax.yaxis.set(ticks=(0,1),ticklabels = ('Actual 0s','Actual 1s'))\n",
    "\n",
    "# Mengatur batasan nilai pada sumbu y\n",
    "ax.set_ylim(1.5,-0.5)\n",
    "\n",
    "# Menambahkan teks angka pada setiap sel dalam confusion matrix\n",
    "for i in range(2):\n",
    "    for j in range(2):\n",
    "        ax.text(j,i,confMKNN[i,j],ha='center',va='center',color='red')\n",
    "\n",
    "# Menampilkan plot\n",
    "plt.show()"
   ]
  },
  {
   "cell_type": "markdown",
   "id": "68495f69",
   "metadata": {},
   "source": [
    "_Keterangan_\n",
    "\n",
    "True Negative terdapat [0,0] \n",
    "\n",
    ">21 data sebagai negatif (kelas 0) yang sebenarnya juga negatif (kelas 0)\n",
    "\n",
    "False Positive terdapat [1,0] \n",
    "\n",
    "> 3 data sebagai positif (kelas 1) yang sebenarnya seharusnya negatif (kelas 0), sehingga dianggap sebagai False Positive (FP).\n",
    "\n",
    "False Negative terdapat [0,1] \n",
    "> 0 data sebagai negatif (kelas 0) yang sebenarnya seharusnya positif (kelas 1), sehingga dianggap sebagai False Negative (FN).\n",
    "\n",
    "True Positive [1,1]\n",
    "\n",
    "> 1 data sebagai positif (kelas 1) yang sebenarnya juga positif (kelas 1), sehingga dianggap sebagai True Positive (TP)."
   ]
  },
  {
   "cell_type": "markdown",
   "id": "74c7d9e6",
   "metadata": {},
   "source": [
    "confusion matrix ini adalah model memiliki hasil yang baik dalam mengklasifikasikan data negatif (TN yang besar), namun memiliki beberapa kesalahan dalam mengklasifikasikan data positif (FP yang ada) dan TP yang rendah."
   ]
  },
  {
   "cell_type": "markdown",
   "id": "e6dc18dd",
   "metadata": {},
   "source": [
    "### SVM Conffusin Matrix"
   ]
  },
  {
   "cell_type": "code",
   "execution_count": 42,
   "id": "9a60103a",
   "metadata": {},
   "outputs": [
    {
     "data": {
      "image/png": "[encoded data removed]",
      "text/plain": [
       "<Figure size 288x288 with 1 Axes>"
      ]
     },
     "metadata": {
      "needs_background": "light"
     },
     "output_type": "display_data"
    }
   ],
   "source": [
    "# Menghitung confusion matrix dengan model3\n",
    "confSVM = confusion_matrix(y_test, model3_pred)\n",
    "\n",
    "# Membuat subplot dengan ukuran 4x4\n",
    "fig, ax = plt.subplots(figsize=(4,4))\n",
    "\n",
    "# Memberikan judul pada plot\n",
    "plt.title(\"SVM Confusion Matrix\")\n",
    "\n",
    "# Menampilkan gambar dari confusion matrix\n",
    "ax.imshow(confSVM)\n",
    "\n",
    "# Menonaktifkan grid pada plot\n",
    "ax.grid(False)\n",
    "\n",
    "# Mengatur label sumbu x dan y pada plot\n",
    "ax.xaxis.set(ticks=(0,1),ticklabels = ('Predicted 0s','Predicted 1s'))\n",
    "ax.yaxis.set(ticks=(0,1),ticklabels = ('Actual 0s','Actual 1s'))\n",
    "\n",
    "# Mengatur batasan nilai pada sumbu y\n",
    "ax.set_ylim(1.5,-0.5)\n",
    "\n",
    "# Menambahkan teks angka pada setiap sel dalam confusion matrix\n",
    "for i in range(2):\n",
    "    for j in range(2):\n",
    "        ax.text(j,i,confSVM[i,j],ha='center',va='center',color='red')\n",
    "\n",
    "# Menampilkan plot\n",
    "plt.show()"
   ]
  },
  {
   "cell_type": "markdown",
   "id": "bc13f05d",
   "metadata": {},
   "source": [
    "_Keterangan_\n",
    "\n",
    "True Negative terdapat [0,0] \n",
    "\n",
    ">21 data sebagai negatif (kelas 0) yang sebenarnya juga negatif (kelas 0)\n",
    "\n",
    "False Positive terdapat [1,0] \n",
    "\n",
    "> 4 data sebagai positif (kelas 1) yang sebenarnya seharusnya negatif (kelas 0), sehingga dianggap sebagai False Positive (FP).\n",
    "\n",
    "False Negative terdapat [0,1] \n",
    "> 1 data sebagai negatif (kelas 0) yang sebenarnya seharusnya positif (kelas 1), sehingga dianggap sebagai False Negative (FN).\n",
    "\n",
    "True Positive [1,1]\n",
    "\n",
    "> 0 data sebagai positif (kelas 1) yang sebenarnya juga positif (kelas 1), sehingga dianggap sebagai True Positive (TP)."
   ]
  },
  {
   "cell_type": "markdown",
   "id": "1d37ee83",
   "metadata": {},
   "source": [
    "confusion matrix SVM ini adalah model memiliki masalah dalam memprediksi data yang sebenarnya negatif dan positif,"
   ]
  },
  {
   "cell_type": "markdown",
   "id": "fd4a8076",
   "metadata": {},
   "source": [
    "### DECISION TREE CONFUSION MATRIX"
   ]
  },
  {
   "cell_type": "code",
   "execution_count": 35,
   "id": "cfe92db7",
   "metadata": {},
   "outputs": [
    {
     "data": {
      "image/png": "[encoded data removed]",
      "text/plain": [
       "<Figure size 288x288 with 1 Axes>"
      ]
     },
     "metadata": {
      "needs_background": "light"
     },
     "output_type": "display_data"
    }
   ],
   "source": [
    "# Menghitung confusion model4\n",
    "confMDt = confusion_matrix(y_test, model4_pred)\n",
    "\n",
    "# Membuat subplot dengan ukuran 4x4\n",
    "fig, ax = plt.subplots(figsize=(4,4))\n",
    "\n",
    "# Memberikan judul pada plot\n",
    "plt.title(\"Confusion Matrix Decision Tree\")\n",
    "\n",
    "# Menampilkan gambar dari confusion matrix\n",
    "ax.imshow(confMDt)\n",
    "\n",
    "# Menonaktifkan grid pada plot\n",
    "ax.grid(False)\n",
    "\n",
    "# Mengatur label sumbu x dan y pada plot\n",
    "ax.xaxis.set(ticks=(0,1),ticklabels = ('Predicted 0s','Predicted 1s'))\n",
    "ax.yaxis.set(ticks=(0,1),ticklabels = ('Actual 0s','Actual 1s'))\n",
    "\n",
    "# Mengatur batasan nilai pada sumbu y\n",
    "ax.set_ylim(1.5,-0.5)\n",
    "\n",
    "# Menambahkan teks angka pada setiap sel dalam confusion matrix\n",
    "for i in range(2):\n",
    "    for j in range(2):\n",
    "        ax.text(j,i,confMDt[i,j],ha='center',va='center',color='red')\n",
    "\n",
    "# Menampilkan plot\n",
    "plt.show()"
   ]
  },
  {
   "cell_type": "markdown",
   "id": "277e7cad",
   "metadata": {},
   "source": [
    "_Keterangan_\n",
    "\n",
    "True Negative terdapat [0,0] \n",
    "\n",
    ">18 data sebagai negatif (kelas 0) yang sebenarnya juga negatif (kelas 0)\n",
    "\n",
    "False Positive terdapat [1,0] \n",
    "\n",
    "> 1 data sebagai positif (kelas 1) yang sebenarnya seharusnya negatif (kelas 0), sehingga dianggap sebagai False Positive (FP).\n",
    "\n",
    "False Negative terdapat [0,1] \n",
    "> 3 data sebagai negatif (kelas 0) yang sebenarnya seharusnya positif (kelas 1), sehingga dianggap sebagai False Negative (FN).\n",
    "\n",
    "True Positive [1,1]\n",
    "\n",
    "> 3 data sebagai positif (kelas 1) yang sebenarnya juga positif (kelas 1), sehingga dianggap sebagai True Positive (TP)."
   ]
  },
  {
   "cell_type": "markdown",
   "id": "e7dd5b11",
   "metadata": {},
   "source": [
    "confusion matrix Decision Tree ini adalah model memiliki kinerja yang cukup baik dalam memprediksi data yang sebenarnya negatif dan positif, namun masih terdapat beberapa kasus di mana model salah memprediksi data yang sebenarnya positif sebagai negatif."
   ]
  },
  {
   "cell_type": "markdown",
   "id": "3cb68cb0",
   "metadata": {},
   "source": [
    "### Random Forest Confussion Matrix"
   ]
  },
  {
   "cell_type": "code",
   "execution_count": 43,
   "id": "866bd58c",
   "metadata": {},
   "outputs": [
    {
     "data": {
      "image/png": "[encoded data removed]",
      "text/plain": [
       "<Figure size 288x288 with 1 Axes>"
      ]
     },
     "metadata": {
      "needs_background": "light"
     },
     "output_type": "display_data"
    }
   ],
   "source": [
    "\n",
    "# Menghitung confusion matrix model5\n",
    "confMRf = confusion_matrix(y_test, model5_pred)\n",
    "\n",
    "# Membuat subplot dengan ukuran 4x4\n",
    "fig, ax = plt.subplots(figsize=(4,4))\n",
    "\n",
    "# Memberikan judul pada plot\n",
    "plt.title(\"Random Forest Confusion Matrix\")\n",
    "\n",
    "# Menampilkan gambar dari confusion matrix\n",
    "ax.imshow(confMRf)\n",
    "\n",
    "# Menonaktifkan grid pada plot\n",
    "ax.grid(False)\n",
    "\n",
    "# Mengatur label sumbu x dan y pada plot\n",
    "ax.xaxis.set(ticks=(0,1),ticklabels = ('Predicted 0s','Predicted 1s'))\n",
    "ax.yaxis.set(ticks=(0,1),ticklabels = ('Actual 0s','Actual 1s'))\n",
    "\n",
    "# Mengatur batasan nilai pada sumbu y\n",
    "ax.set_ylim(1.5,-0.5)\n",
    "\n",
    "# Menambahkan teks angka pada setiap sel dalam confusion matrix\n",
    "for i in range(2):\n",
    "    for j in range(2):\n",
    "        ax.text(j,i,confMRf[i,j],ha='center',va='center',color='red')\n",
    "\n",
    "# Menampilkan plot\n",
    "plt.show()"
   ]
  },
  {
   "cell_type": "markdown",
   "id": "e408ede1",
   "metadata": {},
   "source": [
    "_Keterangan_\n",
    "\n",
    "True Negative terdapat [0,0] \n",
    "\n",
    ">18 data sebagai negatif (kelas 0) yang sebenarnya juga negatif (kelas 0)\n",
    "\n",
    "False Positive terdapat [1,0] \n",
    "\n",
    "> 1 data sebagai positif (kelas 1) yang sebenarnya seharusnya negatif (kelas 0), sehingga dianggap sebagai False Positive (FP).\n",
    "\n",
    "False Negative terdapat [0,1] \n",
    "> 3 data sebagai negatif (kelas 0) yang sebenarnya seharusnya positif (kelas 1), sehingga dianggap sebagai False Negative (FN).\n",
    "\n",
    "True Positive [1,1]\n",
    "\n",
    "> 3 data sebagai positif (kelas 1) yang sebenarnya juga positif (kelas 1), sehingga dianggap sebagai True Positive (TP)."
   ]
  },
  {
   "cell_type": "markdown",
   "id": "e724e589",
   "metadata": {},
   "source": [
    " confusion matrix random Forest ini adalah model memiliki kinerja yang cukup baik dalam memprediksi data yang sebenarnya negatif dan positif, namun masih terdapat beberapa kasus di mana model salah memprediksi data yang sebenarnya positif sebagai negatif."
   ]
  },
  {
   "cell_type": "markdown",
   "id": "aefbe110",
   "metadata": {},
   "source": [
    "### Naive bayes Coinffusin Matrix"
   ]
  },
  {
   "cell_type": "code",
   "execution_count": 44,
   "id": "2cb65927",
   "metadata": {},
   "outputs": [
    {
     "data": {
      "image/png": "[encoded data removed]",
      "text/plain": [
       "<Figure size 288x288 with 1 Axes>"
      ]
     },
     "metadata": {
      "needs_background": "light"
     },
     "output_type": "display_data"
    }
   ],
   "source": [
    "# Menghitung confusion matrix model 6\n",
    "confMNb = confusion_matrix(y_test, model6_pred)\n",
    "\n",
    "# Membuat subplot dengan ukuran 4x4\n",
    "fig, ax = plt.subplots(figsize=(4,4))\n",
    "\n",
    "# Memberikan judul pada plot\n",
    "plt.title(\"Naive Bayes Confusion Matrix\")\n",
    "\n",
    "# Menampilkan gambar dari confusion matrix\n",
    "ax.imshow(confMNb)\n",
    "\n",
    "# Menonaktifkan grid pada plot\n",
    "ax.grid(False)\n",
    "\n",
    "# Mengatur label sumbu x dan y pada plot\n",
    "ax.xaxis.set(ticks=(0,1),ticklabels = ('Predicted 0s','Predicted 1s'))\n",
    "ax.yaxis.set(ticks=(0,1),ticklabels = ('Actual 0s','Actual 1s'))\n",
    "\n",
    "# Mengatur batasan nilai pada sumbu y\n",
    "ax.set_ylim(1.5,-0.5)\n",
    "\n",
    "# Menambahkan teks angka pada setiap sel dalam confusion matrix\n",
    "for i in range(2):\n",
    "    for j in range(2):\n",
    "        ax.text(j,i,confMNb[i,j],ha='center',va='center',color='red')\n",
    "\n",
    "# Menampilkan plot\n",
    "plt.show()"
   ]
  },
  {
   "cell_type": "markdown",
   "id": "2adb94be",
   "metadata": {},
   "source": []
  },
  {
   "cell_type": "markdown",
   "id": "06e311c7",
   "metadata": {},
   "source": [
    "_Keterangan_\n",
    "\n",
    "True Negative terdapat [0,0] \n",
    "\n",
    ">17 data sebagai negatif (kelas 0) yang sebenarnya juga negatif (kelas 0)\n",
    "\n",
    "False Positive terdapat [1,0] \n",
    "\n",
    "> 1 data sebagai positif (kelas 1) yang sebenarnya seharusnya negatif (kelas 0), sehingga dianggap sebagai False Positive (FP).\n",
    "\n",
    "False Negative terdapat [0,1] \n",
    "> 4 data sebagai negatif (kelas 0) yang sebenarnya seharusnya positif (kelas 1), sehingga dianggap sebagai False Negative (FN).\n",
    "\n",
    "True Positive [1,1]\n",
    "\n",
    "> 3 data sebagai positif (kelas 1) yang sebenarnya juga positif (kelas 1), sehingga dianggap sebagai True Positive (TP)."
   ]
  },
  {
   "cell_type": "markdown",
   "id": "9a1034c1",
   "metadata": {},
   "source": [
    "confusion matrix Naive byes ini adalah model memiliki kinerja yang cukup baik dalam memprediksi data yang sebenarnya negatif, namun masih memiliki beberapa kesalahan dalam memprediksi data yang sebenarnya positif. "
   ]
  },
  {
   "cell_type": "markdown",
   "id": "fe05226e",
   "metadata": {},
   "source": [
    "# Kesimpulan"
   ]
  },
  {
   "cell_type": "markdown",
   "id": "49207198",
   "metadata": {},
   "source": [
    "Akurasi pada masing masing modeling diataranya"
   ]
  },
  {
   "cell_type": "code",
   "execution_count": 50,
   "id": "b534f120",
   "metadata": {},
   "outputs": [
    {
     "name": "stdout",
     "output_type": "stream",
     "text": [
      "Akurasi dari Model 1 ( Logistic Regression ) sebesar: 92.0\n",
      "Akurasi dari Model 2 ( KNN ) sebesar: 88.0\n",
      "Akurasi dari Model 3 ( SVM ) sebesar: 80.0\n",
      "Akurasi dari Model 4 ( Decision Tree ) sebesar: 84.0\n",
      "Akurasi dari Model 5 ( Random Forest ) sebesar: 84.0\n",
      "Akurasi dari Model 6 ( Naive Bayes) sebesar: 80.0\n"
     ]
    }
   ],
   "source": [
    "print(\"Akurasi dari Model 1 ( Logistic Regression ) sebesar:\", accuracyModel1*100)\n",
    "print(\"Akurasi dari Model 2 ( KNN ) sebesar:\", accuracyModel2*100)\n",
    "print(\"Akurasi dari Model 3 ( SVM ) sebesar:\", accuracyModel3*100)\n",
    "print(\"Akurasi dari Model 4 ( Decision Tree ) sebesar:\", accuracyModel4*100)\n",
    "print(\"Akurasi dari Model 5 ( Random Forest ) sebesar:\", accuracyModel5*100)\n",
    "print(\"Akurasi dari Model 6 ( Naive Bayes) sebesar:\", accuracyModel6*100)"
   ]
  },
  {
   "cell_type": "markdown",
   "id": "136496f6",
   "metadata": {},
   "source": [
    "Dari keenam model diatas yang memiliki akurasi tertinggi adalah model Logistic Regresion yang didukung juga dengan hasil dari konfusin matrixnya yang \"confusion matrix Logistic Regresi ini adalah model memiliki hasil yang baik dalam mengklasifikasikan data negatif (TN yang besar) dan data positif (TP yang ada)\". "
   ]
  },
  {
   "cell_type": "markdown",
   "id": "eae3ae56",
   "metadata": {},
   "source": [
    "SELESAI"
   ]
  },
  {
   "cell_type": "code",
   "execution_count": null,
   "id": "638e6063",
   "metadata": {},
   "outputs": [],
   "source": []
  }
 ],
 "metadata": {
  "kernelspec": {
   "display_name": "Python 3 (ipykernel)",
   "language": "python",
   "name": "python3"
  },
  "language_info": {
   "codemirror_mode": {
    "name": "ipython",
    "version": 3
   },
   "file_extension": ".py",
   "mimetype": "text/x-python",
   "name": "python",
   "nbconvert_exporter": "python",
   "pygments_lexer": "ipython3",
   "version": "3.9.12"
  },
  "toc": {
   "base_numbering": 1,
   "nav_menu": {},
   "number_sections": true,
   "sideBar": true,
   "skip_h1_title": false,
   "title_cell": "Table of Contents",
   "title_sidebar": "Contents",
   "toc_cell": false,
   "toc_position": {
    "height": "calc(100% - 180px)",
    "left": "10px",
    "top": "150px",
    "width": "167.983px"
   },
   "toc_section_display": true,
   "toc_window_display": true
  },
  "varInspector": {
   "cols": {
    "lenName": 16,
    "lenType": 16,
    "lenVar": 40
   },
   "kernels_config": {
    "python": {
     "delete_cmd_postfix": "",
     "delete_cmd_prefix": "del ",
     "library": "var_list.py",
     "varRefreshCmd": "print(var_dic_list())"
    },
    "r": {
     "delete_cmd_postfix": ") ",
     "delete_cmd_prefix": "rm(",
     "library": "var_list.r",
     "varRefreshCmd": "cat(var_dic_list()) "
    }
   },
   "types_to_exclude": [
    "module",
    "function",
    "builtin_function_or_method",
    "instance",
    "_Feature"
   ],
   "window_display": false
  }
 },
 "nbformat": 4,
 "nbformat_minor": 5
}
