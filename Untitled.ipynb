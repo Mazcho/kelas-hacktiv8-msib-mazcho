{
 "cells": [
  {
   "cell_type": "markdown",
   "id": "ae2ee1c7",
   "metadata": {},
   "source": [
    "NAMA  : Nicholaus verdhy\n",
    "\n",
    "KELAS : PYTN-KS11-023\n",
    "\n",
    "TUGAS : ASSIGMENT 3"
   ]
  },
  {
   "cell_type": "markdown",
   "id": "1de2fc04",
   "metadata": {},
   "source": [
    "# Import Library"
   ]
  },
  {
   "cell_type": "markdown",
   "id": "734fa759",
   "metadata": {},
   "source": [
    ">pandas: digunakan untuk manipulasi data dan analisis data.\n",
    "\n",
    ">numpy: digunakan untuk komputasi numerik pada data.\n",
    "\n",
    ">matplotlib: digunakan untuk visualisasi data dengan grafik.\n",
    "\n",
    ">seaborn: digunakan untuk membuat grafik dan visualisasi data statistik yang lebih kompleks.\n",
    "\n",
    ">sklearn: digunakan untuk pemrosesan data, pembelajaran mesin, dan evaluasi model.\n",
    "\n",
    ">LabelEncoder: digunakan untuk mengkodekan variabel kategori menjadi nilai numerik.\n",
    "\n",
    ">StandardScaler: digunakan untuk melakukan penskalaan data.\n",
    "\n",
    ">LogisticRegression: digunakan untuk membuat model regresi logistik.\n",
    "\n",
    ">train_test_split: digunakan untuk membagi data menjadi data latih dan data uji.\n",
    "\n",
    ">accuracy_score: digunakan untuk menghitung akurasi model.\n",
    "\n",
    ">RandomForestClassifier: digunakan untuk membuat model random forest.\n",
    "\n",
    ">DecisionTreeClassifier: digunakan untuk membuat model decision tree.\n",
    "\n",
    ">GaussianNB: digunakan untuk membuat model naive bayes.\n",
    "\n",
    ">KNeighborsClassifier: digunakan untuk membuat model k-nearest neighbors.\n",
    "\n",
    ">svm: digunakan untuk membuat model support vector machine.\n",
    "\n",
    ">SVC: digunakan untuk membuat model support vector classification.\n",
    "\n",
    ">StringIO: digunakan untuk membaca dan menulis file string seperti file teks biasa.\n",
    "\n",
    ">Image: digunakan untuk menampilkan gambar.\n",
    "\n",
    ">tree: digunakan untuk membuat model decision tree.\n",
    "\n",
    ">pydotplus: digunakan untuk membuat grafik decision tree dengan menggunakan library Graphviz."
   ]
  },
  {
   "cell_type": "code",
   "execution_count": null,
   "id": "56341100",
   "metadata": {},
   "outputs": [],
   "source": [
    "# digunakan untuk dataframe\n",
    "import pandas as pd\n",
    "import numpy as np\n",
    "# digunakan untuk visualisasi data\n",
    "import matplotlib.pyplot as plt\n",
    "import seaborn as sns\n",
    "from sklearn.metrics import classification_report, confusion_matrix\n",
    "# digunakan untuk explorisasi data\n",
    "from sklearn.preprocessing import LabelEncoder, StandardScaler\n",
    "# digunakan untuk modeling\n",
    "from sklearn import preprocessing\n",
    "from sklearn.model_selection import train_test_split\n",
    "from sklearn.linear_model import LogisticRegression\n",
    "from sklearn.neighbors import KNeighborsClassifier\n",
    "from sklearn.tree import DecisionTreeClassifier\n",
    "from sklearn.naive_bayes import GaussianNB\n",
    "from sklearn.ensemble import RandomForestClassifier\n",
    "from sklearn import tree\n",
    "import sklearn.tree as DecisionTreeClassifier\n",
    "from sklearn.metrics import accuracy_score\n",
    "from sklearn import svm\n",
    "from sklearn.svm import SVC\n",
    "from six import StringIO\n",
    "from IPython.display import Image\n",
    "import pydotplus\n",
    "\n",
    "\n",
    "import warnings\n",
    "warnings.filterwarnings('ignore')"
   ]
  },
  {
   "cell_type": "markdown",
   "id": "c3d880aa",
   "metadata": {},
   "source": [
    "# Import dan memanggil dataset"
   ]
  },
  {
   "cell_type": "markdown",
   "id": "90f0e5a4",
   "metadata": {},
   "source": [
    "Kita gunakan read_csv untuk memanggil datanya"
   ]
  },
  {
   "cell_type": "code",
   "execution_count": null,
   "id": "c34b3b84",
   "metadata": {},
   "outputs": [],
   "source": [
    "df = pd.read_csv(\"bank-full.csv\", delimiter=\";\", quotechar='\"')\n",
    "df"
   ]
  },
  {
   "cell_type": "markdown",
   "id": "8501e728",
   "metadata": {},
   "source": [
    "Mari kita lihat tipe datanya"
   ]
  },
  {
   "cell_type": "code",
   "execution_count": null,
   "id": "c7a4a573",
   "metadata": {},
   "outputs": [],
   "source": [
    "df.info()"
   ]
  },
  {
   "cell_type": "markdown",
   "id": "a3492db7",
   "metadata": {},
   "source": [
    "# Data cleansing"
   ]
  },
  {
   "cell_type": "markdown",
   "id": "aa1bf058",
   "metadata": {},
   "source": [
    "mari kita lihat untuk ukuran datanya"
   ]
  },
  {
   "cell_type": "code",
   "execution_count": null,
   "id": "84e908e0",
   "metadata": {},
   "outputs": [],
   "source": [
    "df.shape"
   ]
  },
  {
   "cell_type": "markdown",
   "id": "dfe5fd97",
   "metadata": {},
   "source": [
    "Data terdiri dari 45211 baris dan 17 kolom"
   ]
  },
  {
   "cell_type": "markdown",
   "id": "9a2f868e",
   "metadata": {},
   "source": [
    "=============================\n",
    "\n",
    "mari kita lihat nilai deskriptiv statstik nya"
   ]
  },
  {
   "cell_type": "code",
   "execution_count": 6,
   "id": "8449c423",
   "metadata": {},
   "outputs": [
    {
     "data": {
      "text/html": [
       "<div>\n",
       "<style scoped>\n",
       "    .dataframe tbody tr th:only-of-type {\n",
       "        vertical-align: middle;\n",
       "    }\n",
       "\n",
       "    .dataframe tbody tr th {\n",
       "        vertical-align: top;\n",
       "    }\n",
       "\n",
       "    .dataframe thead th {\n",
       "        text-align: right;\n",
       "    }\n",
       "</style>\n",
       "<table border=\"1\" class=\"dataframe\">\n",
       "  <thead>\n",
       "    <tr style=\"text-align: right;\">\n",
       "      <th></th>\n",
       "      <th>age</th>\n",
       "      <th>balance</th>\n",
       "      <th>day</th>\n",
       "      <th>duration</th>\n",
       "      <th>campaign</th>\n",
       "      <th>pdays</th>\n",
       "      <th>previous</th>\n",
       "    </tr>\n",
       "  </thead>\n",
       "  <tbody>\n",
       "    <tr>\n",
       "      <th>count</th>\n",
       "      <td>45211.000000</td>\n",
       "      <td>45211.000000</td>\n",
       "      <td>45211.000000</td>\n",
       "      <td>45211.000000</td>\n",
       "      <td>45211.000000</td>\n",
       "      <td>45211.000000</td>\n",
       "      <td>45211.000000</td>\n",
       "    </tr>\n",
       "    <tr>\n",
       "      <th>mean</th>\n",
       "      <td>40.936210</td>\n",
       "      <td>1362.272058</td>\n",
       "      <td>15.806419</td>\n",
       "      <td>258.163080</td>\n",
       "      <td>2.763841</td>\n",
       "      <td>40.197828</td>\n",
       "      <td>0.580323</td>\n",
       "    </tr>\n",
       "    <tr>\n",
       "      <th>std</th>\n",
       "      <td>10.618762</td>\n",
       "      <td>3044.765829</td>\n",
       "      <td>8.322476</td>\n",
       "      <td>257.527812</td>\n",
       "      <td>3.098021</td>\n",
       "      <td>100.128746</td>\n",
       "      <td>2.303441</td>\n",
       "    </tr>\n",
       "    <tr>\n",
       "      <th>min</th>\n",
       "      <td>18.000000</td>\n",
       "      <td>-8019.000000</td>\n",
       "      <td>1.000000</td>\n",
       "      <td>0.000000</td>\n",
       "      <td>1.000000</td>\n",
       "      <td>-1.000000</td>\n",
       "      <td>0.000000</td>\n",
       "    </tr>\n",
       "    <tr>\n",
       "      <th>25%</th>\n",
       "      <td>33.000000</td>\n",
       "      <td>72.000000</td>\n",
       "      <td>8.000000</td>\n",
       "      <td>103.000000</td>\n",
       "      <td>1.000000</td>\n",
       "      <td>-1.000000</td>\n",
       "      <td>0.000000</td>\n",
       "    </tr>\n",
       "    <tr>\n",
       "      <th>50%</th>\n",
       "      <td>39.000000</td>\n",
       "      <td>448.000000</td>\n",
       "      <td>16.000000</td>\n",
       "      <td>180.000000</td>\n",
       "      <td>2.000000</td>\n",
       "      <td>-1.000000</td>\n",
       "      <td>0.000000</td>\n",
       "    </tr>\n",
       "    <tr>\n",
       "      <th>75%</th>\n",
       "      <td>48.000000</td>\n",
       "      <td>1428.000000</td>\n",
       "      <td>21.000000</td>\n",
       "      <td>319.000000</td>\n",
       "      <td>3.000000</td>\n",
       "      <td>-1.000000</td>\n",
       "      <td>0.000000</td>\n",
       "    </tr>\n",
       "    <tr>\n",
       "      <th>max</th>\n",
       "      <td>95.000000</td>\n",
       "      <td>102127.000000</td>\n",
       "      <td>31.000000</td>\n",
       "      <td>4918.000000</td>\n",
       "      <td>63.000000</td>\n",
       "      <td>871.000000</td>\n",
       "      <td>275.000000</td>\n",
       "    </tr>\n",
       "  </tbody>\n",
       "</table>\n",
       "</div>"
      ],
      "text/plain": [
       "                age        balance           day      duration      campaign  \\\n",
       "count  45211.000000   45211.000000  45211.000000  45211.000000  45211.000000   \n",
       "mean      40.936210    1362.272058     15.806419    258.163080      2.763841   \n",
       "std       10.618762    3044.765829      8.322476    257.527812      3.098021   \n",
       "min       18.000000   -8019.000000      1.000000      0.000000      1.000000   \n",
       "25%       33.000000      72.000000      8.000000    103.000000      1.000000   \n",
       "50%       39.000000     448.000000     16.000000    180.000000      2.000000   \n",
       "75%       48.000000    1428.000000     21.000000    319.000000      3.000000   \n",
       "max       95.000000  102127.000000     31.000000   4918.000000     63.000000   \n",
       "\n",
       "              pdays      previous  \n",
       "count  45211.000000  45211.000000  \n",
       "mean      40.197828      0.580323  \n",
       "std      100.128746      2.303441  \n",
       "min       -1.000000      0.000000  \n",
       "25%       -1.000000      0.000000  \n",
       "50%       -1.000000      0.000000  \n",
       "75%       -1.000000      0.000000  \n",
       "max      871.000000    275.000000  "
      ]
     },
     "execution_count": 6,
     "metadata": {},
     "output_type": "execute_result"
    }
   ],
   "source": [
    "df.describe()"
   ]
  },
  {
   "cell_type": "markdown",
   "id": "59ab5abe",
   "metadata": {},
   "source": [
    "Kita lihat 5 data teratas dan 5 data terbawah menggunakan head() dan tail()"
   ]
  },
  {
   "cell_type": "code",
   "execution_count": 7,
   "id": "6dcb8832",
   "metadata": {},
   "outputs": [
    {
     "data": {
      "text/html": [
       "<div>\n",
       "<style scoped>\n",
       "    .dataframe tbody tr th:only-of-type {\n",
       "        vertical-align: middle;\n",
       "    }\n",
       "\n",
       "    .dataframe tbody tr th {\n",
       "        vertical-align: top;\n",
       "    }\n",
       "\n",
       "    .dataframe thead th {\n",
       "        text-align: right;\n",
       "    }\n",
       "</style>\n",
       "<table border=\"1\" class=\"dataframe\">\n",
       "  <thead>\n",
       "    <tr style=\"text-align: right;\">\n",
       "      <th></th>\n",
       "      <th>age</th>\n",
       "      <th>job</th>\n",
       "      <th>marital</th>\n",
       "      <th>education</th>\n",
       "      <th>default</th>\n",
       "      <th>balance</th>\n",
       "      <th>housing</th>\n",
       "      <th>loan</th>\n",
       "      <th>contact</th>\n",
       "      <th>day</th>\n",
       "      <th>month</th>\n",
       "      <th>duration</th>\n",
       "      <th>campaign</th>\n",
       "      <th>pdays</th>\n",
       "      <th>previous</th>\n",
       "      <th>poutcome</th>\n",
       "      <th>y</th>\n",
       "    </tr>\n",
       "  </thead>\n",
       "  <tbody>\n",
       "    <tr>\n",
       "      <th>0</th>\n",
       "      <td>58</td>\n",
       "      <td>management</td>\n",
       "      <td>married</td>\n",
       "      <td>tertiary</td>\n",
       "      <td>no</td>\n",
       "      <td>2143</td>\n",
       "      <td>yes</td>\n",
       "      <td>no</td>\n",
       "      <td>unknown</td>\n",
       "      <td>5</td>\n",
       "      <td>may</td>\n",
       "      <td>261</td>\n",
       "      <td>1</td>\n",
       "      <td>-1</td>\n",
       "      <td>0</td>\n",
       "      <td>unknown</td>\n",
       "      <td>no</td>\n",
       "    </tr>\n",
       "    <tr>\n",
       "      <th>1</th>\n",
       "      <td>44</td>\n",
       "      <td>technician</td>\n",
       "      <td>single</td>\n",
       "      <td>secondary</td>\n",
       "      <td>no</td>\n",
       "      <td>29</td>\n",
       "      <td>yes</td>\n",
       "      <td>no</td>\n",
       "      <td>unknown</td>\n",
       "      <td>5</td>\n",
       "      <td>may</td>\n",
       "      <td>151</td>\n",
       "      <td>1</td>\n",
       "      <td>-1</td>\n",
       "      <td>0</td>\n",
       "      <td>unknown</td>\n",
       "      <td>no</td>\n",
       "    </tr>\n",
       "    <tr>\n",
       "      <th>2</th>\n",
       "      <td>33</td>\n",
       "      <td>entrepreneur</td>\n",
       "      <td>married</td>\n",
       "      <td>secondary</td>\n",
       "      <td>no</td>\n",
       "      <td>2</td>\n",
       "      <td>yes</td>\n",
       "      <td>yes</td>\n",
       "      <td>unknown</td>\n",
       "      <td>5</td>\n",
       "      <td>may</td>\n",
       "      <td>76</td>\n",
       "      <td>1</td>\n",
       "      <td>-1</td>\n",
       "      <td>0</td>\n",
       "      <td>unknown</td>\n",
       "      <td>no</td>\n",
       "    </tr>\n",
       "    <tr>\n",
       "      <th>3</th>\n",
       "      <td>47</td>\n",
       "      <td>blue-collar</td>\n",
       "      <td>married</td>\n",
       "      <td>unknown</td>\n",
       "      <td>no</td>\n",
       "      <td>1506</td>\n",
       "      <td>yes</td>\n",
       "      <td>no</td>\n",
       "      <td>unknown</td>\n",
       "      <td>5</td>\n",
       "      <td>may</td>\n",
       "      <td>92</td>\n",
       "      <td>1</td>\n",
       "      <td>-1</td>\n",
       "      <td>0</td>\n",
       "      <td>unknown</td>\n",
       "      <td>no</td>\n",
       "    </tr>\n",
       "    <tr>\n",
       "      <th>4</th>\n",
       "      <td>33</td>\n",
       "      <td>unknown</td>\n",
       "      <td>single</td>\n",
       "      <td>unknown</td>\n",
       "      <td>no</td>\n",
       "      <td>1</td>\n",
       "      <td>no</td>\n",
       "      <td>no</td>\n",
       "      <td>unknown</td>\n",
       "      <td>5</td>\n",
       "      <td>may</td>\n",
       "      <td>198</td>\n",
       "      <td>1</td>\n",
       "      <td>-1</td>\n",
       "      <td>0</td>\n",
       "      <td>unknown</td>\n",
       "      <td>no</td>\n",
       "    </tr>\n",
       "  </tbody>\n",
       "</table>\n",
       "</div>"
      ],
      "text/plain": [
       "   age           job  marital  education default  balance housing loan  \\\n",
       "0   58    management  married   tertiary      no     2143     yes   no   \n",
       "1   44    technician   single  secondary      no       29     yes   no   \n",
       "2   33  entrepreneur  married  secondary      no        2     yes  yes   \n",
       "3   47   blue-collar  married    unknown      no     1506     yes   no   \n",
       "4   33       unknown   single    unknown      no        1      no   no   \n",
       "\n",
       "   contact  day month  duration  campaign  pdays  previous poutcome   y  \n",
       "0  unknown    5   may       261         1     -1         0  unknown  no  \n",
       "1  unknown    5   may       151         1     -1         0  unknown  no  \n",
       "2  unknown    5   may        76         1     -1         0  unknown  no  \n",
       "3  unknown    5   may        92         1     -1         0  unknown  no  \n",
       "4  unknown    5   may       198         1     -1         0  unknown  no  "
      ]
     },
     "execution_count": 7,
     "metadata": {},
     "output_type": "execute_result"
    }
   ],
   "source": [
    "df.head()"
   ]
  },
  {
   "cell_type": "code",
   "execution_count": 8,
   "id": "30146abc",
   "metadata": {},
   "outputs": [
    {
     "data": {
      "text/html": [
       "<div>\n",
       "<style scoped>\n",
       "    .dataframe tbody tr th:only-of-type {\n",
       "        vertical-align: middle;\n",
       "    }\n",
       "\n",
       "    .dataframe tbody tr th {\n",
       "        vertical-align: top;\n",
       "    }\n",
       "\n",
       "    .dataframe thead th {\n",
       "        text-align: right;\n",
       "    }\n",
       "</style>\n",
       "<table border=\"1\" class=\"dataframe\">\n",
       "  <thead>\n",
       "    <tr style=\"text-align: right;\">\n",
       "      <th></th>\n",
       "      <th>age</th>\n",
       "      <th>job</th>\n",
       "      <th>marital</th>\n",
       "      <th>education</th>\n",
       "      <th>default</th>\n",
       "      <th>balance</th>\n",
       "      <th>housing</th>\n",
       "      <th>loan</th>\n",
       "      <th>contact</th>\n",
       "      <th>day</th>\n",
       "      <th>month</th>\n",
       "      <th>duration</th>\n",
       "      <th>campaign</th>\n",
       "      <th>pdays</th>\n",
       "      <th>previous</th>\n",
       "      <th>poutcome</th>\n",
       "      <th>y</th>\n",
       "    </tr>\n",
       "  </thead>\n",
       "  <tbody>\n",
       "    <tr>\n",
       "      <th>45206</th>\n",
       "      <td>51</td>\n",
       "      <td>technician</td>\n",
       "      <td>married</td>\n",
       "      <td>tertiary</td>\n",
       "      <td>no</td>\n",
       "      <td>825</td>\n",
       "      <td>no</td>\n",
       "      <td>no</td>\n",
       "      <td>cellular</td>\n",
       "      <td>17</td>\n",
       "      <td>nov</td>\n",
       "      <td>977</td>\n",
       "      <td>3</td>\n",
       "      <td>-1</td>\n",
       "      <td>0</td>\n",
       "      <td>unknown</td>\n",
       "      <td>yes</td>\n",
       "    </tr>\n",
       "    <tr>\n",
       "      <th>45207</th>\n",
       "      <td>71</td>\n",
       "      <td>retired</td>\n",
       "      <td>divorced</td>\n",
       "      <td>primary</td>\n",
       "      <td>no</td>\n",
       "      <td>1729</td>\n",
       "      <td>no</td>\n",
       "      <td>no</td>\n",
       "      <td>cellular</td>\n",
       "      <td>17</td>\n",
       "      <td>nov</td>\n",
       "      <td>456</td>\n",
       "      <td>2</td>\n",
       "      <td>-1</td>\n",
       "      <td>0</td>\n",
       "      <td>unknown</td>\n",
       "      <td>yes</td>\n",
       "    </tr>\n",
       "    <tr>\n",
       "      <th>45208</th>\n",
       "      <td>72</td>\n",
       "      <td>retired</td>\n",
       "      <td>married</td>\n",
       "      <td>secondary</td>\n",
       "      <td>no</td>\n",
       "      <td>5715</td>\n",
       "      <td>no</td>\n",
       "      <td>no</td>\n",
       "      <td>cellular</td>\n",
       "      <td>17</td>\n",
       "      <td>nov</td>\n",
       "      <td>1127</td>\n",
       "      <td>5</td>\n",
       "      <td>184</td>\n",
       "      <td>3</td>\n",
       "      <td>success</td>\n",
       "      <td>yes</td>\n",
       "    </tr>\n",
       "    <tr>\n",
       "      <th>45209</th>\n",
       "      <td>57</td>\n",
       "      <td>blue-collar</td>\n",
       "      <td>married</td>\n",
       "      <td>secondary</td>\n",
       "      <td>no</td>\n",
       "      <td>668</td>\n",
       "      <td>no</td>\n",
       "      <td>no</td>\n",
       "      <td>telephone</td>\n",
       "      <td>17</td>\n",
       "      <td>nov</td>\n",
       "      <td>508</td>\n",
       "      <td>4</td>\n",
       "      <td>-1</td>\n",
       "      <td>0</td>\n",
       "      <td>unknown</td>\n",
       "      <td>no</td>\n",
       "    </tr>\n",
       "    <tr>\n",
       "      <th>45210</th>\n",
       "      <td>37</td>\n",
       "      <td>entrepreneur</td>\n",
       "      <td>married</td>\n",
       "      <td>secondary</td>\n",
       "      <td>no</td>\n",
       "      <td>2971</td>\n",
       "      <td>no</td>\n",
       "      <td>no</td>\n",
       "      <td>cellular</td>\n",
       "      <td>17</td>\n",
       "      <td>nov</td>\n",
       "      <td>361</td>\n",
       "      <td>2</td>\n",
       "      <td>188</td>\n",
       "      <td>11</td>\n",
       "      <td>other</td>\n",
       "      <td>no</td>\n",
       "    </tr>\n",
       "  </tbody>\n",
       "</table>\n",
       "</div>"
      ],
      "text/plain": [
       "       age           job   marital  education default  balance housing loan  \\\n",
       "45206   51    technician   married   tertiary      no      825      no   no   \n",
       "45207   71       retired  divorced    primary      no     1729      no   no   \n",
       "45208   72       retired   married  secondary      no     5715      no   no   \n",
       "45209   57   blue-collar   married  secondary      no      668      no   no   \n",
       "45210   37  entrepreneur   married  secondary      no     2971      no   no   \n",
       "\n",
       "         contact  day month  duration  campaign  pdays  previous poutcome    y  \n",
       "45206   cellular   17   nov       977         3     -1         0  unknown  yes  \n",
       "45207   cellular   17   nov       456         2     -1         0  unknown  yes  \n",
       "45208   cellular   17   nov      1127         5    184         3  success  yes  \n",
       "45209  telephone   17   nov       508         4     -1         0  unknown   no  \n",
       "45210   cellular   17   nov       361         2    188        11    other   no  "
      ]
     },
     "execution_count": 8,
     "metadata": {},
     "output_type": "execute_result"
    }
   ],
   "source": [
    "df.tail()"
   ]
  },
  {
   "cell_type": "markdown",
   "id": "12217723",
   "metadata": {},
   "source": [
    "Sekarang kita merubah kolom \"y\" menjadi kolom bernama \"ResponClient\"\n"
   ]
  },
  {
   "cell_type": "code",
   "execution_count": 9,
   "id": "860c4dd4",
   "metadata": {},
   "outputs": [
    {
     "data": {
      "text/html": [
       "<div>\n",
       "<style scoped>\n",
       "    .dataframe tbody tr th:only-of-type {\n",
       "        vertical-align: middle;\n",
       "    }\n",
       "\n",
       "    .dataframe tbody tr th {\n",
       "        vertical-align: top;\n",
       "    }\n",
       "\n",
       "    .dataframe thead th {\n",
       "        text-align: right;\n",
       "    }\n",
       "</style>\n",
       "<table border=\"1\" class=\"dataframe\">\n",
       "  <thead>\n",
       "    <tr style=\"text-align: right;\">\n",
       "      <th></th>\n",
       "      <th>age</th>\n",
       "      <th>job</th>\n",
       "      <th>marital</th>\n",
       "      <th>education</th>\n",
       "      <th>default</th>\n",
       "      <th>balance</th>\n",
       "      <th>housing</th>\n",
       "      <th>loan</th>\n",
       "      <th>contact</th>\n",
       "      <th>day</th>\n",
       "      <th>month</th>\n",
       "      <th>duration</th>\n",
       "      <th>campaign</th>\n",
       "      <th>pdays</th>\n",
       "      <th>previous</th>\n",
       "      <th>poutcome</th>\n",
       "      <th>ResponClient</th>\n",
       "    </tr>\n",
       "  </thead>\n",
       "  <tbody>\n",
       "    <tr>\n",
       "      <th>0</th>\n",
       "      <td>58</td>\n",
       "      <td>management</td>\n",
       "      <td>married</td>\n",
       "      <td>tertiary</td>\n",
       "      <td>no</td>\n",
       "      <td>2143</td>\n",
       "      <td>yes</td>\n",
       "      <td>no</td>\n",
       "      <td>unknown</td>\n",
       "      <td>5</td>\n",
       "      <td>may</td>\n",
       "      <td>261</td>\n",
       "      <td>1</td>\n",
       "      <td>-1</td>\n",
       "      <td>0</td>\n",
       "      <td>unknown</td>\n",
       "      <td>no</td>\n",
       "    </tr>\n",
       "    <tr>\n",
       "      <th>1</th>\n",
       "      <td>44</td>\n",
       "      <td>technician</td>\n",
       "      <td>single</td>\n",
       "      <td>secondary</td>\n",
       "      <td>no</td>\n",
       "      <td>29</td>\n",
       "      <td>yes</td>\n",
       "      <td>no</td>\n",
       "      <td>unknown</td>\n",
       "      <td>5</td>\n",
       "      <td>may</td>\n",
       "      <td>151</td>\n",
       "      <td>1</td>\n",
       "      <td>-1</td>\n",
       "      <td>0</td>\n",
       "      <td>unknown</td>\n",
       "      <td>no</td>\n",
       "    </tr>\n",
       "    <tr>\n",
       "      <th>2</th>\n",
       "      <td>33</td>\n",
       "      <td>entrepreneur</td>\n",
       "      <td>married</td>\n",
       "      <td>secondary</td>\n",
       "      <td>no</td>\n",
       "      <td>2</td>\n",
       "      <td>yes</td>\n",
       "      <td>yes</td>\n",
       "      <td>unknown</td>\n",
       "      <td>5</td>\n",
       "      <td>may</td>\n",
       "      <td>76</td>\n",
       "      <td>1</td>\n",
       "      <td>-1</td>\n",
       "      <td>0</td>\n",
       "      <td>unknown</td>\n",
       "      <td>no</td>\n",
       "    </tr>\n",
       "    <tr>\n",
       "      <th>3</th>\n",
       "      <td>47</td>\n",
       "      <td>blue-collar</td>\n",
       "      <td>married</td>\n",
       "      <td>unknown</td>\n",
       "      <td>no</td>\n",
       "      <td>1506</td>\n",
       "      <td>yes</td>\n",
       "      <td>no</td>\n",
       "      <td>unknown</td>\n",
       "      <td>5</td>\n",
       "      <td>may</td>\n",
       "      <td>92</td>\n",
       "      <td>1</td>\n",
       "      <td>-1</td>\n",
       "      <td>0</td>\n",
       "      <td>unknown</td>\n",
       "      <td>no</td>\n",
       "    </tr>\n",
       "    <tr>\n",
       "      <th>4</th>\n",
       "      <td>33</td>\n",
       "      <td>unknown</td>\n",
       "      <td>single</td>\n",
       "      <td>unknown</td>\n",
       "      <td>no</td>\n",
       "      <td>1</td>\n",
       "      <td>no</td>\n",
       "      <td>no</td>\n",
       "      <td>unknown</td>\n",
       "      <td>5</td>\n",
       "      <td>may</td>\n",
       "      <td>198</td>\n",
       "      <td>1</td>\n",
       "      <td>-1</td>\n",
       "      <td>0</td>\n",
       "      <td>unknown</td>\n",
       "      <td>no</td>\n",
       "    </tr>\n",
       "    <tr>\n",
       "      <th>...</th>\n",
       "      <td>...</td>\n",
       "      <td>...</td>\n",
       "      <td>...</td>\n",
       "      <td>...</td>\n",
       "      <td>...</td>\n",
       "      <td>...</td>\n",
       "      <td>...</td>\n",
       "      <td>...</td>\n",
       "      <td>...</td>\n",
       "      <td>...</td>\n",
       "      <td>...</td>\n",
       "      <td>...</td>\n",
       "      <td>...</td>\n",
       "      <td>...</td>\n",
       "      <td>...</td>\n",
       "      <td>...</td>\n",
       "      <td>...</td>\n",
       "    </tr>\n",
       "    <tr>\n",
       "      <th>45206</th>\n",
       "      <td>51</td>\n",
       "      <td>technician</td>\n",
       "      <td>married</td>\n",
       "      <td>tertiary</td>\n",
       "      <td>no</td>\n",
       "      <td>825</td>\n",
       "      <td>no</td>\n",
       "      <td>no</td>\n",
       "      <td>cellular</td>\n",
       "      <td>17</td>\n",
       "      <td>nov</td>\n",
       "      <td>977</td>\n",
       "      <td>3</td>\n",
       "      <td>-1</td>\n",
       "      <td>0</td>\n",
       "      <td>unknown</td>\n",
       "      <td>yes</td>\n",
       "    </tr>\n",
       "    <tr>\n",
       "      <th>45207</th>\n",
       "      <td>71</td>\n",
       "      <td>retired</td>\n",
       "      <td>divorced</td>\n",
       "      <td>primary</td>\n",
       "      <td>no</td>\n",
       "      <td>1729</td>\n",
       "      <td>no</td>\n",
       "      <td>no</td>\n",
       "      <td>cellular</td>\n",
       "      <td>17</td>\n",
       "      <td>nov</td>\n",
       "      <td>456</td>\n",
       "      <td>2</td>\n",
       "      <td>-1</td>\n",
       "      <td>0</td>\n",
       "      <td>unknown</td>\n",
       "      <td>yes</td>\n",
       "    </tr>\n",
       "    <tr>\n",
       "      <th>45208</th>\n",
       "      <td>72</td>\n",
       "      <td>retired</td>\n",
       "      <td>married</td>\n",
       "      <td>secondary</td>\n",
       "      <td>no</td>\n",
       "      <td>5715</td>\n",
       "      <td>no</td>\n",
       "      <td>no</td>\n",
       "      <td>cellular</td>\n",
       "      <td>17</td>\n",
       "      <td>nov</td>\n",
       "      <td>1127</td>\n",
       "      <td>5</td>\n",
       "      <td>184</td>\n",
       "      <td>3</td>\n",
       "      <td>success</td>\n",
       "      <td>yes</td>\n",
       "    </tr>\n",
       "    <tr>\n",
       "      <th>45209</th>\n",
       "      <td>57</td>\n",
       "      <td>blue-collar</td>\n",
       "      <td>married</td>\n",
       "      <td>secondary</td>\n",
       "      <td>no</td>\n",
       "      <td>668</td>\n",
       "      <td>no</td>\n",
       "      <td>no</td>\n",
       "      <td>telephone</td>\n",
       "      <td>17</td>\n",
       "      <td>nov</td>\n",
       "      <td>508</td>\n",
       "      <td>4</td>\n",
       "      <td>-1</td>\n",
       "      <td>0</td>\n",
       "      <td>unknown</td>\n",
       "      <td>no</td>\n",
       "    </tr>\n",
       "    <tr>\n",
       "      <th>45210</th>\n",
       "      <td>37</td>\n",
       "      <td>entrepreneur</td>\n",
       "      <td>married</td>\n",
       "      <td>secondary</td>\n",
       "      <td>no</td>\n",
       "      <td>2971</td>\n",
       "      <td>no</td>\n",
       "      <td>no</td>\n",
       "      <td>cellular</td>\n",
       "      <td>17</td>\n",
       "      <td>nov</td>\n",
       "      <td>361</td>\n",
       "      <td>2</td>\n",
       "      <td>188</td>\n",
       "      <td>11</td>\n",
       "      <td>other</td>\n",
       "      <td>no</td>\n",
       "    </tr>\n",
       "  </tbody>\n",
       "</table>\n",
       "<p>45211 rows × 17 columns</p>\n",
       "</div>"
      ],
      "text/plain": [
       "       age           job   marital  education default  balance housing loan  \\\n",
       "0       58    management   married   tertiary      no     2143     yes   no   \n",
       "1       44    technician    single  secondary      no       29     yes   no   \n",
       "2       33  entrepreneur   married  secondary      no        2     yes  yes   \n",
       "3       47   blue-collar   married    unknown      no     1506     yes   no   \n",
       "4       33       unknown    single    unknown      no        1      no   no   \n",
       "...    ...           ...       ...        ...     ...      ...     ...  ...   \n",
       "45206   51    technician   married   tertiary      no      825      no   no   \n",
       "45207   71       retired  divorced    primary      no     1729      no   no   \n",
       "45208   72       retired   married  secondary      no     5715      no   no   \n",
       "45209   57   blue-collar   married  secondary      no      668      no   no   \n",
       "45210   37  entrepreneur   married  secondary      no     2971      no   no   \n",
       "\n",
       "         contact  day month  duration  campaign  pdays  previous poutcome  \\\n",
       "0        unknown    5   may       261         1     -1         0  unknown   \n",
       "1        unknown    5   may       151         1     -1         0  unknown   \n",
       "2        unknown    5   may        76         1     -1         0  unknown   \n",
       "3        unknown    5   may        92         1     -1         0  unknown   \n",
       "4        unknown    5   may       198         1     -1         0  unknown   \n",
       "...          ...  ...   ...       ...       ...    ...       ...      ...   \n",
       "45206   cellular   17   nov       977         3     -1         0  unknown   \n",
       "45207   cellular   17   nov       456         2     -1         0  unknown   \n",
       "45208   cellular   17   nov      1127         5    184         3  success   \n",
       "45209  telephone   17   nov       508         4     -1         0  unknown   \n",
       "45210   cellular   17   nov       361         2    188        11    other   \n",
       "\n",
       "      ResponClient  \n",
       "0               no  \n",
       "1               no  \n",
       "2               no  \n",
       "3               no  \n",
       "4               no  \n",
       "...            ...  \n",
       "45206          yes  \n",
       "45207          yes  \n",
       "45208          yes  \n",
       "45209           no  \n",
       "45210           no  \n",
       "\n",
       "[45211 rows x 17 columns]"
      ]
     },
     "execution_count": 9,
     "metadata": {},
     "output_type": "execute_result"
    }
   ],
   "source": [
    "df = df.rename(columns={\"y\":'ResponClient'})\n",
    "df"
   ]
  },
  {
   "cell_type": "markdown",
   "id": "03ff364d",
   "metadata": {},
   "source": [
    "Sekarang kita lihat data yang missing value"
   ]
  },
  {
   "cell_type": "code",
   "execution_count": 10,
   "id": "723478eb",
   "metadata": {},
   "outputs": [
    {
     "data": {
      "text/plain": [
       "age             0\n",
       "job             0\n",
       "marital         0\n",
       "education       0\n",
       "default         0\n",
       "balance         0\n",
       "housing         0\n",
       "loan            0\n",
       "contact         0\n",
       "day             0\n",
       "month           0\n",
       "duration        0\n",
       "campaign        0\n",
       "pdays           0\n",
       "previous        0\n",
       "poutcome        0\n",
       "ResponClient    0\n",
       "dtype: int64"
      ]
     },
     "execution_count": 10,
     "metadata": {},
     "output_type": "execute_result"
    }
   ],
   "source": [
    "df.isna().sum()"
   ]
  },
  {
   "cell_type": "markdown",
   "id": "ae25835a",
   "metadata": {},
   "source": [
    "Tidak ada data yang missing value, lalu kita cek data yang terduplkikat"
   ]
  },
  {
   "cell_type": "code",
   "execution_count": 11,
   "id": "b12c26b9",
   "metadata": {},
   "outputs": [
    {
     "data": {
      "text/plain": [
       "0"
      ]
     },
     "execution_count": 11,
     "metadata": {},
     "output_type": "execute_result"
    }
   ],
   "source": [
    "df.duplicated().sum()"
   ]
  },
  {
   "cell_type": "markdown",
   "id": "f39ba33b",
   "metadata": {},
   "source": [
    "Karena dirasa sudah siap datanya, tidak ada missing value maupun data duplikat kita masuk kedalam Exploratory Data Analysis"
   ]
  },
  {
   "cell_type": "markdown",
   "id": "c1f1c6d1",
   "metadata": {},
   "source": [
    "#  Exploratory Data Analysis"
   ]
  },
  {
   "cell_type": "markdown",
   "id": "fdee2013",
   "metadata": {},
   "source": [
    "## Visualisasi Data"
   ]
  },
  {
   "cell_type": "markdown",
   "id": "38757476",
   "metadata": {},
   "source": [
    "Rumusan Masalah\n",
    "\n",
    "> Berapakah jumlah client yang ingin bergabung dengan deposit ini? Apakah diatas 50%?\n",
    "\n",
    "> Apa mayoritas pekerjaan orang yang mengisi data ini?"
   ]
  },
  {
   "cell_type": "markdown",
   "id": "4c3b6295",
   "metadata": {},
   "source": [
    "###  Berapa Jumlah Client yang ingin bergabung dengan deposit ini? Apakah diatas 50%?"
   ]
  },
  {
   "cell_type": "markdown",
   "id": "6cea39b7",
   "metadata": {},
   "source": [
    "Sekarang kita akan menghitung jumlah Yes dan No pada data diatas"
   ]
  },
  {
   "cell_type": "code",
   "execution_count": 12,
   "id": "822ed5d7",
   "metadata": {},
   "outputs": [
    {
     "data": {
      "text/html": [
       "<div>\n",
       "<style scoped>\n",
       "    .dataframe tbody tr th:only-of-type {\n",
       "        vertical-align: middle;\n",
       "    }\n",
       "\n",
       "    .dataframe tbody tr th {\n",
       "        vertical-align: top;\n",
       "    }\n",
       "\n",
       "    .dataframe thead th {\n",
       "        text-align: right;\n",
       "    }\n",
       "</style>\n",
       "<table border=\"1\" class=\"dataframe\">\n",
       "  <thead>\n",
       "    <tr style=\"text-align: right;\">\n",
       "      <th></th>\n",
       "      <th>Jumlah Jawaban</th>\n",
       "    </tr>\n",
       "  </thead>\n",
       "  <tbody>\n",
       "    <tr>\n",
       "      <th>no</th>\n",
       "      <td>39922</td>\n",
       "    </tr>\n",
       "    <tr>\n",
       "      <th>yes</th>\n",
       "      <td>5289</td>\n",
       "    </tr>\n",
       "  </tbody>\n",
       "</table>\n",
       "</div>"
      ],
      "text/plain": [
       "     Jumlah Jawaban\n",
       "no            39922\n",
       "yes            5289"
      ]
     },
     "execution_count": 12,
     "metadata": {},
     "output_type": "execute_result"
    }
   ],
   "source": [
    "jawaban_client = pd.DataFrame({\"Jumlah Jawaban\":df[\"ResponClient\"].value_counts()})\n",
    "jawaban_client"
   ]
  },
  {
   "cell_type": "markdown",
   "id": "b125a311",
   "metadata": {},
   "source": [
    "Ternyata dari data diatas dapat disimpulkan bahwa banyak client yang tidak ingin bergabung sebanyak 39922 orang dan 5289. Tandanya tidak ada 50% orang yang ingin bergabung kedalam deposit berjangka ini"
   ]
  },
  {
   "cell_type": "markdown",
   "id": "60110fdc",
   "metadata": {},
   "source": [
    "Untuk lebih jelas lagi melihatnya mari kita gunakan Histrogram untuk menunjukan jumlah nya, dan persentasenya persen menggunakan pie chart"
   ]
  },
  {
   "cell_type": "markdown",
   "id": "ccc4b5d9",
   "metadata": {},
   "source": [
    "masukan data yang ingin di persentasekan"
   ]
  },
  {
   "cell_type": "code",
   "execution_count": 13,
   "id": "263d9b2c",
   "metadata": {},
   "outputs": [],
   "source": [
    "data_jumlah_yesno = jawaban_client[\"Jumlah Jawaban\"] #mengunci data pada kolom jumlah jawaban"
   ]
  },
  {
   "cell_type": "markdown",
   "id": "b1a044a2",
   "metadata": {},
   "source": [
    "Mari kita lihat menggunakan Histogram"
   ]
  },
  {
   "cell_type": "code",
   "execution_count": 14,
   "id": "3e25c2af",
   "metadata": {},
   "outputs": [
    {
     "data": {
      "image/png": "[encoded data removed]",
      "text/plain": [
       "<Figure size 432x288 with 1 Axes>"
      ]
     },
     "metadata": {
      "needs_background": "light"
     },
     "output_type": "display_data"
    }
   ],
   "source": [
    "label=[\"YES\",\"NO\"]\n",
    "data_jumlah_yesno.plot(kind=\"bar\")\n",
    "plt.bar(label,data_jumlah_yesno, color=['purple', 'yellow'])\n",
    "plt.title('Diagram Perbandingan Client Bergabung') #judul\n",
    "plt.xlabel(\"Indikasi\")\n",
    "plt.ylabel(\"Jumlah\")\n",
    "plt.show() #tampilkan"
   ]
  },
  {
   "cell_type": "markdown",
   "id": "2f5954d4",
   "metadata": {},
   "source": [
    "Mari kita lihat poersentasenya dalam PIE CHARTT"
   ]
  },
  {
   "cell_type": "code",
   "execution_count": 15,
   "id": "1369e7b5",
   "metadata": {},
   "outputs": [
    {
     "data": {
      "image/png": "[encoded data removed]",
      "text/plain": [
       "<Figure size 432x288 with 1 Axes>"
      ]
     },
     "metadata": {},
     "output_type": "display_data"
    }
   ],
   "source": [
    "# Plot pie chart\n",
    "plt.pie(data_jumlah_yesno, labels=[\"Bergabung\",\"Tidak\"], autopct='%1.1f%%', startangle=90, colors=['purple',\"yellow\"])\n",
    "\n",
    "# Mengatur aspek proporsi pie chart menjadi sama agar terlihat bulat\n",
    "plt.axis('equal')\n",
    "\n",
    "# Menambahkan judul\n",
    "plt.title('Presentase Client yang ingin bergabung dan tidak')\n",
    "\n",
    "# Menampilkan pie chart\n",
    "plt.show()"
   ]
  },
  {
   "cell_type": "markdown",
   "id": "8a01bba5",
   "metadata": {},
   "source": [
    "_Kesimpulan_\n",
    "Bisa kita lihat pada chart bar dan pie chart, mayoritas orang tidak ingin bergabung dalam deposit berjang ini, Persentasenya 88.3% : 11.7% dengan 39922 : 5289 orang "
   ]
  },
  {
   "cell_type": "markdown",
   "id": "02c5fee0",
   "metadata": {},
   "source": [
    "###  Apa mayoritas pekerjaan orang yang mengisi data ini?"
   ]
  },
  {
   "cell_type": "markdown",
   "id": "74cf0276",
   "metadata": {},
   "source": [
    "Sekarang kita akan melihat berapa persentase tiap pekerjaannya"
   ]
  },
  {
   "cell_type": "code",
   "execution_count": 16,
   "id": "cc7e243f",
   "metadata": {},
   "outputs": [
    {
     "data": {
      "text/plain": [
       "unknown           288\n",
       "student           938\n",
       "housemaid        1240\n",
       "unemployed       1303\n",
       "entrepreneur     1487\n",
       "self-employed    1579\n",
       "retired          2264\n",
       "services         4154\n",
       "admin.           5171\n",
       "technician       7597\n",
       "management       9458\n",
       "blue-collar      9732\n",
       "Name: job, dtype: int64"
      ]
     },
     "execution_count": 16,
     "metadata": {},
     "output_type": "execute_result"
    }
   ],
   "source": [
    "totaljob=df[\"job\"].value_counts().sort_values()\n",
    "totaljob"
   ]
  },
  {
   "cell_type": "markdown",
   "id": "396bcfc2",
   "metadata": {},
   "source": [
    "Bisa kita lihat data tertinggi ada pada blue-collar. Sekarang kita lihat menggunakan Barchart lagi"
   ]
  },
  {
   "cell_type": "code",
   "execution_count": 17,
   "id": "5a2fb581",
   "metadata": {},
   "outputs": [
    {
     "data": {
      "text/plain": [
       "<AxesSubplot:>"
      ]
     },
     "execution_count": 17,
     "metadata": {},
     "output_type": "execute_result"
    },
    {
     "data": {
      "image/png": "[encoded data removed]",
      "text/plain": [
       "<Figure size 432x288 with 1 Axes>"
      ]
     },
     "metadata": {
      "needs_background": "light"
     },
     "output_type": "display_data"
    }
   ],
   "source": [
    "totaljob.plot(kind=\"bar\")"
   ]
  },
  {
   "cell_type": "markdown",
   "id": "99473e0c",
   "metadata": {},
   "source": [
    "_keterangan_\n",
    "Brati bisa kita liohat bahwa Blue-collar adalah mayoritas pekerjaan yang mengisi data ini"
   ]
  },
  {
   "cell_type": "markdown",
   "id": "d153a378",
   "metadata": {},
   "source": [
    "Sekarang kita akan masuk kedalam permodelannya"
   ]
  },
  {
   "cell_type": "markdown",
   "id": "e6aff11a",
   "metadata": {},
   "source": [
    "# Preprocesing Data"
   ]
  },
  {
   "cell_type": "markdown",
   "id": "e18c9ad3",
   "metadata": {},
   "source": [
    "Sebelum memasuki permodelannya, mari kita ubah tipe data objek ke dalam bnt int, karena ML tidak dapat memproses data yang string, Jadi harus kita ubah kedalam numerical dengan encoder"
   ]
  },
  {
   "cell_type": "markdown",
   "id": "3a697553",
   "metadata": {},
   "source": [
    "## Encode"
   ]
  },
  {
   "cell_type": "code",
   "execution_count": 18,
   "id": "c5a7ec85",
   "metadata": {},
   "outputs": [],
   "source": [
    "#creating labelEncoder\n",
    "\n",
    "# preprocessing.LabelEncoder() digunakan untuk membuat objek LabelEncoder yang akan digunakan untuk melakukan encoding pada setiap kolom.\n",
    "label_encoder = preprocessing.LabelEncoder()\n",
    "\n",
    "# mengambil tipe data object pada dataset dan di simpan di df_new\n",
    "df_category = df.select_dtypes(include='object')\n",
    "df_new = df.copy()\n",
    "\n",
    "for column in df_category.columns:\n",
    "    df_new[column] = label_encoder.fit_transform(df[column])"
   ]
  },
  {
   "cell_type": "code",
   "execution_count": 19,
   "id": "2fb5663d",
   "metadata": {},
   "outputs": [
    {
     "name": "stdout",
     "output_type": "stream",
     "text": [
      "<class 'pandas.core.frame.DataFrame'>\n",
      "RangeIndex: 45211 entries, 0 to 45210\n",
      "Data columns (total 17 columns):\n",
      " #   Column        Non-Null Count  Dtype\n",
      "---  ------        --------------  -----\n",
      " 0   age           45211 non-null  int64\n",
      " 1   job           45211 non-null  int32\n",
      " 2   marital       45211 non-null  int32\n",
      " 3   education     45211 non-null  int32\n",
      " 4   default       45211 non-null  int32\n",
      " 5   balance       45211 non-null  int64\n",
      " 6   housing       45211 non-null  int32\n",
      " 7   loan          45211 non-null  int32\n",
      " 8   contact       45211 non-null  int32\n",
      " 9   day           45211 non-null  int64\n",
      " 10  month         45211 non-null  int32\n",
      " 11  duration      45211 non-null  int64\n",
      " 12  campaign      45211 non-null  int64\n",
      " 13  pdays         45211 non-null  int64\n",
      " 14  previous      45211 non-null  int64\n",
      " 15  poutcome      45211 non-null  int32\n",
      " 16  ResponClient  45211 non-null  int32\n",
      "dtypes: int32(10), int64(7)\n",
      "memory usage: 4.1 MB\n"
     ]
    }
   ],
   "source": [
    "df_new.info()"
   ]
  },
  {
   "cell_type": "markdown",
   "id": "2cd7fc72",
   "metadata": {},
   "source": [
    "Jika semua data sudah berubah ke int, maka dari itu sudah bisa diolah oleh ML, sekrang mari kita lihat 5 ndata teratas"
   ]
  },
  {
   "cell_type": "code",
   "execution_count": 20,
   "id": "94be5cf0",
   "metadata": {},
   "outputs": [
    {
     "data": {
      "text/html": [
       "<div>\n",
       "<style scoped>\n",
       "    .dataframe tbody tr th:only-of-type {\n",
       "        vertical-align: middle;\n",
       "    }\n",
       "\n",
       "    .dataframe tbody tr th {\n",
       "        vertical-align: top;\n",
       "    }\n",
       "\n",
       "    .dataframe thead th {\n",
       "        text-align: right;\n",
       "    }\n",
       "</style>\n",
       "<table border=\"1\" class=\"dataframe\">\n",
       "  <thead>\n",
       "    <tr style=\"text-align: right;\">\n",
       "      <th></th>\n",
       "      <th>age</th>\n",
       "      <th>job</th>\n",
       "      <th>marital</th>\n",
       "      <th>education</th>\n",
       "      <th>default</th>\n",
       "      <th>balance</th>\n",
       "      <th>housing</th>\n",
       "      <th>loan</th>\n",
       "      <th>contact</th>\n",
       "      <th>day</th>\n",
       "      <th>month</th>\n",
       "      <th>duration</th>\n",
       "      <th>campaign</th>\n",
       "      <th>pdays</th>\n",
       "      <th>previous</th>\n",
       "      <th>poutcome</th>\n",
       "      <th>ResponClient</th>\n",
       "    </tr>\n",
       "  </thead>\n",
       "  <tbody>\n",
       "    <tr>\n",
       "      <th>0</th>\n",
       "      <td>58</td>\n",
       "      <td>4</td>\n",
       "      <td>1</td>\n",
       "      <td>2</td>\n",
       "      <td>0</td>\n",
       "      <td>2143</td>\n",
       "      <td>1</td>\n",
       "      <td>0</td>\n",
       "      <td>2</td>\n",
       "      <td>5</td>\n",
       "      <td>8</td>\n",
       "      <td>261</td>\n",
       "      <td>1</td>\n",
       "      <td>-1</td>\n",
       "      <td>0</td>\n",
       "      <td>3</td>\n",
       "      <td>0</td>\n",
       "    </tr>\n",
       "    <tr>\n",
       "      <th>1</th>\n",
       "      <td>44</td>\n",
       "      <td>9</td>\n",
       "      <td>2</td>\n",
       "      <td>1</td>\n",
       "      <td>0</td>\n",
       "      <td>29</td>\n",
       "      <td>1</td>\n",
       "      <td>0</td>\n",
       "      <td>2</td>\n",
       "      <td>5</td>\n",
       "      <td>8</td>\n",
       "      <td>151</td>\n",
       "      <td>1</td>\n",
       "      <td>-1</td>\n",
       "      <td>0</td>\n",
       "      <td>3</td>\n",
       "      <td>0</td>\n",
       "    </tr>\n",
       "    <tr>\n",
       "      <th>2</th>\n",
       "      <td>33</td>\n",
       "      <td>2</td>\n",
       "      <td>1</td>\n",
       "      <td>1</td>\n",
       "      <td>0</td>\n",
       "      <td>2</td>\n",
       "      <td>1</td>\n",
       "      <td>1</td>\n",
       "      <td>2</td>\n",
       "      <td>5</td>\n",
       "      <td>8</td>\n",
       "      <td>76</td>\n",
       "      <td>1</td>\n",
       "      <td>-1</td>\n",
       "      <td>0</td>\n",
       "      <td>3</td>\n",
       "      <td>0</td>\n",
       "    </tr>\n",
       "    <tr>\n",
       "      <th>3</th>\n",
       "      <td>47</td>\n",
       "      <td>1</td>\n",
       "      <td>1</td>\n",
       "      <td>3</td>\n",
       "      <td>0</td>\n",
       "      <td>1506</td>\n",
       "      <td>1</td>\n",
       "      <td>0</td>\n",
       "      <td>2</td>\n",
       "      <td>5</td>\n",
       "      <td>8</td>\n",
       "      <td>92</td>\n",
       "      <td>1</td>\n",
       "      <td>-1</td>\n",
       "      <td>0</td>\n",
       "      <td>3</td>\n",
       "      <td>0</td>\n",
       "    </tr>\n",
       "    <tr>\n",
       "      <th>4</th>\n",
       "      <td>33</td>\n",
       "      <td>11</td>\n",
       "      <td>2</td>\n",
       "      <td>3</td>\n",
       "      <td>0</td>\n",
       "      <td>1</td>\n",
       "      <td>0</td>\n",
       "      <td>0</td>\n",
       "      <td>2</td>\n",
       "      <td>5</td>\n",
       "      <td>8</td>\n",
       "      <td>198</td>\n",
       "      <td>1</td>\n",
       "      <td>-1</td>\n",
       "      <td>0</td>\n",
       "      <td>3</td>\n",
       "      <td>0</td>\n",
       "    </tr>\n",
       "  </tbody>\n",
       "</table>\n",
       "</div>"
      ],
      "text/plain": [
       "   age  job  marital  education  default  balance  housing  loan  contact  \\\n",
       "0   58    4        1          2        0     2143        1     0        2   \n",
       "1   44    9        2          1        0       29        1     0        2   \n",
       "2   33    2        1          1        0        2        1     1        2   \n",
       "3   47    1        1          3        0     1506        1     0        2   \n",
       "4   33   11        2          3        0        1        0     0        2   \n",
       "\n",
       "   day  month  duration  campaign  pdays  previous  poutcome  ResponClient  \n",
       "0    5      8       261         1     -1         0         3             0  \n",
       "1    5      8       151         1     -1         0         3             0  \n",
       "2    5      8        76         1     -1         0         3             0  \n",
       "3    5      8        92         1     -1         0         3             0  \n",
       "4    5      8       198         1     -1         0         3             0  "
      ]
     },
     "execution_count": 20,
     "metadata": {},
     "output_type": "execute_result"
    }
   ],
   "source": [
    "df_new.head()"
   ]
  },
  {
   "cell_type": "markdown",
   "id": "355d4f53",
   "metadata": {},
   "source": [
    "Bisa kita lihat data diatas, jaraknya jauh. Seperti 261 dengan 1 dan lainnya. Maka dari itu kita lakukan Standardization"
   ]
  },
  {
   "cell_type": "markdown",
   "id": "c83edfc2",
   "metadata": {},
   "source": [
    "## Standarzation"
   ]
  },
  {
   "cell_type": "code",
   "execution_count": 21,
   "id": "5cbdde79",
   "metadata": {},
   "outputs": [],
   "source": [
    "scaler = preprocessing.StandardScaler()# membuat objek StandardScaler utuk melakukan scaling pada setiap kolom numerik\n",
    "scale_df = df_new.copy()# copy data frame df_new dan simpan pada scale_df\n",
    "\n",
    "# setiap kolom diubah nilainya dengan method fit_trasnform() dan hasilnya disimpan pada numeric_df\n",
    "numeric_df = df_new.select_dtypes(include=['int64','float64','int32'])\n",
    "for column in numeric_df.columns:\n",
    "  scale_df[column] = scaler.fit_transform(df_new[column].values.reshape(-1,1))"
   ]
  },
  {
   "cell_type": "code",
   "execution_count": 22,
   "id": "5606daf8",
   "metadata": {},
   "outputs": [
    {
     "data": {
      "text/html": [
       "<div>\n",
       "<style scoped>\n",
       "    .dataframe tbody tr th:only-of-type {\n",
       "        vertical-align: middle;\n",
       "    }\n",
       "\n",
       "    .dataframe tbody tr th {\n",
       "        vertical-align: top;\n",
       "    }\n",
       "\n",
       "    .dataframe thead th {\n",
       "        text-align: right;\n",
       "    }\n",
       "</style>\n",
       "<table border=\"1\" class=\"dataframe\">\n",
       "  <thead>\n",
       "    <tr style=\"text-align: right;\">\n",
       "      <th></th>\n",
       "      <th>age</th>\n",
       "      <th>job</th>\n",
       "      <th>marital</th>\n",
       "      <th>education</th>\n",
       "      <th>default</th>\n",
       "      <th>balance</th>\n",
       "      <th>housing</th>\n",
       "      <th>loan</th>\n",
       "      <th>contact</th>\n",
       "      <th>day</th>\n",
       "      <th>month</th>\n",
       "      <th>duration</th>\n",
       "      <th>campaign</th>\n",
       "      <th>pdays</th>\n",
       "      <th>previous</th>\n",
       "      <th>poutcome</th>\n",
       "      <th>ResponClient</th>\n",
       "    </tr>\n",
       "  </thead>\n",
       "  <tbody>\n",
       "    <tr>\n",
       "      <th>0</th>\n",
       "      <td>1.606965</td>\n",
       "      <td>-0.103820</td>\n",
       "      <td>-0.275762</td>\n",
       "      <td>1.036362</td>\n",
       "      <td>-0.13549</td>\n",
       "      <td>0.256419</td>\n",
       "      <td>0.893915</td>\n",
       "      <td>-0.436803</td>\n",
       "      <td>1.514306</td>\n",
       "      <td>-1.298476</td>\n",
       "      <td>0.823773</td>\n",
       "      <td>0.011016</td>\n",
       "      <td>-0.569351</td>\n",
       "      <td>-0.411453</td>\n",
       "      <td>-0.251940</td>\n",
       "      <td>0.444898</td>\n",
       "      <td>-0.363983</td>\n",
       "    </tr>\n",
       "    <tr>\n",
       "      <th>1</th>\n",
       "      <td>0.288529</td>\n",
       "      <td>1.424008</td>\n",
       "      <td>1.368372</td>\n",
       "      <td>-0.300556</td>\n",
       "      <td>-0.13549</td>\n",
       "      <td>-0.437895</td>\n",
       "      <td>0.893915</td>\n",
       "      <td>-0.436803</td>\n",
       "      <td>1.514306</td>\n",
       "      <td>-1.298476</td>\n",
       "      <td>0.823773</td>\n",
       "      <td>-0.416127</td>\n",
       "      <td>-0.569351</td>\n",
       "      <td>-0.411453</td>\n",
       "      <td>-0.251940</td>\n",
       "      <td>0.444898</td>\n",
       "      <td>-0.363983</td>\n",
       "    </tr>\n",
       "    <tr>\n",
       "      <th>2</th>\n",
       "      <td>-0.747384</td>\n",
       "      <td>-0.714951</td>\n",
       "      <td>-0.275762</td>\n",
       "      <td>-0.300556</td>\n",
       "      <td>-0.13549</td>\n",
       "      <td>-0.446762</td>\n",
       "      <td>0.893915</td>\n",
       "      <td>2.289359</td>\n",
       "      <td>1.514306</td>\n",
       "      <td>-1.298476</td>\n",
       "      <td>0.823773</td>\n",
       "      <td>-0.707361</td>\n",
       "      <td>-0.569351</td>\n",
       "      <td>-0.411453</td>\n",
       "      <td>-0.251940</td>\n",
       "      <td>0.444898</td>\n",
       "      <td>-0.363983</td>\n",
       "    </tr>\n",
       "    <tr>\n",
       "      <th>3</th>\n",
       "      <td>0.571051</td>\n",
       "      <td>-1.020516</td>\n",
       "      <td>-0.275762</td>\n",
       "      <td>2.373280</td>\n",
       "      <td>-0.13549</td>\n",
       "      <td>0.047205</td>\n",
       "      <td>0.893915</td>\n",
       "      <td>-0.436803</td>\n",
       "      <td>1.514306</td>\n",
       "      <td>-1.298476</td>\n",
       "      <td>0.823773</td>\n",
       "      <td>-0.645231</td>\n",
       "      <td>-0.569351</td>\n",
       "      <td>-0.411453</td>\n",
       "      <td>-0.251940</td>\n",
       "      <td>0.444898</td>\n",
       "      <td>-0.363983</td>\n",
       "    </tr>\n",
       "    <tr>\n",
       "      <th>4</th>\n",
       "      <td>-0.747384</td>\n",
       "      <td>2.035139</td>\n",
       "      <td>1.368372</td>\n",
       "      <td>2.373280</td>\n",
       "      <td>-0.13549</td>\n",
       "      <td>-0.447091</td>\n",
       "      <td>-1.118674</td>\n",
       "      <td>-0.436803</td>\n",
       "      <td>1.514306</td>\n",
       "      <td>-1.298476</td>\n",
       "      <td>0.823773</td>\n",
       "      <td>-0.233620</td>\n",
       "      <td>-0.569351</td>\n",
       "      <td>-0.411453</td>\n",
       "      <td>-0.251940</td>\n",
       "      <td>0.444898</td>\n",
       "      <td>-0.363983</td>\n",
       "    </tr>\n",
       "    <tr>\n",
       "      <th>...</th>\n",
       "      <td>...</td>\n",
       "      <td>...</td>\n",
       "      <td>...</td>\n",
       "      <td>...</td>\n",
       "      <td>...</td>\n",
       "      <td>...</td>\n",
       "      <td>...</td>\n",
       "      <td>...</td>\n",
       "      <td>...</td>\n",
       "      <td>...</td>\n",
       "      <td>...</td>\n",
       "      <td>...</td>\n",
       "      <td>...</td>\n",
       "      <td>...</td>\n",
       "      <td>...</td>\n",
       "      <td>...</td>\n",
       "      <td>...</td>\n",
       "    </tr>\n",
       "    <tr>\n",
       "      <th>45206</th>\n",
       "      <td>0.947747</td>\n",
       "      <td>1.424008</td>\n",
       "      <td>-0.275762</td>\n",
       "      <td>1.036362</td>\n",
       "      <td>-0.13549</td>\n",
       "      <td>-0.176460</td>\n",
       "      <td>-1.118674</td>\n",
       "      <td>-0.436803</td>\n",
       "      <td>-0.713012</td>\n",
       "      <td>0.143418</td>\n",
       "      <td>1.156344</td>\n",
       "      <td>2.791329</td>\n",
       "      <td>0.076230</td>\n",
       "      <td>-0.411453</td>\n",
       "      <td>-0.251940</td>\n",
       "      <td>0.444898</td>\n",
       "      <td>2.747384</td>\n",
       "    </tr>\n",
       "    <tr>\n",
       "      <th>45207</th>\n",
       "      <td>2.831227</td>\n",
       "      <td>0.201746</td>\n",
       "      <td>-1.919895</td>\n",
       "      <td>-1.637474</td>\n",
       "      <td>-0.13549</td>\n",
       "      <td>0.120447</td>\n",
       "      <td>-1.118674</td>\n",
       "      <td>-0.436803</td>\n",
       "      <td>-0.713012</td>\n",
       "      <td>0.143418</td>\n",
       "      <td>1.156344</td>\n",
       "      <td>0.768224</td>\n",
       "      <td>-0.246560</td>\n",
       "      <td>-0.411453</td>\n",
       "      <td>-0.251940</td>\n",
       "      <td>0.444898</td>\n",
       "      <td>2.747384</td>\n",
       "    </tr>\n",
       "    <tr>\n",
       "      <th>45208</th>\n",
       "      <td>2.925401</td>\n",
       "      <td>0.201746</td>\n",
       "      <td>-0.275762</td>\n",
       "      <td>-0.300556</td>\n",
       "      <td>-0.13549</td>\n",
       "      <td>1.429593</td>\n",
       "      <td>-1.118674</td>\n",
       "      <td>-0.436803</td>\n",
       "      <td>-0.713012</td>\n",
       "      <td>0.143418</td>\n",
       "      <td>1.156344</td>\n",
       "      <td>3.373797</td>\n",
       "      <td>0.721811</td>\n",
       "      <td>1.436189</td>\n",
       "      <td>1.050473</td>\n",
       "      <td>-0.566175</td>\n",
       "      <td>2.747384</td>\n",
       "    </tr>\n",
       "    <tr>\n",
       "      <th>45209</th>\n",
       "      <td>1.512791</td>\n",
       "      <td>-1.020516</td>\n",
       "      <td>-0.275762</td>\n",
       "      <td>-0.300556</td>\n",
       "      <td>-0.13549</td>\n",
       "      <td>-0.228024</td>\n",
       "      <td>-1.118674</td>\n",
       "      <td>-0.436803</td>\n",
       "      <td>0.400647</td>\n",
       "      <td>0.143418</td>\n",
       "      <td>1.156344</td>\n",
       "      <td>0.970146</td>\n",
       "      <td>0.399020</td>\n",
       "      <td>-0.411453</td>\n",
       "      <td>-0.251940</td>\n",
       "      <td>0.444898</td>\n",
       "      <td>-0.363983</td>\n",
       "    </tr>\n",
       "    <tr>\n",
       "      <th>45210</th>\n",
       "      <td>-0.370689</td>\n",
       "      <td>-0.714951</td>\n",
       "      <td>-0.275762</td>\n",
       "      <td>-0.300556</td>\n",
       "      <td>-0.13549</td>\n",
       "      <td>0.528364</td>\n",
       "      <td>-1.118674</td>\n",
       "      <td>-0.436803</td>\n",
       "      <td>-0.713012</td>\n",
       "      <td>0.143418</td>\n",
       "      <td>1.156344</td>\n",
       "      <td>0.399328</td>\n",
       "      <td>-0.246560</td>\n",
       "      <td>1.476138</td>\n",
       "      <td>4.523577</td>\n",
       "      <td>-1.577248</td>\n",
       "      <td>-0.363983</td>\n",
       "    </tr>\n",
       "  </tbody>\n",
       "</table>\n",
       "<p>45211 rows × 17 columns</p>\n",
       "</div>"
      ],
      "text/plain": [
       "            age       job   marital  education  default   balance   housing  \\\n",
       "0      1.606965 -0.103820 -0.275762   1.036362 -0.13549  0.256419  0.893915   \n",
       "1      0.288529  1.424008  1.368372  -0.300556 -0.13549 -0.437895  0.893915   \n",
       "2     -0.747384 -0.714951 -0.275762  -0.300556 -0.13549 -0.446762  0.893915   \n",
       "3      0.571051 -1.020516 -0.275762   2.373280 -0.13549  0.047205  0.893915   \n",
       "4     -0.747384  2.035139  1.368372   2.373280 -0.13549 -0.447091 -1.118674   \n",
       "...         ...       ...       ...        ...      ...       ...       ...   \n",
       "45206  0.947747  1.424008 -0.275762   1.036362 -0.13549 -0.176460 -1.118674   \n",
       "45207  2.831227  0.201746 -1.919895  -1.637474 -0.13549  0.120447 -1.118674   \n",
       "45208  2.925401  0.201746 -0.275762  -0.300556 -0.13549  1.429593 -1.118674   \n",
       "45209  1.512791 -1.020516 -0.275762  -0.300556 -0.13549 -0.228024 -1.118674   \n",
       "45210 -0.370689 -0.714951 -0.275762  -0.300556 -0.13549  0.528364 -1.118674   \n",
       "\n",
       "           loan   contact       day     month  duration  campaign     pdays  \\\n",
       "0     -0.436803  1.514306 -1.298476  0.823773  0.011016 -0.569351 -0.411453   \n",
       "1     -0.436803  1.514306 -1.298476  0.823773 -0.416127 -0.569351 -0.411453   \n",
       "2      2.289359  1.514306 -1.298476  0.823773 -0.707361 -0.569351 -0.411453   \n",
       "3     -0.436803  1.514306 -1.298476  0.823773 -0.645231 -0.569351 -0.411453   \n",
       "4     -0.436803  1.514306 -1.298476  0.823773 -0.233620 -0.569351 -0.411453   \n",
       "...         ...       ...       ...       ...       ...       ...       ...   \n",
       "45206 -0.436803 -0.713012  0.143418  1.156344  2.791329  0.076230 -0.411453   \n",
       "45207 -0.436803 -0.713012  0.143418  1.156344  0.768224 -0.246560 -0.411453   \n",
       "45208 -0.436803 -0.713012  0.143418  1.156344  3.373797  0.721811  1.436189   \n",
       "45209 -0.436803  0.400647  0.143418  1.156344  0.970146  0.399020 -0.411453   \n",
       "45210 -0.436803 -0.713012  0.143418  1.156344  0.399328 -0.246560  1.476138   \n",
       "\n",
       "       previous  poutcome  ResponClient  \n",
       "0     -0.251940  0.444898     -0.363983  \n",
       "1     -0.251940  0.444898     -0.363983  \n",
       "2     -0.251940  0.444898     -0.363983  \n",
       "3     -0.251940  0.444898     -0.363983  \n",
       "4     -0.251940  0.444898     -0.363983  \n",
       "...         ...       ...           ...  \n",
       "45206 -0.251940  0.444898      2.747384  \n",
       "45207 -0.251940  0.444898      2.747384  \n",
       "45208  1.050473 -0.566175      2.747384  \n",
       "45209 -0.251940  0.444898     -0.363983  \n",
       "45210  4.523577 -1.577248     -0.363983  \n",
       "\n",
       "[45211 rows x 17 columns]"
      ]
     },
     "execution_count": 22,
     "metadata": {},
     "output_type": "execute_result"
    }
   ],
   "source": [
    "scale_df"
   ]
  },
  {
   "cell_type": "markdown",
   "id": "a96d69c8",
   "metadata": {},
   "source": [
    "Data diatas duah kita sudah di standarzation, skrg kita tampilkan nilai korelasi antar tabelnya. gunakan annot=True untuk menampilkan nilai korelasinya pada HEAT MAP"
   ]
  },
  {
   "cell_type": "markdown",
   "id": "afef6bb9",
   "metadata": {},
   "source": [
    "## HEATMAP"
   ]
  },
  {
   "cell_type": "code",
   "execution_count": 23,
   "id": "315ad215",
   "metadata": {},
   "outputs": [
    {
     "data": {
      "image/png": "[encoded data removed]",
      "text/plain": [
       "<Figure size 2880x1224 with 2 Axes>"
      ]
     },
     "metadata": {
      "needs_background": "light"
     },
     "output_type": "display_data"
    }
   ],
   "source": [
    "\n",
    "plt.figure(figsize=(40, 17))\n",
    "ax = sns.heatmap(scale_df.corr(),annot=True, cmap='viridis', linewidths=.5, linecolor='black', square=True)\n"
   ]
  },
  {
   "cell_type": "markdown",
   "id": "a5467f6e",
   "metadata": {},
   "source": [
    "_KETERANGAN_\n",
    "\n",
    "warna hijau muda atau kuning muda menunjukkan korelasi positif tinggi, \n",
    "\n",
    "sedangkan warna ungu atau biru tua menunjukkan korelasi negatif tinggi."
   ]
  },
  {
   "cell_type": "markdown",
   "id": "892f63ba",
   "metadata": {},
   "source": [
    "Sekarang kita masuk ke dalam MODELING"
   ]
  },
  {
   "cell_type": "markdown",
   "id": "d1b0571b",
   "metadata": {},
   "source": [
    "# MODELING IN MACHINE LEARNING"
   ]
  },
  {
   "cell_type": "markdown",
   "id": "3000c448",
   "metadata": {},
   "source": [
    "Model yang kita buat akan ada 7, diantaranya:\n",
    "\n",
    "1. Logistic Regression\n",
    "2. K-Nearest Neighbour\n",
    "3. Support Vector Machine\n",
    "4. Decision Tree\n",
    "5. Random Forest\n",
    "6. Naive Bayes\n",
    "7. Confusion Matrix"
   ]
  },
  {
   "cell_type": "markdown",
   "id": "cfde4098",
   "metadata": {},
   "source": [
    "Sebelum masuk ke modeling, mari kita tetapkan variabel X dan y nya\n",
    "variable x adlaah variabel bebas, dan y terikat. Untuk y adalah Y_targer, dan sisanya X"
   ]
  },
  {
   "cell_type": "code",
   "execution_count": 24,
   "id": "7c9ab43d",
   "metadata": {},
   "outputs": [],
   "source": [
    "x = df_new.iloc[:,0:16]\n",
    "y = df_new.iloc[:,-1]"
   ]
  },
  {
   "cell_type": "markdown",
   "id": "e0256259",
   "metadata": {},
   "source": [
    "Setelah kita loc, mari kita lakukan pembagian trtaining dan testing. Nantinya pembagian testing dan trainignya dibagi sebebesar 25% testing dan 75 % training/"
   ]
  },
  {
   "cell_type": "code",
   "execution_count": 25,
   "id": "3346db83",
   "metadata": {},
   "outputs": [],
   "source": [
    "x_train,x_test, y_train, y_test = train_test_split(x,y, test_size=25, random_state=1)"
   ]
  },
  {
   "cell_type": "markdown",
   "id": "5f1be62f",
   "metadata": {},
   "source": [
    "## Logistic Regresion"
   ]
  },
  {
   "cell_type": "markdown",
   "id": "9a2f8b6c",
   "metadata": {},
   "source": [
    "Logistic Regresi ini adlaah modeling yang analisanya deangna hubugnan antara 2 variabel yang dependen dan idnependen. Guna dari Logistic Regressioin ini untuk prediksi nilai probabilitas dari sbuah kejadian yang biner atau sering kita jkumpai seperti ya tidak, berhasil gagal."
   ]
  },
  {
   "cell_type": "code",
   "execution_count": 26,
   "id": "71f0f29a",
   "metadata": {},
   "outputs": [
    {
     "name": "stdout",
     "output_type": "stream",
     "text": [
      "Akurasi dari Model 1 ( Logistic Regression) sebesar: 92.0\n"
     ]
    }
   ],
   "source": [
    "#karena sudah import sklearn diawal, tidak perlu import lagi\n",
    "\n",
    "# menggunakan model1 sebagai penampung LOGISTIC REGRESION modeling\n",
    "model1 = LogisticRegression()\n",
    "\n",
    "# Melatih model pada data training\n",
    "model1.fit(x_train, y_train)\n",
    "\n",
    "# Memprediksi kelas Y_target pada data testing\n",
    "model1_pred = model1.predict(x_test)\n",
    "\n",
    "# Menghitung akurasi prediksi pada data testing\n",
    "accuracyModel1 = accuracy_score(y_test, model1_pred)\n",
    "print(\"Akurasi dari Model 1 ( Logistic Regression) sebesar:\", accuracyModel1*100)"
   ]
  },
  {
   "cell_type": "markdown",
   "id": "2f107ad6",
   "metadata": {},
   "source": [
    "## K-NEAREST NEIGHBOUR"
   ]
  },
  {
   "cell_type": "markdown",
   "id": "32cd9a95",
   "metadata": {},
   "source": [
    "KNN adalah algoritma mesin yang digunakan untuk klasifikasi dan juga bisa untuk regresi. untuk KNN sendiri dia akan mencari nilai K tetangga terdekatnya dari data yang baru dan menentukan kelas/ nilai regresi untuk titik data baru berdasarkan mayoritas dari nilai K terdekat"
   ]
  },
  {
   "cell_type": "code",
   "execution_count": 27,
   "id": "f56a19a5",
   "metadata": {},
   "outputs": [
    {
     "name": "stdout",
     "output_type": "stream",
     "text": [
      "Akurasi dari Model 2 (KNN) sebesar: 96.0\n"
     ]
    }
   ],
   "source": [
    "# menggunakan model2 sebagai penampung KNN modeling\n",
    "model2 = KNeighborsClassifier()\n",
    "\n",
    "# Melatih model pada data training\n",
    "model2.fit(x_train,y_train)\n",
    "\n",
    "#memprediksi kelas Y_target pada data testing\n",
    "model2_pred = model2.predict(x_test)\n",
    "\n",
    "# Menghitung akurasi prediksi pada data testing\n",
    "accuracyModel2 = accuracy_score(y_test,model2_pred)\n",
    "print(\"Akurasi dari Model 2 (KNN) sebesar:\", accuracyModel2*100)"
   ]
  },
  {
   "cell_type": "markdown",
   "id": "4cbc40e3",
   "metadata": {},
   "source": [
    "## Support Vector Machine (SVM)"
   ]
  },
  {
   "cell_type": "markdown",
   "id": "15c7d483",
   "metadata": {},
   "source": [
    "SVM bekerja dengan mencari hyperplane (garis, bidang, atau ruang) terbaik untuk memisahkan data yang berbeda kelas atau nilai target pada sebuah ruang berdimensi tinggi. Hyperplane yang dipilih harus memaksimalkan jarak antara kelas yang berbeda sehingga dapat menghasilkan model yang akurat dan robust."
   ]
  },
  {
   "cell_type": "code",
   "execution_count": null,
   "id": "00c6bf1c",
   "metadata": {},
   "outputs": [],
   "source": [
    "# Membuat objek SVM\n",
    "model3 = SVC(kernel='linear')\n",
    "\n",
    "# Melatih model pada data training\n",
    "model3.fit(x_train, y_train)\n",
    "\n",
    "# Memprediksi kelas target pada data testing\n",
    "model3_pred = model3.predict(x_test)\n",
    "\n",
    "# Menghitung akurasi prediksi pada data testing\n",
    "accuracyModel3 = accuracy_score(y_test, model3+pred)\n",
    "print(\"Akurasi SVM:\", accuracyModel3)"
   ]
  },
  {
   "cell_type": "code",
   "execution_count": null,
   "id": "7ad341f4",
   "metadata": {},
   "outputs": [],
   "source": []
  },
  {
   "cell_type": "code",
   "execution_count": null,
   "id": "016c53b9",
   "metadata": {},
   "outputs": [],
   "source": []
  },
  {
   "cell_type": "code",
   "execution_count": null,
   "id": "fddbc6b0",
   "metadata": {},
   "outputs": [],
   "source": []
  }
 ],
 "metadata": {
  "kernelspec": {
   "display_name": "Python 3 (ipykernel)",
   "language": "python",
   "name": "python3"
  },
  "language_info": {
   "codemirror_mode": {
    "name": "ipython",
    "version": 3
   },
   "file_extension": ".py",
   "mimetype": "text/x-python",
   "name": "python",
   "nbconvert_exporter": "python",
   "pygments_lexer": "ipython3",
   "version": "3.9.12"
  },
  "toc": {
   "base_numbering": 1,
   "nav_menu": {},
   "number_sections": true,
   "sideBar": true,
   "skip_h1_title": false,
   "title_cell": "Table of Contents",
   "title_sidebar": "Contents",
   "toc_cell": false,
   "toc_position": {
    "height": "calc(100% - 180px)",
    "left": "10px",
    "top": "150px",
    "width": "371px"
   },
   "toc_section_display": true,
   "toc_window_display": true
  },
  "varInspector": {
   "cols": {
    "lenName": 16,
    "lenType": 16,
    "lenVar": 40
   },
   "kernels_config": {
    "python": {
     "delete_cmd_postfix": "",
     "delete_cmd_prefix": "del ",
     "library": "var_list.py",
     "varRefreshCmd": "print(var_dic_list())"
    },
    "r": {
     "delete_cmd_postfix": ") ",
     "delete_cmd_prefix": "rm(",
     "library": "var_list.r",
     "varRefreshCmd": "cat(var_dic_list()) "
    }
   },
   "types_to_exclude": [
    "module",
    "function",
    "builtin_function_or_method",
    "instance",
    "_Feature"
   ],
   "window_display": false
  }
 },
 "nbformat": 4,
 "nbformat_minor": 5
}
