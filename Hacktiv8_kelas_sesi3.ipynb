{
 "cells": [
  {
   "cell_type": "markdown",
   "id": "b5ea4d4f",
   "metadata": {},
   "source": [
    "# FUNCTION MODUL , PACKAGE "
   ]
  },
  {
   "cell_type": "code",
   "execution_count": 1,
   "id": "6761b359",
   "metadata": {},
   "outputs": [
    {
     "data": {
      "text/plain": [
       "3"
      ]
     },
     "execution_count": 1,
     "metadata": {},
     "output_type": "execute_result"
    }
   ],
   "source": [
    "1*3"
   ]
  },
  {
   "cell_type": "markdown",
   "id": "64e26c96",
   "metadata": {},
   "source": [
    "Def nama Funct (parameter) :\n",
    "    Logika program"
   ]
  },
  {
   "cell_type": "code",
   "execution_count": 10,
   "id": "857f98d1",
   "metadata": {},
   "outputs": [
    {
     "name": "stdout",
     "output_type": "stream",
     "text": [
      "6\n"
     ]
    }
   ],
   "source": [
    "def kali(a):\n",
    "    print(a*3)\n",
    "\n",
    "a = kali(2)"
   ]
  },
  {
   "cell_type": "code",
   "execution_count": 15,
   "id": "4586906a",
   "metadata": {},
   "outputs": [
    {
     "data": {
      "text/plain": [
       "6"
      ]
     },
     "execution_count": 15,
     "metadata": {},
     "output_type": "execute_result"
    }
   ],
   "source": [
    "def kali2(b):\n",
    "    return 2*b\n",
    "\n",
    "kali2(3)"
   ]
  },
  {
   "cell_type": "code",
   "execution_count": 16,
   "id": "ef8c8f9e",
   "metadata": {},
   "outputs": [
    {
     "data": {
      "text/plain": [
       "36"
      ]
     },
     "execution_count": 16,
     "metadata": {},
     "output_type": "execute_result"
    }
   ],
   "source": [
    "def perkalian(a,b):\n",
    "    return a*b\n",
    "\n",
    "perkalian(6,6)"
   ]
  },
  {
   "cell_type": "code",
   "execution_count": 17,
   "id": "4df4ead6",
   "metadata": {},
   "outputs": [],
   "source": [
    "x = perkalian(1,2)\n",
    "y = perkalian(3,4)\n",
    "z = perkalian(5,6)"
   ]
  },
  {
   "cell_type": "code",
   "execution_count": 18,
   "id": "189b3584",
   "metadata": {},
   "outputs": [
    {
     "name": "stdout",
     "output_type": "stream",
     "text": [
      "2 12 30\n"
     ]
    }
   ],
   "source": [
    "print(x,y,z)"
   ]
  },
  {
   "cell_type": "code",
   "execution_count": 19,
   "id": "635a277b",
   "metadata": {},
   "outputs": [],
   "source": [
    "def str_joiner (a,b,%%capture):\n",
    "    a = a.upper()\n",
    "    b = b.upper()\n",
    "    c = c."
   ]
  },
  {
   "cell_type": "code",
   "execution_count": 25,
   "id": "45cf2f50",
   "metadata": {},
   "outputs": [
    {
     "name": "stdout",
     "output_type": "stream",
     "text": [
      "okoj\n"
     ]
    }
   ],
   "source": [
    "a = \"joko\"\n",
    "b = \"hartanto\"\n",
    "\n",
    "print(a[::-1])"
   ]
  },
  {
   "cell_type": "code",
   "execution_count": 36,
   "id": "e0da2002",
   "metadata": {},
   "outputs": [
    {
     "name": "stdout",
     "output_type": "stream",
     "text": [
      "nakam uam ayas\n"
     ]
    }
   ],
   "source": [
    "#quiz 1\n",
    "# a = str(input(\" \"))\n",
    "# b = str(input(\" \"))\n",
    "# c = str(input(\" \"))\n",
    "\n",
    "def str_joiner2 (a,b,c):\n",
    "    a = a[::-1].lower()\n",
    "    b = b[::-1].lower()\n",
    "    c = c[::-1].lower()\n",
    "    print(c+'',b+'',a+'')\n",
    "\n",
    "str_joiner2(\"Saya\",\"Mau\",\"Makan\")\n",
    "    "
   ]
  },
  {
   "cell_type": "markdown",
   "id": "80947ddd",
   "metadata": {},
   "source": [
    "# Variable Global dan Lokal"
   ]
  },
  {
   "cell_type": "code",
   "execution_count": 38,
   "id": "ce051b57",
   "metadata": {},
   "outputs": [
    {
     "name": "stdout",
     "output_type": "stream",
     "text": [
      "20\n",
      "5\n"
     ]
    }
   ],
   "source": [
    "total = 20 #variabel Global\n",
    "\n",
    "def function (a,b):\n",
    "    total = a+b #variabel Lokal\n",
    "    return total\n",
    "\n",
    "print(total)\n",
    "print(function(2,3))\n"
   ]
  },
  {
   "cell_type": "code",
   "execution_count": 42,
   "id": "6c742dff",
   "metadata": {},
   "outputs": [
    {
     "name": "stdout",
     "output_type": "stream",
     "text": [
      "tes\n"
     ]
    }
   ],
   "source": [
    "def function_b():\n",
    "    test = \"tes\"\n",
    "    print(test)\n",
    "\n",
    "function_b()\n"
   ]
  },
  {
   "cell_type": "code",
   "execution_count": 80,
   "id": "dc867ffb",
   "metadata": {},
   "outputs": [
    {
     "name": "stdout",
     "output_type": "stream",
     "text": [
      "5\n",
      "7\n",
      "262\n",
      "267\n"
     ]
    }
   ],
   "source": [
    "mylist = [31,23,31,40,50,67,74,88,91,10,11,13]\n",
    "\n",
    "def list_summart(mylist):\n",
    "    ngenap = 0\n",
    "    nganjil = 0\n",
    "    sumgenap = 0\n",
    "    sumganjil = 0\n",
    "    for i  in mylist:\n",
    "        if i%2==0:\n",
    "            ngenap+=1\n",
    "            sumgenap+=i\n",
    "        else:\n",
    "            nganjil+=1\n",
    "            sumganjil+=i\n",
    "    print(ngenap)\n",
    "    print(nganjil)\n",
    "    print(sumgenap)\n",
    "    print(sumganjil)\n",
    "\n",
    "list_summart(mylist)\n",
    "        "
   ]
  },
  {
   "cell_type": "code",
   "execution_count": 77,
   "id": "6d0ee754",
   "metadata": {},
   "outputs": [
    {
     "ename": "SyntaxError",
     "evalue": "invalid syntax (2240164576.py, line 4)",
     "output_type": "error",
     "traceback": [
      "\u001b[1;36m  Input \u001b[1;32mIn [77]\u001b[1;36m\u001b[0m\n\u001b[1;33m    def fungsi\u001b[0m\n\u001b[1;37m              ^\u001b[0m\n\u001b[1;31mSyntaxError\u001b[0m\u001b[1;31m:\u001b[0m invalid syntax\n"
     ]
    }
   ],
   "source": [
    "import numpy as np\n",
    "mylist =np.array([31,23,31,40,50,67,74,88,91,10,11,13])\n",
    "\n",
    "def fungsi"
   ]
  },
  {
   "cell_type": "code",
   "execution_count": 78,
   "id": "4bb8706e",
   "metadata": {},
   "outputs": [
    {
     "name": "stdout",
     "output_type": "stream",
     "text": [
      "Nama :  Cho\n",
      "Age  :  32\n"
     ]
    }
   ],
   "source": [
    "def printinfo(name,age):\n",
    "    print(\"Nama : \",name)\n",
    "    print(\"Age  : \",age)\n",
    "\n",
    "printinfo(\"Cho\",32)"
   ]
  },
  {
   "cell_type": "code",
   "execution_count": 86,
   "id": "e9931689",
   "metadata": {},
   "outputs": [
    {
     "name": "stdout",
     "output_type": "stream",
     "text": [
      "Output is : \n",
      "2\n",
      "3\n",
      "4\n",
      "5\n",
      "cho\n",
      "(3, 4, 5, 'cho')\n"
     ]
    }
   ],
   "source": [
    "def printinfo(x, *vartuple):\n",
    "    print(\"Output is : \")\n",
    "    print(x)\n",
    "    for i in vartuple: #jadi perulangan\n",
    "        print(i)\n",
    "    print(vartuple) #jadi tuple\n",
    "\n",
    "printinfo(2,3,4,5,\"cho\")"
   ]
  },
  {
   "cell_type": "markdown",
   "id": "8285784d",
   "metadata": {},
   "source": [
    "# Lambda \n",
    "Seperti funct, tapi leibh simple dan lebih muda dieksekusi"
   ]
  },
  {
   "cell_type": "code",
   "execution_count": 87,
   "id": "86dfeecd",
   "metadata": {},
   "outputs": [
    {
     "name": "stdout",
     "output_type": "stream",
     "text": [
      "3\n"
     ]
    }
   ],
   "source": [
    "def sum(x,y):\n",
    "    return x+y\n",
    "\n",
    "print(sum(1,2))"
   ]
  },
  {
   "cell_type": "code",
   "execution_count": 88,
   "id": "1e75bdbc",
   "metadata": {},
   "outputs": [
    {
     "name": "stdout",
     "output_type": "stream",
     "text": [
      "8\n"
     ]
    }
   ],
   "source": [
    "perkalian = lambda x,y:x+y \n",
    "print(perkalian(3,5))"
   ]
  },
  {
   "cell_type": "markdown",
   "id": "16e6a935",
   "metadata": {},
   "source": [
    "# Module "
   ]
  },
  {
   "cell_type": "code",
   "execution_count": 89,
   "id": "5e103aad",
   "metadata": {},
   "outputs": [],
   "source": [
    "import numpy as np"
   ]
  },
  {
   "cell_type": "code",
   "execution_count": 90,
   "id": "7c791aac",
   "metadata": {},
   "outputs": [
    {
     "data": {
      "text/plain": [
       "3.0"
      ]
     },
     "execution_count": 90,
     "metadata": {},
     "output_type": "execute_result"
    }
   ],
   "source": [
    "np.sqrt(9)"
   ]
  },
  {
   "cell_type": "code",
   "execution_count": 91,
   "id": "0fc8c48e",
   "metadata": {},
   "outputs": [
    {
     "data": {
      "text/plain": [
       "['In',\n",
       " 'NamespaceMagics',\n",
       " 'Out',\n",
       " '_',\n",
       " '_1',\n",
       " '_13',\n",
       " '_15',\n",
       " '_16',\n",
       " '_41',\n",
       " '_6',\n",
       " '_7',\n",
       " '_90',\n",
       " '_Jupyter',\n",
       " '__',\n",
       " '___',\n",
       " '__builtin__',\n",
       " '__builtins__',\n",
       " '__doc__',\n",
       " '__loader__',\n",
       " '__name__',\n",
       " '__package__',\n",
       " '__spec__',\n",
       " '_dh',\n",
       " '_getcontentof',\n",
       " '_getshapeof',\n",
       " '_getsizeof',\n",
       " '_i',\n",
       " '_i1',\n",
       " '_i10',\n",
       " '_i11',\n",
       " '_i12',\n",
       " '_i13',\n",
       " '_i14',\n",
       " '_i15',\n",
       " '_i16',\n",
       " '_i17',\n",
       " '_i18',\n",
       " '_i19',\n",
       " '_i2',\n",
       " '_i20',\n",
       " '_i21',\n",
       " '_i22',\n",
       " '_i23',\n",
       " '_i24',\n",
       " '_i25',\n",
       " '_i26',\n",
       " '_i27',\n",
       " '_i28',\n",
       " '_i29',\n",
       " '_i3',\n",
       " '_i30',\n",
       " '_i31',\n",
       " '_i32',\n",
       " '_i33',\n",
       " '_i34',\n",
       " '_i35',\n",
       " '_i36',\n",
       " '_i37',\n",
       " '_i38',\n",
       " '_i39',\n",
       " '_i4',\n",
       " '_i40',\n",
       " '_i41',\n",
       " '_i42',\n",
       " '_i43',\n",
       " '_i44',\n",
       " '_i45',\n",
       " '_i46',\n",
       " '_i47',\n",
       " '_i48',\n",
       " '_i49',\n",
       " '_i5',\n",
       " '_i50',\n",
       " '_i51',\n",
       " '_i52',\n",
       " '_i53',\n",
       " '_i54',\n",
       " '_i55',\n",
       " '_i56',\n",
       " '_i57',\n",
       " '_i58',\n",
       " '_i59',\n",
       " '_i6',\n",
       " '_i60',\n",
       " '_i61',\n",
       " '_i62',\n",
       " '_i63',\n",
       " '_i64',\n",
       " '_i65',\n",
       " '_i66',\n",
       " '_i67',\n",
       " '_i68',\n",
       " '_i69',\n",
       " '_i7',\n",
       " '_i70',\n",
       " '_i71',\n",
       " '_i72',\n",
       " '_i73',\n",
       " '_i74',\n",
       " '_i75',\n",
       " '_i76',\n",
       " '_i77',\n",
       " '_i78',\n",
       " '_i79',\n",
       " '_i8',\n",
       " '_i80',\n",
       " '_i81',\n",
       " '_i82',\n",
       " '_i83',\n",
       " '_i84',\n",
       " '_i85',\n",
       " '_i86',\n",
       " '_i87',\n",
       " '_i88',\n",
       " '_i89',\n",
       " '_i9',\n",
       " '_i90',\n",
       " '_i91',\n",
       " '_ih',\n",
       " '_ii',\n",
       " '_iii',\n",
       " '_nms',\n",
       " '_oh',\n",
       " 'a',\n",
       " 'autopep8',\n",
       " 'b',\n",
       " 'c',\n",
       " 'exit',\n",
       " 'function',\n",
       " 'function_b',\n",
       " 'fungsi',\n",
       " 'fungsi2',\n",
       " 'funsi3',\n",
       " 'get_ipython',\n",
       " 'getsizeof',\n",
       " 'json',\n",
       " 'kali',\n",
       " 'kali2',\n",
       " 'list_kosong',\n",
       " 'list_kosong2',\n",
       " 'list_summart',\n",
       " 'lista',\n",
       " 'mylist',\n",
       " 'np',\n",
       " 'perkalian',\n",
       " 'printinfo',\n",
       " 'quit',\n",
       " 'str_joiner',\n",
       " 'str_joiner2',\n",
       " 'sum',\n",
       " 'total',\n",
       " 'var_dic_list',\n",
       " 'variabel_kali',\n",
       " 'x',\n",
       " 'y',\n",
       " 'z']"
      ]
     },
     "execution_count": 91,
     "metadata": {},
     "output_type": "execute_result"
    }
   ],
   "source": [
    "dir()"
   ]
  },
  {
   "cell_type": "code",
   "execution_count": 106,
   "id": "96f0c084",
   "metadata": {},
   "outputs": [
    {
     "name": "stdout",
     "output_type": "stream",
     "text": [
      "C:\\Users\\ASUS\\hacktiv8-msib-mazcho\\untitled.py\n",
      "[100, 200, 300]\n",
      "Hacktiv8 Python for Data-Scient\n",
      "Hacktiv8 Python for Data-Scient\n"
     ]
    }
   ],
   "source": [
    "import untitled as un #module\n",
    "print(un.__file__)\n",
    "print(un.a)\n",
    "# print(un.foo(\"Hello\"))\n",
    "\n",
    "from untitled import s as kuy\n",
    "print(kuy)\n",
    "\n",
    "from  untitled import *\n",
    "print(s)"
   ]
  },
  {
   "cell_type": "code",
   "execution_count": 96,
   "id": "ca726e7f",
   "metadata": {},
   "outputs": [
    {
     "data": {
      "text/plain": [
       "['C:\\\\Users\\\\ASUS\\\\hacktiv8-msib-mazcho',\n",
       " 'C:\\\\Users\\\\ASUS\\\\anaconda3\\\\python39.zip',\n",
       " 'C:\\\\Users\\\\ASUS\\\\anaconda3\\\\DLLs',\n",
       " 'C:\\\\Users\\\\ASUS\\\\anaconda3\\\\lib',\n",
       " 'C:\\\\Users\\\\ASUS\\\\anaconda3',\n",
       " '',\n",
       " 'C:\\\\Users\\\\ASUS\\\\anaconda3\\\\lib\\\\site-packages',\n",
       " 'C:\\\\Users\\\\ASUS\\\\anaconda3\\\\lib\\\\site-packages\\\\win32',\n",
       " 'C:\\\\Users\\\\ASUS\\\\anaconda3\\\\lib\\\\site-packages\\\\win32\\\\lib',\n",
       " 'C:\\\\Users\\\\ASUS\\\\anaconda3\\\\lib\\\\site-packages\\\\Pythonwin']"
      ]
     },
     "execution_count": 96,
     "metadata": {},
     "output_type": "execute_result"
    }
   ],
   "source": [
    "import sys\n",
    "sys.path"
   ]
  },
  {
   "cell_type": "code",
   "execution_count": 107,
   "id": "701a34ed",
   "metadata": {},
   "outputs": [],
   "source": []
  },
  {
   "cell_type": "code",
   "execution_count": 109,
   "id": "c3481201",
   "metadata": {},
   "outputs": [
    {
     "name": "stdout",
     "output_type": "stream",
     "text": [
      "Variabel ga support\n"
     ]
    }
   ],
   "source": [
    "try:\n",
    "    from untitled import hahaha\n",
    "    \n",
    "except:\n",
    "    print('Variabel ga support')"
   ]
  },
  {
   "cell_type": "code",
   "execution_count": 116,
   "id": "3a6dffa6",
   "metadata": {},
   "outputs": [
    {
     "data": {
      "text/plain": [
       "120"
      ]
     },
     "execution_count": 116,
     "metadata": {},
     "output_type": "execute_result"
    }
   ],
   "source": [
    "def fact(n):\n",
    "    return 1 if n==1 else n* fact(n-1)\n",
    "\n",
    "if(__name__se'__main__'):\n",
    "    import sys\n",
    "    if len(sys.argv)>1:\n",
    "        print()\n",
    "fact(5)"
   ]
  },
  {
   "cell_type": "code",
   "execution_count": 118,
   "id": "2e725b0c",
   "metadata": {},
   "outputs": [
    {
     "ename": "NameError",
     "evalue": "name 'untitled' is not defined",
     "output_type": "error",
     "traceback": [
      "\u001b[1;31m---------------------------------------------------------------------------\u001b[0m",
      "\u001b[1;31mNameError\u001b[0m                                 Traceback (most recent call last)",
      "Input \u001b[1;32mIn [118]\u001b[0m, in \u001b[0;36m<cell line: 2>\u001b[1;34m()\u001b[0m\n\u001b[0;32m      1\u001b[0m \u001b[38;5;28;01mimport\u001b[39;00m \u001b[38;5;21;01mimportlib\u001b[39;00m\n\u001b[1;32m----> 2\u001b[0m importlib\u001b[38;5;241m.\u001b[39mreload(\u001b[43muntitled\u001b[49m)\n",
      "\u001b[1;31mNameError\u001b[0m: name 'untitled' is not defined"
     ]
    }
   ],
   "source": [
    "import importlib\n",
    "importlib.reload(untitled)"
   ]
  },
  {
   "cell_type": "code",
   "execution_count": 119,
   "id": "33d3f059",
   "metadata": {},
   "outputs": [],
   "source": [
    "import package.untitled #import module dari package"
   ]
  },
  {
   "cell_type": "code",
   "execution_count": 121,
   "id": "dd653cee",
   "metadata": {},
   "outputs": [],
   "source": [
    "import matplotlib.pyplot as pit"
   ]
  },
  {
   "cell_type": "code",
   "execution_count": null,
   "id": "21cbbeef",
   "metadata": {},
   "outputs": [],
   "source": []
  }
 ],
 "metadata": {
  "kernelspec": {
   "display_name": "Python 3 (ipykernel)",
   "language": "python",
   "name": "python3"
  },
  "language_info": {
   "codemirror_mode": {
    "name": "ipython",
    "version": 3
   },
   "file_extension": ".py",
   "mimetype": "text/x-python",
   "name": "python",
   "nbconvert_exporter": "python",
   "pygments_lexer": "ipython3",
   "version": "3.9.12"
  },
  "toc": {
   "base_numbering": 1,
   "nav_menu": {},
   "number_sections": true,
   "sideBar": true,
   "skip_h1_title": false,
   "title_cell": "Table of Contents",
   "title_sidebar": "Contents",
   "toc_cell": false,
   "toc_position": {
    "height": "calc(100% - 180px)",
    "left": "10px",
    "top": "150px",
    "width": "212.882px"
   },
   "toc_section_display": true,
   "toc_window_display": true
  },
  "varInspector": {
   "cols": {
    "lenName": 16,
    "lenType": 16,
    "lenVar": 40
   },
   "kernels_config": {
    "python": {
     "delete_cmd_postfix": "",
     "delete_cmd_prefix": "del ",
     "library": "var_list.py",
     "varRefreshCmd": "print(var_dic_list())"
    },
    "r": {
     "delete_cmd_postfix": ") ",
     "delete_cmd_prefix": "rm(",
     "library": "var_list.r",
     "varRefreshCmd": "cat(var_dic_list()) "
    }
   },
   "types_to_exclude": [
    "module",
    "function",
    "builtin_function_or_method",
    "instance",
    "_Feature"
   ],
   "window_display": false
  }
 },
 "nbformat": 4,
 "nbformat_minor": 5
}
