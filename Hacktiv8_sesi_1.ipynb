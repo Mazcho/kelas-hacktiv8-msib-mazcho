{
 "cells": [
  {
   "cell_type": "code",
   "execution_count": 25,
   "id": "4a7ac116",
   "metadata": {},
   "outputs": [
    {
     "name": "stdout",
     "output_type": "stream",
     "text": [
      "27\n"
     ]
    }
   ],
   "source": [
    "print(25+2)\n"
   ]
  },
  {
   "cell_type": "code",
   "execution_count": 26,
   "id": "cbe52927",
   "metadata": {},
   "outputs": [
    {
     "name": "stdout",
     "output_type": "stream",
     "text": [
      "10\n",
      "<class 'int'>\n"
     ]
    }
   ],
   "source": [
    "print(10)\n",
    "print(type(10))"
   ]
  },
  {
   "cell_type": "code",
   "execution_count": 27,
   "id": "c05cf2f0",
   "metadata": {},
   "outputs": [
    {
     "name": "stdout",
     "output_type": "stream",
     "text": [
      "4.2\n",
      "<class 'float'>\n",
      "0.2\n",
      "40000000.0\n",
      "0.00042\n"
     ]
    }
   ],
   "source": [
    "print(4.2)\n",
    "print(type(4.2))\n",
    "print(.2)\n",
    "print(.4e8)\n",
    "print(4.2e-4)"
   ]
  },
  {
   "cell_type": "code",
   "execution_count": 28,
   "id": "93292861",
   "metadata": {},
   "outputs": [
    {
     "name": "stdout",
     "output_type": "stream",
     "text": [
      "Hacktiv8\n",
      "<class 'str'>\n"
     ]
    }
   ],
   "source": [
    "print(\"Hacktiv8\")\n",
    "print(type(\"hacktiv8\"))"
   ]
  },
  {
   "cell_type": "code",
   "execution_count": 29,
   "id": "d3032d3a",
   "metadata": {},
   "outputs": [
    {
     "name": "stdout",
     "output_type": "stream",
     "text": [
      "this content contain (')\n",
      "this conten contain (\"\")\n"
     ]
    }
   ],
   "source": [
    "print(\"this content contain (')\")\n",
    "print('this conten contain (\"\")')"
   ]
  },
  {
   "cell_type": "code",
   "execution_count": 30,
   "id": "0e8e01e2",
   "metadata": {},
   "outputs": [
    {
     "name": "stdout",
     "output_type": "stream",
     "text": [
      "<class 'bool'>\n",
      "<class 'bool'>\n"
     ]
    }
   ],
   "source": [
    "print(type(True))\n",
    "print(type(False))"
   ]
  },
  {
   "cell_type": "code",
   "execution_count": 31,
   "id": "dc840c79",
   "metadata": {},
   "outputs": [
    {
     "name": "stdout",
     "output_type": "stream",
     "text": [
      "300\n"
     ]
    },
    {
     "data": {
      "text/plain": [
       "300"
      ]
     },
     "execution_count": 31,
     "metadata": {},
     "output_type": "execute_result"
    }
   ],
   "source": [
    "n=300\n",
    "print(n)\n",
    "n"
   ]
  },
  {
   "cell_type": "code",
   "execution_count": 33,
   "id": "58efabf5",
   "metadata": {},
   "outputs": [
    {
     "name": "stdout",
     "output_type": "stream",
     "text": [
      "100 100 100\n"
     ]
    }
   ],
   "source": [
    "a =b =c =100\n",
    "print(a,b,c)"
   ]
  },
  {
   "cell_type": "code",
   "execution_count": 34,
   "id": "62d1e7a6",
   "metadata": {},
   "outputs": [
    {
     "name": "stdout",
     "output_type": "stream",
     "text": [
      "23.5\n",
      "now I'am  string\n"
     ]
    }
   ],
   "source": [
    "var = 23.5\n",
    "print(var)\n",
    "\n",
    "var = \"now I'am  string\"\n",
    "print(var)"
   ]
  },
  {
   "cell_type": "code",
   "execution_count": 35,
   "id": "54fe9c73",
   "metadata": {},
   "outputs": [
    {
     "name": "stdout",
     "output_type": "stream",
     "text": [
      "Hacktiv8 54 True\n"
     ]
    }
   ],
   "source": [
    "name = \"Hacktiv8\"\n",
    "age = 54\n",
    "has_laptops  = True\n",
    "print(name,age,has_laptops)"
   ]
  },
  {
   "cell_type": "code",
   "execution_count": 39,
   "id": "82a4357d",
   "metadata": {},
   "outputs": [
    {
     "name": "stdout",
     "output_type": "stream",
     "text": [
      "10 11 12 12\n"
     ]
    }
   ],
   "source": [
    "umur = 10\n",
    "Umur = 11\n",
    "u_mur = 12\n",
    "U_M_ur = 12\n",
    "print(umur,Umur,u_mur,U_M_ur)"
   ]
  },
  {
   "cell_type": "code",
   "execution_count": 40,
   "id": "d3c05b4e",
   "metadata": {},
   "outputs": [
    {
     "data": {
      "text/plain": [
       "21"
      ]
     },
     "execution_count": 40,
     "metadata": {},
     "output_type": "execute_result"
    }
   ],
   "source": [
    "a = 10\n",
    "b = 11\n",
    "a+b "
   ]
  },
  {
   "cell_type": "code",
   "execution_count": 41,
   "id": "49f4c182",
   "metadata": {},
   "outputs": [
    {
     "name": "stdout",
     "output_type": "stream",
     "text": [
      "7\n",
      "1\n",
      "12\n",
      "1.3333333333333333\n",
      "1\n",
      "1\n",
      "64\n"
     ]
    }
   ],
   "source": [
    "a = 4\n",
    "b = 3\n",
    "print(a+b)\n",
    "print(a-b)\n",
    "print(a*b)\n",
    "print(a/b)\n",
    "print(a//b)\n",
    "print(a%b)\n",
    "print(a**b)"
   ]
  },
  {
   "cell_type": "code",
   "execution_count": 43,
   "id": "478bb5bb",
   "metadata": {},
   "outputs": [
    {
     "name": "stdout",
     "output_type": "stream",
     "text": [
      "False\n",
      "True\n",
      "True\n",
      "False\n",
      "True\n",
      "True\n",
      "True\n"
     ]
    }
   ],
   "source": [
    "a = 10\n",
    "b = 20\n",
    "print(a==b)\n",
    "print(a!=b)\n",
    "print(a<=b)\n",
    "print(a>=b)\n",
    "\n",
    "a=30\n",
    "b=30\n",
    "print(a==b)\n",
    "print(a<=b)\n",
    "print(a>=b)"
   ]
  },
  {
   "cell_type": "code",
   "execution_count": 44,
   "id": "b8e4d26b",
   "metadata": {},
   "outputs": [
    {
     "name": "stdout",
     "output_type": "stream",
     "text": [
      "foobar\n",
      "foobarbaz\n"
     ]
    }
   ],
   "source": [
    "s ='foo'\n",
    "t = 'bar'\n",
    "u = 'baz'\n",
    "print(s+t)\n",
    "print(s+t+u)"
   ]
  },
  {
   "cell_type": "code",
   "execution_count": 45,
   "id": "fc889771",
   "metadata": {},
   "outputs": [
    {
     "name": "stdout",
     "output_type": "stream",
     "text": [
      "hacktiv8foo\n"
     ]
    }
   ],
   "source": [
    "print('hacktiv8'+s)"
   ]
  },
  {
   "cell_type": "code",
   "execution_count": 46,
   "id": "4fc54d84",
   "metadata": {},
   "outputs": [
    {
     "name": "stdout",
     "output_type": "stream",
     "text": [
      "foofoofoofoo\n"
     ]
    }
   ],
   "source": [
    "s = 'foo'\n",
    "d = 4\n",
    "\n",
    "print(s*4)"
   ]
  },
  {
   "cell_type": "code",
   "execution_count": 1,
   "id": "ef8a94fe",
   "metadata": {},
   "outputs": [
    {
     "name": "stdout",
     "output_type": "stream",
     "text": [
      "True\n",
      "False\n"
     ]
    }
   ],
   "source": [
    "s = 'foo'\n",
    "print(s in \"That food for us\")\n",
    "print(s in \"that good for us\")\n"
   ]
  },
  {
   "cell_type": "code",
   "execution_count": 5,
   "id": "7f63f54a",
   "metadata": {},
   "outputs": [
    {
     "name": "stdout",
     "output_type": "stream",
     "text": [
      "Hacktiv8\n",
      "hacktiv8\n",
      "hACKtiv8\n",
      "Hacktiv8\n",
      "HACKTIV8\n"
     ]
    }
   ],
   "source": [
    "s= 'HackTIV8'\n",
    "print(s.capitalize())\n",
    "print(s.lower())\n",
    "print(s.swapcase())\n",
    "print(s.title())\n",
    "print(s.upper())"
   ]
  },
  {
   "cell_type": "code",
   "execution_count": 1,
   "id": "0da415a1",
   "metadata": {},
   "outputs": [
    {
     "data": {
      "text/plain": [
       "['foo', 'bar', 'xyz', 'kuy']"
      ]
     },
     "execution_count": 1,
     "metadata": {},
     "output_type": "execute_result"
    }
   ],
   "source": [
    "a = ['foo','bar','xyz','kuy']\n",
    "a"
   ]
  },
  {
   "cell_type": "code",
   "execution_count": 2,
   "id": "be58564a",
   "metadata": {},
   "outputs": [],
   "source": [
    "a = ['foo','bar','xyz','kuy']\n",
    "b = ['bar','foo','xyz','kuy']"
   ]
  },
  {
   "cell_type": "code",
   "execution_count": 3,
   "id": "892487bc",
   "metadata": {},
   "outputs": [
    {
     "data": {
      "text/plain": [
       "False"
      ]
     },
     "execution_count": 3,
     "metadata": {},
     "output_type": "execute_result"
    }
   ],
   "source": [
    "a==b"
   ]
  },
  {
   "cell_type": "code",
   "execution_count": 4,
   "id": "3d843c79",
   "metadata": {},
   "outputs": [
    {
     "data": {
      "text/plain": [
       "[21.1, 'foo', 98, 'barking']"
      ]
     },
     "execution_count": 4,
     "metadata": {},
     "output_type": "execute_result"
    }
   ],
   "source": [
    "a = [21.1,'foo',98,'barking']\n",
    "a"
   ]
  },
  {
   "cell_type": "code",
   "execution_count": 5,
   "id": "989a07b3",
   "metadata": {},
   "outputs": [
    {
     "data": {
      "text/plain": [
       "'kuy'"
      ]
     },
     "execution_count": 5,
     "metadata": {},
     "output_type": "execute_result"
    }
   ],
   "source": [
    "a = ['foo','bar','xyz','kuy']\n",
    "a[1]\n",
    "a[3]"
   ]
  },
  {
   "cell_type": "code",
   "execution_count": 6,
   "id": "60ecdac0",
   "metadata": {},
   "outputs": [
    {
     "name": "stdout",
     "output_type": "stream",
     "text": [
      "bar\n",
      "xyz\n"
     ]
    }
   ],
   "source": [
    "print(a[1])\n",
    "print(a[2])"
   ]
  },
  {
   "cell_type": "code",
   "execution_count": 7,
   "id": "9b12b420",
   "metadata": {},
   "outputs": [
    {
     "name": "stdout",
     "output_type": "stream",
     "text": [
      "xyz\n",
      "kuy\n"
     ]
    }
   ],
   "source": [
    "print(a[-2])\n",
    "print(a[-1])"
   ]
  },
  {
   "cell_type": "code",
   "execution_count": 8,
   "id": "450c9020",
   "metadata": {},
   "outputs": [
    {
     "data": {
      "text/plain": [
       "['xyz', 'kuy']"
      ]
     },
     "execution_count": 8,
     "metadata": {},
     "output_type": "execute_result"
    }
   ],
   "source": [
    "a = ['foo','bar','xyz','kuy']\n",
    "a[2:5]"
   ]
  },
  {
   "cell_type": "code",
   "execution_count": 9,
   "id": "d73729cc",
   "metadata": {},
   "outputs": [
    {
     "data": {
      "text/plain": [
       "['xyz', 'kuy']"
      ]
     },
     "execution_count": 9,
     "metadata": {},
     "output_type": "execute_result"
    }
   ],
   "source": [
    "a[2:4]"
   ]
  },
  {
   "cell_type": "code",
   "execution_count": 10,
   "id": "db9e4185",
   "metadata": {},
   "outputs": [
    {
     "data": {
      "text/plain": [
       "['foo', 'bar', 'xyz', 'kuy']"
      ]
     },
     "execution_count": 10,
     "metadata": {},
     "output_type": "execute_result"
    }
   ],
   "source": [
    "a[:4]"
   ]
  },
  {
   "cell_type": "code",
   "execution_count": 11,
   "id": "e8fa34e8",
   "metadata": {},
   "outputs": [
    {
     "data": {
      "text/plain": [
       "['foo', 'bar', 'xyz']"
      ]
     },
     "execution_count": 11,
     "metadata": {},
     "output_type": "execute_result"
    }
   ],
   "source": [
    "a[:3]"
   ]
  },
  {
   "cell_type": "code",
   "execution_count": 12,
   "id": "ac0028d3",
   "metadata": {},
   "outputs": [
    {
     "data": {
      "text/plain": [
       "['xyz', 'kuy']"
      ]
     },
     "execution_count": 12,
     "metadata": {},
     "output_type": "execute_result"
    }
   ],
   "source": [
    "a[2:]"
   ]
  },
  {
   "cell_type": "code",
   "execution_count": 13,
   "id": "5a486e19",
   "metadata": {},
   "outputs": [
    {
     "data": {
      "text/plain": [
       "['foo', 'bar', 'xyz', 'kuy']"
      ]
     },
     "execution_count": 13,
     "metadata": {},
     "output_type": "execute_result"
    }
   ],
   "source": [
    "a[:]"
   ]
  },
  {
   "cell_type": "code",
   "execution_count": 14,
   "id": "e78c75cb",
   "metadata": {},
   "outputs": [
    {
     "data": {
      "text/plain": [
       "['kuy']"
      ]
     },
     "execution_count": 14,
     "metadata": {},
     "output_type": "execute_result"
    }
   ],
   "source": [
    "a[3:]\n"
   ]
  },
  {
   "cell_type": "code",
   "execution_count": 15,
   "id": "0535e982",
   "metadata": {},
   "outputs": [
    {
     "data": {
      "text/plain": [
       "['foo', 'bar']"
      ]
     },
     "execution_count": 15,
     "metadata": {},
     "output_type": "execute_result"
    }
   ],
   "source": [
    "a[:2]"
   ]
  },
  {
   "cell_type": "code",
   "execution_count": 16,
   "id": "e15eca4e",
   "metadata": {},
   "outputs": [
    {
     "name": "stdout",
     "output_type": "stream",
     "text": [
      "['foo', 'bar', 'xyz', 'kuy']\n"
     ]
    }
   ],
   "source": [
    "print(a)"
   ]
  },
  {
   "cell_type": "code",
   "execution_count": 17,
   "id": "e40af732",
   "metadata": {},
   "outputs": [
    {
     "name": "stdout",
     "output_type": "stream",
     "text": [
      "['foo', 'bar', 'xyz', 'kuy', 'Nicho', 'kuyha']\n"
     ]
    }
   ],
   "source": [
    "print(a+['Nicho',\"kuyha\"])"
   ]
  },
  {
   "cell_type": "code",
   "execution_count": 18,
   "id": "cfbdf270",
   "metadata": {},
   "outputs": [
    {
     "name": "stdout",
     "output_type": "stream",
     "text": [
      "['foo', 'bar', 'xyz', 'kuy', 'foo', 'bar', 'xyz', 'kuy']\n"
     ]
    }
   ],
   "source": [
    "print(a*2)"
   ]
  },
  {
   "cell_type": "code",
   "execution_count": 19,
   "id": "c89ccbbd",
   "metadata": {},
   "outputs": [
    {
     "name": "stdout",
     "output_type": "stream",
     "text": [
      "4\n"
     ]
    }
   ],
   "source": [
    "print(len(a))"
   ]
  },
  {
   "cell_type": "code",
   "execution_count": 20,
   "id": "2e6431f9",
   "metadata": {},
   "outputs": [
    {
     "name": "stdout",
     "output_type": "stream",
     "text": [
      "bar\n"
     ]
    }
   ],
   "source": [
    "print(min(a))"
   ]
  },
  {
   "cell_type": "code",
   "execution_count": 21,
   "id": "7de63cf4",
   "metadata": {},
   "outputs": [
    {
     "name": "stdout",
     "output_type": "stream",
     "text": [
      "xyz\n"
     ]
    }
   ],
   "source": [
    "print(max(a))"
   ]
  },
  {
   "cell_type": "code",
   "execution_count": 22,
   "id": "ff16ea7f",
   "metadata": {},
   "outputs": [
    {
     "name": "stdout",
     "output_type": "stream",
     "text": [
      "5\n"
     ]
    }
   ],
   "source": [
    "print(len(\"Nicho\"))"
   ]
  },
  {
   "cell_type": "code",
   "execution_count": 23,
   "id": "8e82bd9c",
   "metadata": {},
   "outputs": [
    {
     "name": "stdout",
     "output_type": "stream",
     "text": [
      "Asli nicho\n"
     ]
    }
   ],
   "source": [
    " k = \"Nicho\"\n",
    "if len(k)==5:\n",
    "    print(\"Asli nicho\")\n",
    "else:\n",
    "    print(\"BUkan nicho\")"
   ]
  },
  {
   "cell_type": "code",
   "execution_count": 24,
   "id": "5f55379f",
   "metadata": {},
   "outputs": [
    {
     "name": "stdout",
     "output_type": "stream",
     "text": [
      "xyz\n"
     ]
    }
   ],
   "source": [
    "a = ['foo','bar','xyz','kuy']\n",
    "print(a[2])"
   ]
  },
  {
   "cell_type": "code",
   "execution_count": 25,
   "id": "0605377e",
   "metadata": {},
   "outputs": [],
   "source": [
    "a[1] = \"okeok\""
   ]
  },
  {
   "cell_type": "code",
   "execution_count": 26,
   "id": "1238de0e",
   "metadata": {},
   "outputs": [
    {
     "data": {
      "text/plain": [
       "['foo', 'okeok', 'ninja', 'kuy']"
      ]
     },
     "execution_count": 26,
     "metadata": {},
     "output_type": "execute_result"
    }
   ],
   "source": [
    "a[2] = \"ninja\"\n",
    "a"
   ]
  },
  {
   "cell_type": "code",
   "execution_count": 27,
   "id": "73ad461f",
   "metadata": {},
   "outputs": [],
   "source": [
    "del a[2]"
   ]
  },
  {
   "cell_type": "code",
   "execution_count": 28,
   "id": "711bc855",
   "metadata": {},
   "outputs": [
    {
     "data": {
      "text/plain": [
       "['foo', 'okeok', 'kuy']"
      ]
     },
     "execution_count": 28,
     "metadata": {},
     "output_type": "execute_result"
    }
   ],
   "source": [
    "a\n"
   ]
  },
  {
   "cell_type": "code",
   "execution_count": 29,
   "id": "51663753",
   "metadata": {},
   "outputs": [
    {
     "name": "stdout",
     "output_type": "stream",
     "text": [
      "['bar', 'xyz']\n"
     ]
    },
    {
     "data": {
      "text/plain": [
       "['foo', 'bar', 'xyz', 'kuy']"
      ]
     },
     "execution_count": 29,
     "metadata": {},
     "output_type": "execute_result"
    }
   ],
   "source": [
    "a = ['foo','bar','xyz','kuy']\n",
    "print(a[1:3])\n",
    "a"
   ]
  },
  {
   "cell_type": "code",
   "execution_count": 30,
   "id": "9c7a733b",
   "metadata": {},
   "outputs": [
    {
     "name": "stdout",
     "output_type": "stream",
     "text": [
      "['foo', 1.2, 3.4, 5.6, 'kuy']\n"
     ]
    }
   ],
   "source": [
    "a[1:3] = [1.2,3.4,5.6]\n",
    "print(a)"
   ]
  },
  {
   "cell_type": "code",
   "execution_count": 31,
   "id": "cfcb8eea",
   "metadata": {},
   "outputs": [
    {
     "data": {
      "text/plain": [
       "[1.2, 3.4, 5.6]"
      ]
     },
     "execution_count": 31,
     "metadata": {},
     "output_type": "execute_result"
    }
   ],
   "source": [
    "a[1:4]"
   ]
  },
  {
   "cell_type": "code",
   "execution_count": 32,
   "id": "3c7a1a0a",
   "metadata": {},
   "outputs": [
    {
     "data": {
      "text/plain": [
       "(1, 2, 3.4, 'Nicho')"
      ]
     },
     "execution_count": 32,
     "metadata": {},
     "output_type": "execute_result"
    }
   ],
   "source": [
    "tu = (1,2,3.4,\"Nicho\")\n",
    "tu"
   ]
  },
  {
   "cell_type": "code",
   "execution_count": 33,
   "id": "e49d3063",
   "metadata": {},
   "outputs": [
    {
     "ename": "NameError",
     "evalue": "name 'yu' is not defined",
     "output_type": "error",
     "traceback": [
      "\u001b[1;31m---------------------------------------------------------------------------\u001b[0m",
      "\u001b[1;31mNameError\u001b[0m                                 Traceback (most recent call last)",
      "Input \u001b[1;32mIn [33]\u001b[0m, in \u001b[0;36m<cell line: 1>\u001b[1;34m()\u001b[0m\n\u001b[1;32m----> 1\u001b[0m \u001b[38;5;28;01mdel\u001b[39;00m \u001b[43myu\u001b[49m[\u001b[38;5;241m3\u001b[39m]\n",
      "\u001b[1;31mNameError\u001b[0m: name 'yu' is not defined"
     ]
    }
   ],
   "source": [
    "del yu[3]"
   ]
  },
  {
   "cell_type": "code",
   "execution_count": 34,
   "id": "7204482c",
   "metadata": {},
   "outputs": [
    {
     "ename": "TypeError",
     "evalue": "'tuple' object doesn't support item deletion",
     "output_type": "error",
     "traceback": [
      "\u001b[1;31m---------------------------------------------------------------------------\u001b[0m",
      "\u001b[1;31mTypeError\u001b[0m                                 Traceback (most recent call last)",
      "Input \u001b[1;32mIn [34]\u001b[0m, in \u001b[0;36m<cell line: 1>\u001b[1;34m()\u001b[0m\n\u001b[1;32m----> 1\u001b[0m \u001b[38;5;28;01mdel\u001b[39;00m tu[\u001b[38;5;241m3\u001b[39m]\n",
      "\u001b[1;31mTypeError\u001b[0m: 'tuple' object doesn't support item deletion"
     ]
    }
   ],
   "source": [
    "del tu[3]"
   ]
  },
  {
   "cell_type": "code",
   "execution_count": 35,
   "id": "212d403e",
   "metadata": {},
   "outputs": [
    {
     "name": "stdout",
     "output_type": "stream",
     "text": [
      "3.4\n",
      "Nicho\n"
     ]
    }
   ],
   "source": [
    "print(tu[2])\n",
    "print(tu[-1])"
   ]
  },
  {
   "cell_type": "code",
   "execution_count": 36,
   "id": "d9b22d21",
   "metadata": {},
   "outputs": [],
   "source": [
    "(p1,p2,p3,p4,p5) = (\"Jett\",\"Raze\",\"Brim\",\"Sova\",\"Sage\")"
   ]
  },
  {
   "cell_type": "code",
   "execution_count": 37,
   "id": "8c09c2e8",
   "metadata": {},
   "outputs": [
    {
     "name": "stdout",
     "output_type": "stream",
     "text": [
      "Jett\n"
     ]
    }
   ],
   "source": [
    "print(p1)"
   ]
  },
  {
   "cell_type": "code",
   "execution_count": 38,
   "id": "ee84e9ac",
   "metadata": {},
   "outputs": [
    {
     "name": "stdout",
     "output_type": "stream",
     "text": [
      "Brim\n"
     ]
    }
   ],
   "source": [
    "print(p3)"
   ]
  },
  {
   "cell_type": "code",
   "execution_count": 39,
   "id": "a11bce3c",
   "metadata": {},
   "outputs": [
    {
     "name": "stdout",
     "output_type": "stream",
     "text": [
      "123\n"
     ]
    }
   ],
   "source": [
    "kamusku = {\n",
    "    \"nicho\":123,\n",
    "    \"endru\":234,\n",
    "    \"hanif\":567\n",
    "}\n",
    "\n",
    "print(kamusku[\"nicho\"])"
   ]
  },
  {
   "cell_type": "code",
   "execution_count": 42,
   "id": "0b8836b8",
   "metadata": {},
   "outputs": [
    {
     "name": "stdout",
     "output_type": "stream",
     "text": [
      "234\n"
     ]
    }
   ],
   "source": [
    "print(kamusku[\"endru\"])"
   ]
  },
  {
   "cell_type": "code",
   "execution_count": 44,
   "id": "eb558b2b",
   "metadata": {},
   "outputs": [
    {
     "name": "stdout",
     "output_type": "stream",
     "text": [
      "Vandal\n",
      "Operator\n"
     ]
    }
   ],
   "source": [
    "senjataku = {\n",
    "    \"rifle\":\"Vandal\",\n",
    "    \"sniper\":\"Operator\"\n",
    "}\n",
    "print(senjataku[\"rifle\"])\n",
    "print(senjataku[\"sniper\"])"
   ]
  },
  {
   "cell_type": "code",
   "execution_count": 45,
   "id": "4b66ce51",
   "metadata": {},
   "outputs": [
    {
     "data": {
      "text/plain": [
       "{'rifle': 'Vandal', 'sniper': 'Operator'}"
      ]
     },
     "execution_count": 45,
     "metadata": {},
     "output_type": "execute_result"
    }
   ],
   "source": [
    "senjataku"
   ]
  },
  {
   "cell_type": "code",
   "execution_count": 46,
   "id": "b8afe960",
   "metadata": {},
   "outputs": [
    {
     "data": {
      "text/plain": [
       "{'rifle': 'Vandal', 'sniper': 'Operator', 'pistol': 'ghost'}"
      ]
     },
     "execution_count": 46,
     "metadata": {},
     "output_type": "execute_result"
    }
   ],
   "source": [
    "senjataku[\"pistol\"] = 'ghost'\n",
    "senjataku"
   ]
  },
  {
   "cell_type": "code",
   "execution_count": 47,
   "id": "4640a9b7",
   "metadata": {},
   "outputs": [],
   "source": [
    "senjataku[\"rifle\"] = \"phantom\""
   ]
  },
  {
   "cell_type": "code",
   "execution_count": 48,
   "id": "2d2ec316",
   "metadata": {},
   "outputs": [
    {
     "data": {
      "text/plain": [
       "{'rifle': 'phantom', 'sniper': 'Operator', 'pistol': 'ghost'}"
      ]
     },
     "execution_count": 48,
     "metadata": {},
     "output_type": "execute_result"
    }
   ],
   "source": [
    "senjataku\n"
   ]
  },
  {
   "cell_type": "code",
   "execution_count": 55,
   "id": "0ff817a9",
   "metadata": {},
   "outputs": [
    {
     "data": {
      "text/plain": [
       "{'sniper': 'Operator', 'pistol': 'ghost'}"
      ]
     },
     "execution_count": 55,
     "metadata": {},
     "output_type": "execute_result"
    }
   ],
   "source": [
    "senjataku"
   ]
  },
  {
   "cell_type": "code",
   "execution_count": 56,
   "id": "a0c4ece1",
   "metadata": {},
   "outputs": [],
   "source": [
    "del senjataku[\"pistol\"]"
   ]
  },
  {
   "cell_type": "code",
   "execution_count": 57,
   "id": "6a181e38",
   "metadata": {},
   "outputs": [
    {
     "data": {
      "text/plain": [
       "{'sniper': 'Operator'}"
      ]
     },
     "execution_count": 57,
     "metadata": {},
     "output_type": "execute_result"
    }
   ],
   "source": [
    "senjataku"
   ]
  },
  {
   "cell_type": "code",
   "execution_count": 58,
   "id": "44a639a4",
   "metadata": {},
   "outputs": [
    {
     "data": {
      "text/plain": [
       "{'sniper': 'Operator', 'Rifle': 'Phantom'}"
      ]
     },
     "execution_count": 58,
     "metadata": {},
     "output_type": "execute_result"
    }
   ],
   "source": [
    "senjataku[\"Rifle\"]=\"Phantom\"\n",
    "senjataku"
   ]
  },
  {
   "cell_type": "code",
   "execution_count": 60,
   "id": "eb45150a",
   "metadata": {},
   "outputs": [],
   "source": [
    "mahasiswa ={}\n",
    "type(mahasiswa)\n",
    "\n",
    "mahasiswa['fname'] = \"Nicholaus\"\n",
    "mahasiswa['lname'] = \"Putranto\"\n",
    "mahasiswa['nim']=\"A11.2020.12447\"\n",
    "mahasiswa['jurusan']='Teknik Informatika'\n",
    "mahasiswa['hobi']=['maingame','koding','tidur'] #list\n",
    "mahasiswa['hewan']={\"anjing\":\"Tongki\",\"Anjing\":\"Moly\"}"
   ]
  },
  {
   "cell_type": "code",
   "execution_count": 61,
   "id": "a099adca",
   "metadata": {},
   "outputs": [
    {
     "data": {
      "text/plain": [
       "{'fname': 'Nicholaus',\n",
       " 'lname': 'Putranto',\n",
       " 'nim': 'A11.2020.12447',\n",
       " 'jurusan': 'Teknik Informatika',\n",
       " 'hobi': ['maingame', 'koding', 'tidur'],\n",
       " 'hewan': {'anjing': 'Tongki', 'Anjing': 'Moly'}}"
      ]
     },
     "execution_count": 61,
     "metadata": {},
     "output_type": "execute_result"
    }
   ],
   "source": [
    "mahasiswa"
   ]
  },
  {
   "cell_type": "code",
   "execution_count": 62,
   "id": "93ff642f",
   "metadata": {},
   "outputs": [
    {
     "name": "stdout",
     "output_type": "stream",
     "text": [
      "dict_items([('fname', 'Nicholaus'), ('lname', 'Putranto'), ('nim', 'A11.2020.12447'), ('jurusan', 'Teknik Informatika'), ('hobi', ['maingame', 'koding', 'tidur']), ('hewan', {'anjing': 'Tongki', 'Anjing': 'Moly'})])\n"
     ]
    }
   ],
   "source": [
    "print(mahasiswa.items())"
   ]
  },
  {
   "cell_type": "code",
   "execution_count": 63,
   "id": "d4aa38c2",
   "metadata": {},
   "outputs": [
    {
     "name": "stdout",
     "output_type": "stream",
     "text": [
      "dict_keys(['fname', 'lname', 'nim', 'jurusan', 'hobi', 'hewan'])\n"
     ]
    }
   ],
   "source": [
    "print(mahasiswa.keys())"
   ]
  },
  {
   "cell_type": "code",
   "execution_count": 64,
   "id": "e3bc3adb",
   "metadata": {},
   "outputs": [
    {
     "name": "stdout",
     "output_type": "stream",
     "text": [
      "dict_values(['Nicholaus', 'Putranto', 'A11.2020.12447', 'Teknik Informatika', ['maingame', 'koding', 'tidur'], {'anjing': 'Tongki', 'Anjing': 'Moly'}])\n"
     ]
    }
   ],
   "source": [
    "print(mahasiswa.values())"
   ]
  },
  {
   "cell_type": "code",
   "execution_count": 65,
   "id": "515ae8c3",
   "metadata": {},
   "outputs": [],
   "source": [
    "umur1 = 20\n",
    "umur2 = 40\n",
    "umur3 = 50\n",
    "\n",
    "jika_seseorang_sedang_bekerja = (umur1<=umur2) or (umur2>=umu1) and (umur3 > umur1)"
   ]
  },
  {
   "cell_type": "code",
   "execution_count": 66,
   "id": "8e3ff104",
   "metadata": {},
   "outputs": [
    {
     "data": {
      "text/plain": [
       "True"
      ]
     },
     "execution_count": 66,
     "metadata": {},
     "output_type": "execute_result"
    }
   ],
   "source": [
    "jika_seseorang_sedang_bekerja"
   ]
  },
  {
   "cell_type": "code",
   "execution_count": null,
   "id": "97b301ac",
   "metadata": {},
   "outputs": [],
   "source": []
  }
 ],
 "metadata": {
  "kernelspec": {
   "display_name": "Python 3 (ipykernel)",
   "language": "python",
   "name": "python3"
  },
  "language_info": {
   "codemirror_mode": {
    "name": "ipython",
    "version": 3
   },
   "file_extension": ".py",
   "mimetype": "text/x-python",
   "name": "python",
   "nbconvert_exporter": "python",
   "pygments_lexer": "ipython3",
   "version": "3.9.12"
  }
 },
 "nbformat": 4,
 "nbformat_minor": 5
}
